{
 "cells": [
  {
   "cell_type": "markdown",
   "metadata": {
    "cell_style": "center"
   },
   "source": [
    "<bu> <font color=blue size=5>Python Bootcamp | UC Davis | September 16th 2017 </font> </bu> <br>\n",
    "\n",
    "<b> Section 1 and 2: Basic Operations in Python </b><br>\n",
    "<i>Taposh Roy</i><br>\n",
    "<i>taposh.d.roy@kp.org</i> \n",
    "<hr>"
   ]
  },
  {
   "cell_type": "markdown",
   "metadata": {
    "cell_style": "center"
   },
   "source": [
    "<img src=\"data/syl.png\" width=\"700\" align=\"left\">"
   ]
  },
  {
   "cell_type": "markdown",
   "metadata": {},
   "source": [
    "# Background "
   ]
  },
  {
   "cell_type": "markdown",
   "metadata": {},
   "source": [
    "** Why Python ? ** <br/>\n",
    "<img src=\"data/kdn1.png\" width=\"600\" align=\"left\">"
   ]
  },
  {
   "cell_type": "markdown",
   "metadata": {},
   "source": [
    "**Solving the “Two-Language” Problem** <br> <br>\n",
    "In many organizations, it is common to research, prototype, and test new ideas using\n",
    "a more domain-specific computing language like MATLAB or R then later port those\n",
    "ideas to be part of a larger production system written in, say, Java, C#, or C++. <br>\n",
    "1What people are increasingly finding is that Python is a suitable language not only for doing\n",
    "research and prototyping but also building the production systems, too. "
   ]
  },
  {
   "cell_type": "markdown",
   "metadata": {},
   "source": [
    "**Make Sure Python is installed and it works on command line**"
   ]
  },
  {
   "cell_type": "markdown",
   "metadata": {},
   "source": [
    "<img src=\"data/shell_py.png\" align=\"left\">"
   ]
  },
  {
   "cell_type": "markdown",
   "metadata": {},
   "source": [
    "**Make Sure Python is installed and Jupyter Notebook works** <br>\n",
    "type \"jupyter\" on command line"
   ]
  },
  {
   "cell_type": "markdown",
   "metadata": {},
   "source": [
    "**Pycharm Editor**<br>\n",
    "<img src=\"data/pycharm.png\" width=600 align=\"left\">"
   ]
  },
  {
   "cell_type": "markdown",
   "metadata": {},
   "source": [
    "**Other tools**\n",
    " - Sublime Text\n",
    " - Anaconda - Spyder editor\n",
    " - Atom editor"
   ]
  },
  {
   "cell_type": "markdown",
   "metadata": {},
   "source": [
    "#  Basic Operations in Python"
   ]
  },
  {
   "cell_type": "raw",
   "metadata": {},
   "source": [
    "Note:Shell commands can be invoked using \"!\" followed by shellcommand. This was done in R using (#rm(list=ls()) command.\n",
    "!clear"
   ]
  },
  {
   "cell_type": "code",
   "execution_count": 297,
   "metadata": {
    "collapsed": false
   },
   "outputs": [
    {
     "name": "stdout",
     "output_type": "stream",
     "text": [
      "/Users/taposh/anaconda/bin/python\r\n"
     ]
    }
   ],
   "source": [
    "!which python"
   ]
  },
  {
   "cell_type": "code",
   "execution_count": 298,
   "metadata": {
    "collapsed": false
   },
   "outputs": [
    {
     "name": "stdout",
     "output_type": "stream",
     "text": [
      "Python 3.5.2 :: Anaconda custom (x86_64)\r\n"
     ]
    }
   ],
   "source": [
    "!python --version"
   ]
  },
  {
   "cell_type": "code",
   "execution_count": 300,
   "metadata": {
    "collapsed": false
   },
   "outputs": [
    {
     "name": "stdout",
     "output_type": "stream",
     "text": [
      "Requirement already satisfied: numpy in /Users/taposh/anaconda/lib/python3.5/site-packages\n",
      "Requirement already satisfied: pandas in /Users/taposh/anaconda/lib/python3.5/site-packages\n",
      "Requirement already satisfied: python-dateutil>=2 in /Users/taposh/anaconda/lib/python3.5/site-packages (from pandas)\n",
      "Requirement already satisfied: pytz>=2011k in /Users/taposh/anaconda/lib/python3.5/site-packages (from pandas)\n",
      "Requirement already satisfied: numpy>=1.7.0 in /Users/taposh/anaconda/lib/python3.5/site-packages (from pandas)\n",
      "Requirement already satisfied: six>=1.5 in /Users/taposh/anaconda/lib/python3.5/site-packages (from python-dateutil>=2->pandas)\n",
      "Requirement already satisfied: patsy in /Users/taposh/anaconda/lib/python3.5/site-packages\n",
      "Requirement already satisfied: six in /Users/taposh/anaconda/lib/python3.5/site-packages (from patsy)\n",
      "Requirement already satisfied: numpy in /Users/taposh/anaconda/lib/python3.5/site-packages (from patsy)\n",
      "Requirement already satisfied: matplotlib in /Users/taposh/anaconda/lib/python3.5/site-packages\n",
      "Requirement already satisfied: numpy>=1.7.1 in /Users/taposh/anaconda/lib/python3.5/site-packages (from matplotlib)\n",
      "Requirement already satisfied: six>=1.10 in /Users/taposh/anaconda/lib/python3.5/site-packages (from matplotlib)\n",
      "Requirement already satisfied: python-dateutil in /Users/taposh/anaconda/lib/python3.5/site-packages (from matplotlib)\n",
      "Requirement already satisfied: pytz in /Users/taposh/anaconda/lib/python3.5/site-packages (from matplotlib)\n",
      "Requirement already satisfied: cycler>=0.10 in /Users/taposh/anaconda/lib/python3.5/site-packages (from matplotlib)\n",
      "Requirement already satisfied: pyparsing!=2.0.4,!=2.1.2,!=2.1.6,>=1.5.6 in /Users/taposh/anaconda/lib/python3.5/site-packages (from matplotlib)\n",
      "Collecting sklearn\n",
      "  Downloading sklearn-0.0.tar.gz\n",
      "Requirement already satisfied: scikit-learn in /Users/taposh/anaconda/lib/python3.5/site-packages (from sklearn)\n",
      "Building wheels for collected packages: sklearn\n",
      "  Running setup.py bdist_wheel for sklearn ... \u001b[?25l-\b \b\\\b \bdone\n",
      "\u001b[?25h  Stored in directory: /Users/taposh/Library/Caches/pip/wheels/d7/db/a3/1b8041ab0be63b5c96c503df8e757cf205c2848cf9ef55f85e\n",
      "Successfully built sklearn\n",
      "Installing collected packages: sklearn\n",
      "Successfully installed sklearn-0.0\n"
     ]
    }
   ],
   "source": [
    "!pip install numpy\n",
    "!pip install pandas\n",
    "!pip install patsy\n",
    "!pip install matplotlib\n",
    "!pip install sklearn"
   ]
  },
  {
   "cell_type": "markdown",
   "metadata": {},
   "source": [
    "## Basic Operations in Python"
   ]
  },
  {
   "cell_type": "code",
   "execution_count": 301,
   "metadata": {
    "collapsed": false
   },
   "outputs": [
    {
     "data": {
      "text/plain": [
       "6"
      ]
     },
     "execution_count": 301,
     "metadata": {},
     "output_type": "execute_result"
    }
   ],
   "source": [
    "#Pretty advanced stuff.\n",
    "2*3"
   ]
  },
  {
   "cell_type": "code",
   "execution_count": 302,
   "metadata": {
    "collapsed": false
   },
   "outputs": [
    {
     "data": {
      "text/plain": [
       "6"
      ]
     },
     "execution_count": 302,
     "metadata": {},
     "output_type": "execute_result"
    }
   ],
   "source": [
    "#Store values and carry out operations.\n",
    "x = 2; y = 3; x*y "
   ]
  },
  {
   "cell_type": "code",
   "execution_count": 303,
   "metadata": {
    "collapsed": false
   },
   "outputs": [
    {
     "name": "stdout",
     "output_type": "stream",
     "text": [
      "[1, 2, 3, 4, 5]\n",
      "[1, 2, 3, 4, 5]\n"
     ]
    }
   ],
   "source": [
    "#Store a sequence of values in a vector.\n",
    "y = list(range(1,6))\n",
    "y1=[1,2,3,4,5]\n",
    "print(y1)\n",
    "print(y)"
   ]
  },
  {
   "cell_type": "code",
   "execution_count": 351,
   "metadata": {
    "collapsed": false
   },
   "outputs": [
    {
     "data": {
      "text/plain": [
       "[1, 2, 3, 4, 5, 1, 2, 3, 4, 5, 1, 2, 3, 4, 5]"
      ]
     },
     "execution_count": 351,
     "metadata": {},
     "output_type": "execute_result"
    }
   ],
   "source": [
    "# *** Compare to R\n",
    "# As opposed to R where we do elementwise \n",
    "x=3\n",
    "z1=x*y1\n",
    "z1"
   ]
  },
  {
   "cell_type": "code",
   "execution_count": 305,
   "metadata": {
    "collapsed": false
   },
   "outputs": [
    {
     "data": {
      "text/plain": [
       "[3, 6, 9, 12, 15]"
      ]
     },
     "execution_count": 305,
     "metadata": {},
     "output_type": "execute_result"
    }
   ],
   "source": [
    "#Can do operation against the whole vector.\n",
    "z = [ii * x for ii in y]\n",
    "z "
   ]
  },
  {
   "cell_type": "markdown",
   "metadata": {},
   "source": [
    "## Libraries in Python & some datatypes"
   ]
  },
  {
   "cell_type": "markdown",
   "metadata": {},
   "source": [
    "Python has a few main libraries that are essential to the functionality for data analysis. These are math,numpy,scipy,and matplotlib.\n",
    "\n",
    "<b>Math</b> <br> \n",
    "Source : https://docs.python.org/3/library/math.html?highlight=math\n",
    "\n",
    "This module is always available. It provides access to the mathematical functions defined by the C standard.\n",
    "These functions cannot be used with complex numbers.\n",
    "\n",
    "<b>Numpy</b> <br> \n",
    "Source : https://www.numpy.org\n",
    "\n",
    "NumPy is a fundamental open source library for numeric computing with Python. It contains among other things:\n",
    " * a powerful N-dimensional array object\n",
    " * sophisticated (broadcasting) functions\n",
    " * tools for integrating C/C++ and Fortran code\n",
    " * useful linear algebra, Fourier transform, and random number capabilities\n",
    "\n",
    "Besides its obvious scientific uses, NumPy can also be used as an efficient multi-dimensional container of generic data. Arbitrary data-types can be defined. This allows NumPy to seamlessly and speedily integrate with a wide variety of databases.\n",
    "NumPy is licensed under the BSD license, enabling reuse with few restrictions.\n",
    "\n",
    "**Numpy for R users :**\n",
    "http://mathesaurus.sourceforge.net/r-numpy.html\n",
    "\n",
    "<b>Scipy</b> <br>\n",
    "Source = https://scipy.org/\n",
    "\n",
    "The SciPy (Scientific Python) package extends the functionality of NumPy with a substantial\n",
    "collection of useful algorithms, like minimization, Fourier transformation, regression, and other\n",
    "applied mathematical techniques. \n",
    "\n"
   ]
  },
  {
   "cell_type": "raw",
   "metadata": {},
   "source": [
    "### Python Data Types \n",
    "There are the following data types:\n",
    "    Numbers : Integers, floating point numbers and Complex Numbers\n",
    "    String : String is immutable i.e. their characters cannot be changed.\n",
    "    Boolean : True or False\n",
    "    None : This is an important type of variable.\n",
    "    Sequence Type \n",
    "        1: lists : These are mutable i.e. value can be changed. \n",
    "        2: tuples : These are immutable \n",
    "        3: range: These are immutable sequence of numbers"
   ]
  },
  {
   "cell_type": "markdown",
   "metadata": {},
   "source": [
    "## Operations on vectors "
   ]
  },
  {
   "cell_type": "code",
   "execution_count": 306,
   "metadata": {
    "collapsed": false
   },
   "outputs": [
    {
     "data": {
      "text/plain": [
       "45"
      ]
     },
     "execution_count": 306,
     "metadata": {},
     "output_type": "execute_result"
    }
   ],
   "source": [
    "sum(z)     #sum works as default"
   ]
  },
  {
   "cell_type": "code",
   "execution_count": 307,
   "metadata": {
    "collapsed": false
   },
   "outputs": [
    {
     "data": {
      "text/plain": [
       "5"
      ]
     },
     "execution_count": 307,
     "metadata": {},
     "output_type": "execute_result"
    }
   ],
   "source": [
    "len(z)"
   ]
  },
  {
   "cell_type": "code",
   "execution_count": 308,
   "metadata": {
    "collapsed": false
   },
   "outputs": [
    {
     "ename": "NameError",
     "evalue": "name 'mean' is not defined",
     "output_type": "error",
     "traceback": [
      "\u001b[0;31m---------------------------------------------------------------------------\u001b[0m",
      "\u001b[0;31mNameError\u001b[0m                                 Traceback (most recent call last)",
      "\u001b[0;32m<ipython-input-308-b166e9ab5e38>\u001b[0m in \u001b[0;36m<module>\u001b[0;34m()\u001b[0m\n\u001b[0;32m----> 1\u001b[0;31m \u001b[0mmean\u001b[0m\u001b[0;34m(\u001b[0m\u001b[0mz\u001b[0m\u001b[0;34m)\u001b[0m   \u001b[0;31m#Mean is not default in python\u001b[0m\u001b[0;34m\u001b[0m\u001b[0m\n\u001b[0m",
      "\u001b[0;31mNameError\u001b[0m: name 'mean' is not defined"
     ]
    }
   ],
   "source": [
    "mean(z)   #Mean is not default in python"
   ]
  },
  {
   "cell_type": "code",
   "execution_count": 309,
   "metadata": {
    "collapsed": false
   },
   "outputs": [
    {
     "name": "stdout",
     "output_type": "stream",
     "text": [
      "9.0\n"
     ]
    }
   ],
   "source": [
    "print( sum(z)/len(z)) # one way to do mean"
   ]
  },
  {
   "cell_type": "code",
   "execution_count": 310,
   "metadata": {
    "collapsed": false
   },
   "outputs": [
    {
     "name": "stdout",
     "output_type": "stream",
     "text": [
      "[1, 2, 3, 4, 5]\n"
     ]
    }
   ],
   "source": [
    "#Some basic functions.\n",
    "import numpy as np\n",
    "print (y)"
   ]
  },
  {
   "cell_type": "code",
   "execution_count": 353,
   "metadata": {
    "collapsed": false
   },
   "outputs": [
    {
     "data": {
      "text/plain": [
       "[3, 6, 9, 12, 15]"
      ]
     },
     "execution_count": 353,
     "metadata": {},
     "output_type": "execute_result"
    }
   ],
   "source": [
    "#Element wise multiplication\n",
    "import numpy as np\n",
    "list(np.multiply(x,y1))"
   ]
  },
  {
   "cell_type": "code",
   "execution_count": 311,
   "metadata": {
    "collapsed": false
   },
   "outputs": [
    {
     "name": "stdout",
     "output_type": "stream",
     "text": [
      "9.0\n"
     ]
    }
   ],
   "source": [
    "#Mean \n",
    "print(np.mean(z))\n"
   ]
  },
  {
   "cell_type": "code",
   "execution_count": 312,
   "metadata": {
    "collapsed": false
   },
   "outputs": [
    {
     "name": "stdout",
     "output_type": "stream",
     "text": [
      "15\n",
      "5\n"
     ]
    }
   ],
   "source": [
    "#Sum\n",
    "print(sum(y))\n",
    "\n",
    "#lenthg\n",
    "print(len(y))"
   ]
  },
  {
   "cell_type": "code",
   "execution_count": 314,
   "metadata": {
    "collapsed": false
   },
   "outputs": [
    {
     "name": "stdout",
     "output_type": "stream",
     "text": [
      "tmp : 9.0\n"
     ]
    }
   ],
   "source": [
    "#Store results\n",
    "tmp = np.mean(z)\n",
    "print(\"tmp :\",tmp)\n"
   ]
  },
  {
   "cell_type": "code",
   "execution_count": 315,
   "metadata": {
    "collapsed": false
   },
   "outputs": [
    {
     "data": {
      "image/png": "[encoded data removed]",
      "text/plain": [
       "<matplotlib.figure.Figure at 0x115073c18>"
      ]
     },
     "metadata": {},
     "output_type": "display_data"
    }
   ],
   "source": [
    "# Lets do our first plot\n",
    "# In python we plot using a library called matplotlib.\n",
    "# Further within matplotlib there is pyplot class? of functions that do the work \n",
    "import matplotlib.pyplot as plt\n",
    "plt.plot(y, z)\n",
    "plt.show()"
   ]
  },
  {
   "cell_type": "code",
   "execution_count": 316,
   "metadata": {
    "collapsed": false
   },
   "outputs": [
    {
     "ename": "ValueError",
     "evalue": "x and y must have same first dimension, but have shapes (1,) and (5,)",
     "output_type": "error",
     "traceback": [
      "\u001b[0;31m---------------------------------------------------------------------------\u001b[0m",
      "\u001b[0;31mValueError\u001b[0m                                Traceback (most recent call last)",
      "\u001b[0;32m<ipython-input-316-5a94b8fd2dc2>\u001b[0m in \u001b[0;36m<module>\u001b[0;34m()\u001b[0m\n\u001b[1;32m      1\u001b[0m \u001b[0;31m#Let's get our first bug.\u001b[0m\u001b[0;34m\u001b[0m\u001b[0;34m\u001b[0m\u001b[0m\n\u001b[0;32m----> 2\u001b[0;31m \u001b[0mplt\u001b[0m\u001b[0;34m.\u001b[0m\u001b[0mplot\u001b[0m\u001b[0;34m(\u001b[0m\u001b[0mx\u001b[0m\u001b[0;34m,\u001b[0m \u001b[0mz\u001b[0m\u001b[0;34m)\u001b[0m\u001b[0;34m\u001b[0m\u001b[0m\n\u001b[0m\u001b[1;32m      3\u001b[0m \u001b[0mplt\u001b[0m\u001b[0;34m.\u001b[0m\u001b[0mshow\u001b[0m\u001b[0;34m(\u001b[0m\u001b[0;34m)\u001b[0m\u001b[0;34m\u001b[0m\u001b[0m\n\u001b[1;32m      4\u001b[0m \u001b[0;31m# ValueError: x and y must have same first dimension, but have shapes (1,) and (5,)\u001b[0m\u001b[0;34m\u001b[0m\u001b[0;34m\u001b[0m\u001b[0m\n",
      "\u001b[0;32m/Users/taposh/anaconda/lib/python3.5/site-packages/matplotlib/pyplot.py\u001b[0m in \u001b[0;36mplot\u001b[0;34m(*args, **kwargs)\u001b[0m\n\u001b[1;32m   3315\u001b[0m                       mplDeprecation)\n\u001b[1;32m   3316\u001b[0m     \u001b[0;32mtry\u001b[0m\u001b[0;34m:\u001b[0m\u001b[0;34m\u001b[0m\u001b[0m\n\u001b[0;32m-> 3317\u001b[0;31m         \u001b[0mret\u001b[0m \u001b[0;34m=\u001b[0m \u001b[0max\u001b[0m\u001b[0;34m.\u001b[0m\u001b[0mplot\u001b[0m\u001b[0;34m(\u001b[0m\u001b[0;34m*\u001b[0m\u001b[0margs\u001b[0m\u001b[0;34m,\u001b[0m \u001b[0;34m**\u001b[0m\u001b[0mkwargs\u001b[0m\u001b[0;34m)\u001b[0m\u001b[0;34m\u001b[0m\u001b[0m\n\u001b[0m\u001b[1;32m   3318\u001b[0m     \u001b[0;32mfinally\u001b[0m\u001b[0;34m:\u001b[0m\u001b[0;34m\u001b[0m\u001b[0m\n\u001b[1;32m   3319\u001b[0m         \u001b[0max\u001b[0m\u001b[0;34m.\u001b[0m\u001b[0m_hold\u001b[0m \u001b[0;34m=\u001b[0m \u001b[0mwashold\u001b[0m\u001b[0;34m\u001b[0m\u001b[0m\n",
      "\u001b[0;32m/Users/taposh/anaconda/lib/python3.5/site-packages/matplotlib/__init__.py\u001b[0m in \u001b[0;36minner\u001b[0;34m(ax, *args, **kwargs)\u001b[0m\n\u001b[1;32m   1896\u001b[0m                     warnings.warn(msg % (label_namer, func.__name__),\n\u001b[1;32m   1897\u001b[0m                                   RuntimeWarning, stacklevel=2)\n\u001b[0;32m-> 1898\u001b[0;31m             \u001b[0;32mreturn\u001b[0m \u001b[0mfunc\u001b[0m\u001b[0;34m(\u001b[0m\u001b[0max\u001b[0m\u001b[0;34m,\u001b[0m \u001b[0;34m*\u001b[0m\u001b[0margs\u001b[0m\u001b[0;34m,\u001b[0m \u001b[0;34m**\u001b[0m\u001b[0mkwargs\u001b[0m\u001b[0;34m)\u001b[0m\u001b[0;34m\u001b[0m\u001b[0m\n\u001b[0m\u001b[1;32m   1899\u001b[0m         \u001b[0mpre_doc\u001b[0m \u001b[0;34m=\u001b[0m \u001b[0minner\u001b[0m\u001b[0;34m.\u001b[0m\u001b[0m__doc__\u001b[0m\u001b[0;34m\u001b[0m\u001b[0m\n\u001b[1;32m   1900\u001b[0m         \u001b[0;32mif\u001b[0m \u001b[0mpre_doc\u001b[0m \u001b[0;32mis\u001b[0m \u001b[0;32mNone\u001b[0m\u001b[0;34m:\u001b[0m\u001b[0;34m\u001b[0m\u001b[0m\n",
      "\u001b[0;32m/Users/taposh/anaconda/lib/python3.5/site-packages/matplotlib/axes/_axes.py\u001b[0m in \u001b[0;36mplot\u001b[0;34m(self, *args, **kwargs)\u001b[0m\n\u001b[1;32m   1404\u001b[0m         \u001b[0mkwargs\u001b[0m \u001b[0;34m=\u001b[0m \u001b[0mcbook\u001b[0m\u001b[0;34m.\u001b[0m\u001b[0mnormalize_kwargs\u001b[0m\u001b[0;34m(\u001b[0m\u001b[0mkwargs\u001b[0m\u001b[0;34m,\u001b[0m \u001b[0m_alias_map\u001b[0m\u001b[0;34m)\u001b[0m\u001b[0;34m\u001b[0m\u001b[0m\n\u001b[1;32m   1405\u001b[0m \u001b[0;34m\u001b[0m\u001b[0m\n\u001b[0;32m-> 1406\u001b[0;31m         \u001b[0;32mfor\u001b[0m \u001b[0mline\u001b[0m \u001b[0;32min\u001b[0m \u001b[0mself\u001b[0m\u001b[0;34m.\u001b[0m\u001b[0m_get_lines\u001b[0m\u001b[0;34m(\u001b[0m\u001b[0;34m*\u001b[0m\u001b[0margs\u001b[0m\u001b[0;34m,\u001b[0m \u001b[0;34m**\u001b[0m\u001b[0mkwargs\u001b[0m\u001b[0;34m)\u001b[0m\u001b[0;34m:\u001b[0m\u001b[0;34m\u001b[0m\u001b[0m\n\u001b[0m\u001b[1;32m   1407\u001b[0m             \u001b[0mself\u001b[0m\u001b[0;34m.\u001b[0m\u001b[0madd_line\u001b[0m\u001b[0;34m(\u001b[0m\u001b[0mline\u001b[0m\u001b[0;34m)\u001b[0m\u001b[0;34m\u001b[0m\u001b[0m\n\u001b[1;32m   1408\u001b[0m             \u001b[0mlines\u001b[0m\u001b[0;34m.\u001b[0m\u001b[0mappend\u001b[0m\u001b[0;34m(\u001b[0m\u001b[0mline\u001b[0m\u001b[0;34m)\u001b[0m\u001b[0;34m\u001b[0m\u001b[0m\n",
      "\u001b[0;32m/Users/taposh/anaconda/lib/python3.5/site-packages/matplotlib/axes/_base.py\u001b[0m in \u001b[0;36m_grab_next_args\u001b[0;34m(self, *args, **kwargs)\u001b[0m\n\u001b[1;32m    405\u001b[0m                 \u001b[0;32mreturn\u001b[0m\u001b[0;34m\u001b[0m\u001b[0m\n\u001b[1;32m    406\u001b[0m             \u001b[0;32mif\u001b[0m \u001b[0mlen\u001b[0m\u001b[0;34m(\u001b[0m\u001b[0mremaining\u001b[0m\u001b[0;34m)\u001b[0m \u001b[0;34m<=\u001b[0m \u001b[0;36m3\u001b[0m\u001b[0;34m:\u001b[0m\u001b[0;34m\u001b[0m\u001b[0m\n\u001b[0;32m--> 407\u001b[0;31m                 \u001b[0;32mfor\u001b[0m \u001b[0mseg\u001b[0m \u001b[0;32min\u001b[0m \u001b[0mself\u001b[0m\u001b[0;34m.\u001b[0m\u001b[0m_plot_args\u001b[0m\u001b[0;34m(\u001b[0m\u001b[0mremaining\u001b[0m\u001b[0;34m,\u001b[0m \u001b[0mkwargs\u001b[0m\u001b[0;34m)\u001b[0m\u001b[0;34m:\u001b[0m\u001b[0;34m\u001b[0m\u001b[0m\n\u001b[0m\u001b[1;32m    408\u001b[0m                     \u001b[0;32myield\u001b[0m \u001b[0mseg\u001b[0m\u001b[0;34m\u001b[0m\u001b[0m\n\u001b[1;32m    409\u001b[0m                 \u001b[0;32mreturn\u001b[0m\u001b[0;34m\u001b[0m\u001b[0m\n",
      "\u001b[0;32m/Users/taposh/anaconda/lib/python3.5/site-packages/matplotlib/axes/_base.py\u001b[0m in \u001b[0;36m_plot_args\u001b[0;34m(self, tup, kwargs)\u001b[0m\n\u001b[1;32m    383\u001b[0m             \u001b[0mx\u001b[0m\u001b[0;34m,\u001b[0m \u001b[0my\u001b[0m \u001b[0;34m=\u001b[0m \u001b[0mindex_of\u001b[0m\u001b[0;34m(\u001b[0m\u001b[0mtup\u001b[0m\u001b[0;34m[\u001b[0m\u001b[0;34m-\u001b[0m\u001b[0;36m1\u001b[0m\u001b[0;34m]\u001b[0m\u001b[0;34m)\u001b[0m\u001b[0;34m\u001b[0m\u001b[0m\n\u001b[1;32m    384\u001b[0m \u001b[0;34m\u001b[0m\u001b[0m\n\u001b[0;32m--> 385\u001b[0;31m         \u001b[0mx\u001b[0m\u001b[0;34m,\u001b[0m \u001b[0my\u001b[0m \u001b[0;34m=\u001b[0m \u001b[0mself\u001b[0m\u001b[0;34m.\u001b[0m\u001b[0m_xy_from_xy\u001b[0m\u001b[0;34m(\u001b[0m\u001b[0mx\u001b[0m\u001b[0;34m,\u001b[0m \u001b[0my\u001b[0m\u001b[0;34m)\u001b[0m\u001b[0;34m\u001b[0m\u001b[0m\n\u001b[0m\u001b[1;32m    386\u001b[0m \u001b[0;34m\u001b[0m\u001b[0m\n\u001b[1;32m    387\u001b[0m         \u001b[0;32mif\u001b[0m \u001b[0mself\u001b[0m\u001b[0;34m.\u001b[0m\u001b[0mcommand\u001b[0m \u001b[0;34m==\u001b[0m \u001b[0;34m'plot'\u001b[0m\u001b[0;34m:\u001b[0m\u001b[0;34m\u001b[0m\u001b[0m\n",
      "\u001b[0;32m/Users/taposh/anaconda/lib/python3.5/site-packages/matplotlib/axes/_base.py\u001b[0m in \u001b[0;36m_xy_from_xy\u001b[0;34m(self, x, y)\u001b[0m\n\u001b[1;32m    242\u001b[0m         \u001b[0;32mif\u001b[0m \u001b[0mx\u001b[0m\u001b[0;34m.\u001b[0m\u001b[0mshape\u001b[0m\u001b[0;34m[\u001b[0m\u001b[0;36m0\u001b[0m\u001b[0;34m]\u001b[0m \u001b[0;34m!=\u001b[0m \u001b[0my\u001b[0m\u001b[0;34m.\u001b[0m\u001b[0mshape\u001b[0m\u001b[0;34m[\u001b[0m\u001b[0;36m0\u001b[0m\u001b[0;34m]\u001b[0m\u001b[0;34m:\u001b[0m\u001b[0;34m\u001b[0m\u001b[0m\n\u001b[1;32m    243\u001b[0m             raise ValueError(\"x and y must have same first dimension, but \"\n\u001b[0;32m--> 244\u001b[0;31m                              \"have shapes {} and {}\".format(x.shape, y.shape))\n\u001b[0m\u001b[1;32m    245\u001b[0m         \u001b[0;32mif\u001b[0m \u001b[0mx\u001b[0m\u001b[0;34m.\u001b[0m\u001b[0mndim\u001b[0m \u001b[0;34m>\u001b[0m \u001b[0;36m2\u001b[0m \u001b[0;32mor\u001b[0m \u001b[0my\u001b[0m\u001b[0;34m.\u001b[0m\u001b[0mndim\u001b[0m \u001b[0;34m>\u001b[0m \u001b[0;36m2\u001b[0m\u001b[0;34m:\u001b[0m\u001b[0;34m\u001b[0m\u001b[0m\n\u001b[1;32m    246\u001b[0m             raise ValueError(\"x and y can be no greater than 2-D, but have \"\n",
      "\u001b[0;31mValueError\u001b[0m: x and y must have same first dimension, but have shapes (1,) and (5,)"
     ]
    }
   ],
   "source": [
    "#Let's get our first bug.\n",
    "plt.plot(x, z)\n",
    "plt.show()\n",
    "# ValueError: x and y must have same first dimension, but have shapes (1,) and (5,)\n"
   ]
  },
  {
   "cell_type": "raw",
   "metadata": {
    "collapsed": true
   },
   "source": [
    "## np Repeat Command"
   ]
  },
  {
   "cell_type": "code",
   "execution_count": 317,
   "metadata": {
    "collapsed": false
   },
   "outputs": [
    {
     "data": {
      "image/png": "[encoded data removed]",
      "text/plain": [
       "<matplotlib.figure.Figure at 0x113b45b70>"
      ]
     },
     "metadata": {},
     "output_type": "display_data"
    }
   ],
   "source": [
    "#One way to fix it...note embedded functions.\n",
    "# We know the value of x is 2, we repeat 2, 5 times.\n",
    "# We know z is [2,4,6,8,10], x=2\n",
    "plt.plot(np.repeat(x,5), z)\n",
    "plt.show()"
   ]
  },
  {
   "cell_type": "code",
   "execution_count": 318,
   "metadata": {
    "collapsed": false
   },
   "outputs": [
    {
     "data": {
      "image/png": "[encoded data removed]",
      "text/plain": [
       "<matplotlib.figure.Figure at 0x118458128>"
      ]
     },
     "metadata": {},
     "output_type": "display_data"
    }
   ],
   "source": [
    "plt.plot(np.repeat(x,5), z, \"bo\")\n",
    "plt.show()"
   ]
  },
  {
   "cell_type": "code",
   "execution_count": null,
   "metadata": {
    "collapsed": false
   },
   "outputs": [],
   "source": [
    "plt.plot(np.repeat(x,5), z, \"r--\")\n",
    "plt.show()#Let's look at the help for plot"
   ]
  },
  {
   "cell_type": "code",
   "execution_count": null,
   "metadata": {
    "collapsed": true
   },
   "outputs": [],
   "source": [
    "# Embedding multiple plot on top of each other."
   ]
  },
  {
   "cell_type": "code",
   "execution_count": null,
   "metadata": {
    "collapsed": false
   },
   "outputs": [],
   "source": [
    "# Embedding multiple plot on top of each other.\n",
    "plt.plot(np.repeat(x,5), z, \"bo--\")\n",
    "plt.plot(np.repeat(x,5), z, \"r--\")\n",
    "plt.plot(np.repeat(x,5), z, \"g^\")\n",
    "plt.show()"
   ]
  },
  {
   "cell_type": "code",
   "execution_count": null,
   "metadata": {
    "collapsed": false
   },
   "outputs": [],
   "source": [
    "#Passing variables to np.repeat\n",
    "plt.plot(np.repeat(x,len(z)), z)  \n",
    "plt.show()"
   ]
  },
  {
   "cell_type": "code",
   "execution_count": null,
   "metadata": {
    "collapsed": false
   },
   "outputs": [],
   "source": [
    "#using np.arange\n",
    "plt.plot(np.arange(5), z)  \n",
    "plt.show()"
   ]
  },
  {
   "cell_type": "code",
   "execution_count": null,
   "metadata": {
    "collapsed": false
   },
   "outputs": [],
   "source": [
    "# Vertical and Horizontal Bar\n",
    "import matplotlib.pyplot as plt\n",
    "mylist = [1,2,3,4,5]\n",
    "#plt.bar ( position, list, ....)\n",
    "#plt.bar(mylist,mylist,align='center')\n",
    "plt.barh(mylist,mylist,align='center')\n",
    "plt.legend()\n",
    "plt.show()"
   ]
  },
  {
   "cell_type": "code",
   "execution_count": null,
   "metadata": {
    "collapsed": false
   },
   "outputs": [],
   "source": [
    "#Even more embedded functions.\n",
    "?matplotlib"
   ]
  },
  {
   "cell_type": "markdown",
   "metadata": {},
   "source": [
    "## Pandas library"
   ]
  },
  {
   "cell_type": "markdown",
   "metadata": {},
   "source": [
    "<b>Pandas</b> <br>\n",
    "Official Site: http://pandas.pydata.org/\n",
    "\n",
    "Pandas is a Python module, which is rounding up the capabilities of Numpy, Scipy and Matplotlab. The word pandas is an acronym which is derived from \"Python and data analysis\" and \"panel data\".Pandas is a Python package providing fast, flexible, and expressive data structures designed to work with relational or labeled data both. It is a fundamental high-level building block for doing practical, real world data analysis in Python.\n",
    "\n",
    "** Pandas** is a library that provides an ability for fast data cleaning, preparation and analysis. It is easy to use for data visualization and machine learning. \n",
    "** Pandas** is built on top of numpy library. This makes it very easy to work with arrays and matrices. In pandas arrays are known as Series object, whereas matrices are known as DataFrame.\n",
    "\n",
    "** Pandas is well suited for: **\n",
    "\n",
    " - Tabular data with heterogeneously-typed columns, as in an SQL table or Excel spreadsheet\n",
    " - Ordered and unordered (not necessarily fixed-frequency) time series data.\n",
    " - Arbitrary matrix data (homogeneously typed or heterogeneous) with row and column labels\n",
    " - Any other form of observational / statistical data sets. The data actually need not be labeled at all to be placed into a pandas data structure\n",
    " \n",
    "**Key features:**\n",
    "- Easy handling of missing data\n",
    "- Size mutability: columns can be inserted and deleted from DataFrame and higher dimensional objects\n",
    "- Automatic and explicit data alignment: objects can be explicitly aligned to a set of labels, or the data can be aligned automatically\n",
    "- Powerful, flexible group by functionality to perform split-apply-combine operations on data sets\n",
    "- Intelligent label-based slicing, fancy indexing, and subsetting of large data sets\n",
    "- Intuitive merging and joining data sets\n",
    "- Flexible reshaping and pivoting of data sets\n",
    "- Hierarchical labeling of axes\n",
    "- Robust IO tools for loading data from flat files, Excel files, databases, and HDF5\n",
    "- Time series functionality: date range generation and frequency conversion, moving window statistics, moving window linear regressions, date shifting and lagging, etc.\n",
    "\n",
    "source: http://pandas.pydata.org/pandas-docs/stable/\n",
    "\n",
    "**Data Structures used in Pandas**\n",
    "\n",
    "The two primary data structures of pandas, \n",
    "   - *Series (1-dimensional)* and \n",
    "   - *DataFrame (2-dimensional)*\n",
    "\n",
    "They handle the vast majority of typical use cases in finance, statistics, social science, and many areas of engineering. For R users, DataFrame provides everything that R’s data.frame provides and much more. pandas is built on top of NumPy and is intended to integrate well within a scientific computing environment with many other 3rd party libraries.\n"
   ]
  },
  {
   "cell_type": "markdown",
   "metadata": {},
   "source": [
    "### Series Object"
   ]
  },
  {
   "cell_type": "code",
   "execution_count": null,
   "metadata": {
    "collapsed": true
   },
   "outputs": [],
   "source": [
    "## Create a simple series using range and default index"
   ]
  },
  {
   "cell_type": "code",
   "execution_count": null,
   "metadata": {
    "collapsed": false
   },
   "outputs": [],
   "source": [
    "import pandas as pd\n",
    "y_1 = np.arange(4)\n",
    "print(y_1)\n",
    "s_1 = pd.Series(y_1)\n",
    "print(\"This is series object with default index :\")\n",
    "print(s_1)"
   ]
  },
  {
   "cell_type": "code",
   "execution_count": null,
   "metadata": {
    "collapsed": true
   },
   "outputs": [],
   "source": [
    "## create a custom index for series"
   ]
  },
  {
   "cell_type": "code",
   "execution_count": null,
   "metadata": {
    "collapsed": false
   },
   "outputs": [],
   "source": [
    "y_2 = np.arange(4)\n",
    "s_2 = pd.Series(y_2,index =['val1','val2','val3','val4'])\n",
    "\n",
    "print(\"This is series object with custom index :\")\n",
    "print(s_2)"
   ]
  },
  {
   "cell_type": "code",
   "execution_count": null,
   "metadata": {
    "collapsed": true
   },
   "outputs": [],
   "source": [
    "##Create a list and make it a series"
   ]
  },
  {
   "cell_type": "code",
   "execution_count": null,
   "metadata": {
    "collapsed": false
   },
   "outputs": [],
   "source": [
    "mylist = [\"cat\",\"dog\",\"lion\",\"tiger\"]\n",
    "s_3 = pd.Series(mylist,index=['a','b','c','d'])\n",
    "s_3"
   ]
  },
  {
   "cell_type": "code",
   "execution_count": null,
   "metadata": {
    "collapsed": true
   },
   "outputs": [],
   "source": [
    "#Index based lookup Loc and iloc\n",
    "# loc: Purely label-location based indexer for selection by label\n",
    "# iloc: Integer based."
   ]
  },
  {
   "cell_type": "code",
   "execution_count": null,
   "metadata": {
    "collapsed": false
   },
   "outputs": [],
   "source": [
    "print(s_3.loc[\"d\"])\n",
    "print(s_3.iloc[3])"
   ]
  },
  {
   "cell_type": "code",
   "execution_count": null,
   "metadata": {
    "collapsed": false
   },
   "outputs": [],
   "source": [
    "print(s_2['val1'])\n",
    "print(s_2[['val1','val4']])\n",
    "print(s_2[[0,3]])"
   ]
  },
  {
   "cell_type": "markdown",
   "metadata": {
    "collapsed": true,
    "heading_collapsed": true
   },
   "source": [
    "### DataFrame Object"
   ]
  },
  {
   "cell_type": "code",
   "execution_count": null,
   "metadata": {
    "collapsed": false,
    "hidden": true
   },
   "outputs": [],
   "source": [
    "#Creating a dataframe from random variables and default index\n",
    "import pandas as pd\n",
    "np.random.seed(221)\n",
    "df_1 = pd.DataFrame(np.random.rand(36).reshape((6,6)))\n",
    "df_1.head()"
   ]
  },
  {
   "cell_type": "code",
   "execution_count": null,
   "metadata": {
    "collapsed": false,
    "hidden": true
   },
   "outputs": [],
   "source": [
    "#Creating a dataframe from random variables and custom index\n",
    "np.random.seed(221)\n",
    "df_2 = pd.DataFrame(np.random.rand(36).reshape((6,6)),index =['r1','r2','r3','r4','r5','r6'],columns=['c1','c2','c3','c4','c5','c6'])\n",
    "df_2.head()"
   ]
  },
  {
   "cell_type": "code",
   "execution_count": null,
   "metadata": {
    "collapsed": false,
    "hidden": true
   },
   "outputs": [],
   "source": [
    "# Creating a DataFrame from a list object\n",
    "\n",
    "x = list(range(6))\n",
    "y = [ii * 2 for ii in x]\n",
    "tmp = pd.DataFrame({'xlist':x,'ylist':y})\n",
    "\n",
    "####################\n",
    "# Note: Python will not create a list of x of different dimensions while R will\n",
    "# Also note the syntax, we need to add a column name\n",
    "####################\n",
    "\n",
    "tmp.head()"
   ]
  },
  {
   "cell_type": "code",
   "execution_count": null,
   "metadata": {
    "collapsed": false,
    "hidden": true
   },
   "outputs": [],
   "source": [
    "#Now we can plot using the dataframe.\n",
    "x=tmp['xlist']\n",
    "y=tmp['ylist']\n",
    "plt.plot(x, y)  \n",
    "plt.show()"
   ]
  },
  {
   "cell_type": "code",
   "execution_count": null,
   "metadata": {
    "collapsed": false,
    "hidden": true
   },
   "outputs": [],
   "source": [
    "#Now we can plot using the dataframe.\n",
    "plt.plot(tmp['xlist'],tmp['ylist'])\n",
    "plt.show()"
   ]
  },
  {
   "cell_type": "code",
   "execution_count": null,
   "metadata": {
    "collapsed": false,
    "hidden": true,
    "scrolled": true
   },
   "outputs": [],
   "source": [
    "#with(tmp, plot(x='ylist', y='zlist'))                                                        #The same thing.\n",
    "#with(data.frame(x, y, z), plot(x=x, y=z)) \n",
    "#Ill-advised, but exercise in using what we've learned.\n",
    "plt.plot(tmp['xlist'],tmp['ylist'])\n",
    "plt.plot(tmp['xlist'],tmp['ylist'],'g^') #'g^'\n",
    "plt.ylabel('some numbers')\n",
    "plt.xlabel ('other numbers')\n",
    "plt.title(\"silly plot\")\n",
    "plt.show()"
   ]
  },
  {
   "cell_type": "markdown",
   "metadata": {},
   "source": [
    "## Subplotting "
   ]
  },
  {
   "cell_type": "code",
   "execution_count": null,
   "metadata": {
    "collapsed": false
   },
   "outputs": [],
   "source": [
    "#The subplot() command specifies numrows, numcols, fignum where fignum ranges from 1 to numrows*numcols.\n",
    "#You can create multiple figures by using multiple figure() calls with an increasing figure number. Of course, each figure can contain as many axes and subplots as your heart desires:\n",
    "import matplotlib\n",
    "import matplotlib.pyplot as plt\n",
    "#matplotlib.style.use(\"ggplot\")\n",
    "plt.figure(1)                # the first figure\n",
    "plt.subplot(131)             # the first subplot in the first figure\n",
    "plt.plot([1, 5, 6])\n",
    "plt.subplot(132)             # the second subplot in the first figure\n",
    "plt.bar([4, 5, 6],[4, 5, 6])\n",
    "plt.subplot(133)             # the second subplot in the first figure\n",
    "plt.barh([4, 5, 6],[4, 5, 6])\n",
    "\n"
   ]
  },
  {
   "cell_type": "code",
   "execution_count": null,
   "metadata": {
    "collapsed": false
   },
   "outputs": [],
   "source": [
    "plt.savefig(\"data/output1.pdf\")\n",
    "plt.show()"
   ]
  },
  {
   "cell_type": "code",
   "execution_count": null,
   "metadata": {
    "collapsed": false
   },
   "outputs": [],
   "source": [
    "#The subplot() command specifies numrows, numcols, fignum where fignum ranges from 1 to numrows*numcols.\n",
    "#You can create multiple figures by using multiple figure() calls with an increasing figure number. Of course, each figure can contain as many axes and subplots as your heart desires:\n",
    "\n",
    "import matplotlib.pyplot as plt\n",
    "plt.figure(1)                # the first figure\n",
    "plt.subplot(111)             # the first subplot in the first figure\n",
    "plt.subplot(121)             # the second subplot in the first figure\n",
    "plt.plot([4, 5, 6])\n",
    "\n",
    "\n",
    "plt.plot([1, 2, 3])\n",
    "\n",
    "plt.figure(2)   \n",
    "plt.subplot(121)             # the second subplot in the first figure\n",
    "plt.plot([4, 5, 6])\n",
    "             # the second subplot in the first figure\n",
    "plt.figure(3)\n",
    "plt.subplot(131)\n",
    "plt.plot([7, 8, 9])\n",
    "plt.show()"
   ]
  },
  {
   "cell_type": "code",
   "execution_count": null,
   "metadata": {
    "collapsed": false
   },
   "outputs": [],
   "source": [
    " #Removing one object using Del.\n",
    "tmp = pd.DataFrame({'xlist':x, 'ylist':y})\n",
    "print(tmp)\n",
    "#del tmp\n"
   ]
  },
  {
   "cell_type": "code",
   "execution_count": null,
   "metadata": {
    "collapsed": false
   },
   "outputs": [],
   "source": [
    "#Removing one object.\n",
    "# Assign it to none\n",
    "tmp = None\n",
    "print(tmp)\n",
    "    "
   ]
  },
  {
   "cell_type": "markdown",
   "metadata": {},
   "source": [
    "## Lambda and Functions"
   ]
  },
  {
   "cell_type": "code",
   "execution_count": null,
   "metadata": {
    "collapsed": false
   },
   "outputs": [],
   "source": [
    "def transformA(n):\n",
    "    x = n +1 \n",
    "    return x\n",
    "\n",
    "f = transformA(33)\n",
    "f"
   ]
  },
  {
   "cell_type": "markdown",
   "metadata": {},
   "source": [
    "A lambda is simply an anonymous function - a function with no name."
   ]
  },
  {
   "cell_type": "code",
   "execution_count": null,
   "metadata": {
    "collapsed": false
   },
   "outputs": [],
   "source": [
    "#square_root = lambda x: math.sqrt(x)\n",
    "result = lambda x: x+1 if x<20 else x\n",
    "x=10\n",
    "print(result(21))\n",
    "print(result(11))\n"
   ]
  },
  {
   "cell_type": "code",
   "execution_count": null,
   "metadata": {
    "collapsed": false
   },
   "outputs": [],
   "source": [
    "def transformB(n):\n",
    "      return lambda x: x + n\n",
    "f = transformB(1)\n",
    "f(33)"
   ]
  },
  {
   "cell_type": "code",
   "execution_count": null,
   "metadata": {
    "collapsed": true
   },
   "outputs": [],
   "source": [
    "## Question : What is the difference between transformA function and transfromB function "
   ]
  },
  {
   "cell_type": "markdown",
   "metadata": {},
   "source": [
    "## Working with data."
   ]
  },
  {
   "cell_type": "markdown",
   "metadata": {},
   "source": [
    "### DataFrame Operations"
   ]
  },
  {
   "cell_type": "code",
   "execution_count": 462,
   "metadata": {
    "collapsed": false
   },
   "outputs": [
    {
     "data": {
      "text/html": [
       "<div>\n",
       "<style>\n",
       "    .dataframe thead tr:only-child th {\n",
       "        text-align: right;\n",
       "    }\n",
       "\n",
       "    .dataframe thead th {\n",
       "        text-align: left;\n",
       "    }\n",
       "\n",
       "    .dataframe tbody tr th {\n",
       "        vertical-align: top;\n",
       "    }\n",
       "</style>\n",
       "<table border=\"1\" class=\"dataframe\">\n",
       "  <thead>\n",
       "    <tr style=\"text-align: right;\">\n",
       "      <th></th>\n",
       "      <th>Name</th>\n",
       "      <th>survived</th>\n",
       "      <th>sex</th>\n",
       "      <th>age</th>\n",
       "      <th>passengerClass</th>\n",
       "    </tr>\n",
       "  </thead>\n",
       "  <tbody>\n",
       "    <tr>\n",
       "      <th>0</th>\n",
       "      <td>Allen, Miss. Elisabeth Walton</td>\n",
       "      <td>yes</td>\n",
       "      <td>female</td>\n",
       "      <td>29.0000</td>\n",
       "      <td>1st</td>\n",
       "    </tr>\n",
       "    <tr>\n",
       "      <th>1</th>\n",
       "      <td>Allison, Master. Hudson Trevor</td>\n",
       "      <td>yes</td>\n",
       "      <td>male</td>\n",
       "      <td>0.9167</td>\n",
       "      <td>1st</td>\n",
       "    </tr>\n",
       "    <tr>\n",
       "      <th>2</th>\n",
       "      <td>Allison, Miss. Helen Loraine</td>\n",
       "      <td>no</td>\n",
       "      <td>female</td>\n",
       "      <td>2.0000</td>\n",
       "      <td>1st</td>\n",
       "    </tr>\n",
       "    <tr>\n",
       "      <th>3</th>\n",
       "      <td>Allison, Mr. Hudson Joshua Crei</td>\n",
       "      <td>no</td>\n",
       "      <td>male</td>\n",
       "      <td>30.0000</td>\n",
       "      <td>1st</td>\n",
       "    </tr>\n",
       "    <tr>\n",
       "      <th>4</th>\n",
       "      <td>Allison, Mrs. Hudson J C (Bessi</td>\n",
       "      <td>no</td>\n",
       "      <td>female</td>\n",
       "      <td>25.0000</td>\n",
       "      <td>1st</td>\n",
       "    </tr>\n",
       "  </tbody>\n",
       "</table>\n",
       "</div>"
      ],
      "text/plain": [
       "                              Name survived     sex      age passengerClass\n",
       "0    Allen, Miss. Elisabeth Walton      yes  female  29.0000            1st\n",
       "1   Allison, Master. Hudson Trevor      yes    male   0.9167            1st\n",
       "2     Allison, Miss. Helen Loraine       no  female   2.0000            1st\n",
       "3  Allison, Mr. Hudson Joshua Crei       no    male  30.0000            1st\n",
       "4  Allison, Mrs. Hudson J C (Bessi       no  female  25.0000            1st"
      ]
     },
     "execution_count": 462,
     "metadata": {},
     "output_type": "execute_result"
    }
   ],
   "source": [
    "# Loading the titanic data\n",
    "import pandas as pd\n",
    "dfd = pd.read_csv(\"titanic.csv\")\n",
    "dfd.head()"
   ]
  },
  {
   "cell_type": "code",
   "execution_count": null,
   "metadata": {
    "collapsed": false
   },
   "outputs": [],
   "source": [
    "print(dfd)"
   ]
  },
  {
   "cell_type": "code",
   "execution_count": null,
   "metadata": {
    "collapsed": false
   },
   "outputs": [],
   "source": [
    "dfd.tail()"
   ]
  },
  {
   "cell_type": "code",
   "execution_count": null,
   "metadata": {
    "collapsed": false
   },
   "outputs": [],
   "source": [
    "dfd.dtypes"
   ]
  },
  {
   "cell_type": "code",
   "execution_count": null,
   "metadata": {
    "collapsed": false
   },
   "outputs": [],
   "source": [
    "#This is description of the numeric data \n",
    "#View the structure of the object.\n",
    "\n",
    "dfd.describe()"
   ]
  },
  {
   "cell_type": "code",
   "execution_count": null,
   "metadata": {
    "collapsed": false
   },
   "outputs": [],
   "source": [
    "dfd.count()"
   ]
  },
  {
   "cell_type": "code",
   "execution_count": null,
   "metadata": {
    "collapsed": false
   },
   "outputs": [],
   "source": [
    "#shape of the DataFrame\n",
    "dfd.shape"
   ]
  },
  {
   "cell_type": "code",
   "execution_count": null,
   "metadata": {
    "collapsed": false
   },
   "outputs": [],
   "source": [
    "#number of elements in the NDFrame\n",
    "dfd.size"
   ]
  },
  {
   "cell_type": "code",
   "execution_count": null,
   "metadata": {
    "collapsed": false
   },
   "outputs": [],
   "source": [
    "# Summary Equivalent of R in Python\n",
    "summary = dfd.describe()\n",
    "summary = summary.transpose()\n",
    "summary.head()"
   ]
  },
  {
   "cell_type": "code",
   "execution_count": 433,
   "metadata": {
    "collapsed": false
   },
   "outputs": [
    {
     "name": "stdout",
     "output_type": "stream",
     "text": [
      "male      843\n",
      "female    466\n",
      "Name: sex, dtype: int64\n",
      "3rd    709\n",
      "1st    323\n",
      "2nd    277\n",
      "Name: passengerClass, dtype: int64\n"
     ]
    }
   ],
   "source": [
    "#Basic Frequency Table \n",
    "#find number of males and females\n",
    "a = dfd['sex'].value_counts()\n",
    "print(a)\n"
   ]
  },
  {
   "cell_type": "code",
   "execution_count": 447,
   "metadata": {
    "collapsed": false
   },
   "outputs": [
    {
     "name": "stdout",
     "output_type": "stream",
     "text": [
      "3rd    709\n",
      "1st    323\n",
      "2nd    277\n",
      "Name: passengerClass, dtype: int64\n",
      "---------------------------\n",
      "Male passengers \n",
      " 3rd    493\n",
      "1st    179\n",
      "2nd    171\n",
      "Name: passengerClass, dtype: int64\n",
      "Female passengers \n",
      " 3rd    216\n",
      "1st    144\n",
      "2nd    106\n",
      "Name: passengerClass, dtype: int64\n"
     ]
    },
    {
     "data": {
      "text/plain": [
       "3rd                                                     493\n",
       "1st                                                     179\n",
       "2nd                                                     171\n",
       "female    3rd    216\n",
       "1st    144\n",
       "2nd    106\n",
       "Name: passeng...\n",
       "male      3rd    493\n",
       "1st    179\n",
       "2nd    171\n",
       "Name: passeng...\n",
       "Name: passengerClass, dtype: object"
      ]
     },
     "execution_count": 447,
     "metadata": {},
     "output_type": "execute_result"
    }
   ],
   "source": [
    "#Find in each passenger class number of males and females\n",
    "print(dfd['passengerClass'].value_counts())\n",
    "print('---------------------------')\n",
    "print('Male passengers \\n', dfd['passengerClass'][(dfd['sex']=='male')].value_counts())\n",
    "print('Female passengers \\n', dfd['passengerClass'][(dfd['sex']=='female')].value_counts())\n",
    "print('---------------------------')\n",
    "dfpass['male'] = dfd['passengerClass'][(dfd['sex']=='male')].value_counts()\n",
    "dfpass['female'] = dfd['passengerClass'][(dfd['sex']=='female')].value_counts()\n",
    "\n"
   ]
  },
  {
   "cell_type": "code",
   "execution_count": null,
   "metadata": {
    "collapsed": false
   },
   "outputs": [],
   "source": [
    "np.mean(dfd['age']) "
   ]
  },
  {
   "cell_type": "code",
   "execution_count": null,
   "metadata": {
    "collapsed": false
   },
   "outputs": [],
   "source": [
    "#Compute the arithmetic mean along the specified axis, ignoring NaNs.\n",
    "#numpy.nanmean(a, axis=None, dtype=None, out=None, keepdims=<class numpy._globals._NoValue at 0x40ba726c>)[source]\n",
    "np.nanmean(dfd['age'])"
   ]
  },
  {
   "cell_type": "code",
   "execution_count": null,
   "metadata": {
    "collapsed": false
   },
   "outputs": [],
   "source": [
    "dfd['age'].value_counts()"
   ]
  },
  {
   "cell_type": "code",
   "execution_count": null,
   "metadata": {
    "collapsed": false
   },
   "outputs": [],
   "source": [
    "#Changing Data Type of age columns\n",
    "dfd['age'] = dfd['age'].astype(int) # \n"
   ]
  },
  {
   "cell_type": "code",
   "execution_count": null,
   "metadata": {
    "collapsed": true
   },
   "outputs": [],
   "source": [
    "dfd['age'] = dfd['age'].fillna(0).astype(int)\n",
    "#print(dfd.describe)\n",
    "dfd.quantile([0,0.25,0.5,0.75])"
   ]
  },
  {
   "cell_type": "markdown",
   "metadata": {},
   "source": [
    "Home Work <br>\n",
    "**Dataframe fairly unknown Operations** <br>\n",
    "To select rows whose column value equals a scalar, some_value, use ==: <br>\n",
    " df.loc[df['column_name'] == some_value] <br>\n",
    "\n",
    "To select rows whose column value is in an iterable, some_values, use isin: <br>\n",
    " df.loc[df['column_name'].isin(some_values)]<br>\n",
    "\n",
    "To select rows whose column value does not equal some_value, use !=: <br>\n",
    " df.loc[df['column_name'] != some_value]<br>\n",
    "\n",
    "isin returns a boolean Series, so to select rows whose value is not in some_values, negate the boolean Series using ~: <br>\n",
    " df.loc[~df['column_name'].isin(some_values)]<br>\n"
   ]
  },
  {
   "cell_type": "code",
   "execution_count": 384,
   "metadata": {
    "collapsed": false
   },
   "outputs": [
    {
     "data": {
      "text/plain": [
       "Name              466\n",
       "survived          466\n",
       "sex               466\n",
       "age               466\n",
       "passengerClass    466\n",
       "dtype: int64"
      ]
     },
     "execution_count": 384,
     "metadata": {},
     "output_type": "execute_result"
    }
   ],
   "source": [
    "#To select rows whose column value equals a scalar, some_value, use ==:\n",
    "dfd.loc[dfd['sex']=='male']\n",
    "dfd.loc[dfd['sex']=='female'].count()"
   ]
  },
  {
   "cell_type": "code",
   "execution_count": 385,
   "metadata": {
    "collapsed": false
   },
   "outputs": [
    {
     "data": {
      "text/plain": [
       "Name              466\n",
       "survived          466\n",
       "sex               466\n",
       "age               466\n",
       "passengerClass    466\n",
       "dtype: int64"
      ]
     },
     "execution_count": 385,
     "metadata": {},
     "output_type": "execute_result"
    }
   ],
   "source": [
    "dfd[dfd['sex'] =='female'].count()"
   ]
  },
  {
   "cell_type": "code",
   "execution_count": 394,
   "metadata": {
    "collapsed": false
   },
   "outputs": [
    {
     "data": {
      "text/html": [
       "<div>\n",
       "<style>\n",
       "    .dataframe thead tr:only-child th {\n",
       "        text-align: right;\n",
       "    }\n",
       "\n",
       "    .dataframe thead th {\n",
       "        text-align: left;\n",
       "    }\n",
       "\n",
       "    .dataframe tbody tr th {\n",
       "        vertical-align: top;\n",
       "    }\n",
       "</style>\n",
       "<table border=\"1\" class=\"dataframe\">\n",
       "  <thead>\n",
       "    <tr style=\"text-align: right;\">\n",
       "      <th></th>\n",
       "      <th>Name</th>\n",
       "      <th>survived</th>\n",
       "      <th>sex</th>\n",
       "      <th>age</th>\n",
       "      <th>passengerClass</th>\n",
       "    </tr>\n",
       "  </thead>\n",
       "  <tbody>\n",
       "    <tr>\n",
       "      <th>9</th>\n",
       "      <td>Artagaveytia, Mr. Ramon</td>\n",
       "      <td>no</td>\n",
       "      <td>male</td>\n",
       "      <td>71</td>\n",
       "      <td>1st</td>\n",
       "    </tr>\n",
       "    <tr>\n",
       "      <th>14</th>\n",
       "      <td>Barkworth, Mr. Algernon Henry W</td>\n",
       "      <td>yes</td>\n",
       "      <td>male</td>\n",
       "      <td>80</td>\n",
       "      <td>1st</td>\n",
       "    </tr>\n",
       "    <tr>\n",
       "      <th>135</th>\n",
       "      <td>Goldschmidt, Mr. George B</td>\n",
       "      <td>no</td>\n",
       "      <td>male</td>\n",
       "      <td>71</td>\n",
       "      <td>1st</td>\n",
       "    </tr>\n",
       "    <tr>\n",
       "      <th>1235</th>\n",
       "      <td>Svensson, Mr. Johan</td>\n",
       "      <td>no</td>\n",
       "      <td>male</td>\n",
       "      <td>74</td>\n",
       "      <td>3rd</td>\n",
       "    </tr>\n",
       "  </tbody>\n",
       "</table>\n",
       "</div>"
      ],
      "text/plain": [
       "                                 Name survived   sex  age passengerClass\n",
       "9             Artagaveytia, Mr. Ramon       no  male   71            1st\n",
       "14    Barkworth, Mr. Algernon Henry W      yes  male   80            1st\n",
       "135         Goldschmidt, Mr. George B       no  male   71            1st\n",
       "1235              Svensson, Mr. Johan       no  male   74            3rd"
      ]
     },
     "execution_count": 394,
     "metadata": {},
     "output_type": "execute_result"
    }
   ],
   "source": [
    "#lets find out how many males were older than 70\n",
    "dfd[(dfd['sex'] =='male') & (dfd['age']>70)]"
   ]
  },
  {
   "cell_type": "code",
   "execution_count": 396,
   "metadata": {
    "collapsed": false
   },
   "outputs": [
    {
     "data": {
      "text/html": [
       "<div>\n",
       "<style>\n",
       "    .dataframe thead tr:only-child th {\n",
       "        text-align: right;\n",
       "    }\n",
       "\n",
       "    .dataframe thead th {\n",
       "        text-align: left;\n",
       "    }\n",
       "\n",
       "    .dataframe tbody tr th {\n",
       "        vertical-align: top;\n",
       "    }\n",
       "</style>\n",
       "<table border=\"1\" class=\"dataframe\">\n",
       "  <thead>\n",
       "    <tr style=\"text-align: right;\">\n",
       "      <th></th>\n",
       "      <th>Name</th>\n",
       "      <th>survived</th>\n",
       "      <th>sex</th>\n",
       "      <th>age</th>\n",
       "      <th>passengerClass</th>\n",
       "    </tr>\n",
       "  </thead>\n",
       "  <tbody>\n",
       "    <tr>\n",
       "      <th>61</th>\n",
       "      <td>Cavendish, Mrs. Tyrell William</td>\n",
       "      <td>yes</td>\n",
       "      <td>female</td>\n",
       "      <td>76</td>\n",
       "      <td>1st</td>\n",
       "    </tr>\n",
       "  </tbody>\n",
       "</table>\n",
       "</div>"
      ],
      "text/plain": [
       "                              Name survived     sex  age passengerClass\n",
       "61  Cavendish, Mrs. Tyrell William      yes  female   76            1st"
      ]
     },
     "execution_count": 396,
     "metadata": {},
     "output_type": "execute_result"
    }
   ],
   "source": [
    "#lets find out how many females were older than 70\n",
    "dfd[(dfd['sex'] =='female') & (dfd['age']>70)]"
   ]
  },
  {
   "cell_type": "code",
   "execution_count": 408,
   "metadata": {
    "collapsed": false
   },
   "outputs": [
    {
     "name": "stdout",
     "output_type": "stream",
     "text": [
      "Number of Males who survived: 161\n",
      "Number of Females who survived: 339\n",
      "Total Number of people who survived: 500\n",
      "---------------\n",
      " Value Counts \n",
      " no     809\n",
      "yes    500\n",
      "Name: survived, dtype: int64\n"
     ]
    }
   ],
   "source": [
    "#Number of males survived\n",
    "print(\"Number of Males who survived:\", dfd['Name'][(dfd['sex'] == \"male\") & (dfd['survived'] == \"yes\")].count())\n",
    "print(\"Number of Females who survived:\", dfd['Name'][(dfd['sex'] == \"female\") & (dfd['survived'] == \"yes\")].count())\n",
    "print(\"Total Number of people who survived:\", dfd['Name'][(dfd['survived'] == \"yes\")].count())\n",
    "print(\"---------------\\n Value Counts \\n\", dfd['survived'].value_counts())"
   ]
  },
  {
   "cell_type": "code",
   "execution_count": 423,
   "metadata": {
    "collapsed": false
   },
   "outputs": [
    {
     "data": {
      "text/html": [
       "<div>\n",
       "<style>\n",
       "    .dataframe thead tr:only-child th {\n",
       "        text-align: right;\n",
       "    }\n",
       "\n",
       "    .dataframe thead th {\n",
       "        text-align: left;\n",
       "    }\n",
       "\n",
       "    .dataframe tbody tr th {\n",
       "        vertical-align: top;\n",
       "    }\n",
       "</style>\n",
       "<table border=\"1\" class=\"dataframe\">\n",
       "  <thead>\n",
       "    <tr style=\"text-align: right;\">\n",
       "      <th></th>\n",
       "      <th>age</th>\n",
       "      <th>Name</th>\n",
       "    </tr>\n",
       "  </thead>\n",
       "  <tbody>\n",
       "    <tr>\n",
       "      <th>0</th>\n",
       "      <td>29</td>\n",
       "      <td>Allen, Miss. Elisabeth Walton</td>\n",
       "    </tr>\n",
       "    <tr>\n",
       "      <th>1</th>\n",
       "      <td>0</td>\n",
       "      <td>Allison, Master. Hudson Trevor</td>\n",
       "    </tr>\n",
       "    <tr>\n",
       "      <th>2</th>\n",
       "      <td>2</td>\n",
       "      <td>Allison, Miss. Helen Loraine</td>\n",
       "    </tr>\n",
       "    <tr>\n",
       "      <th>3</th>\n",
       "      <td>30</td>\n",
       "      <td>Allison, Mr. Hudson Joshua Crei</td>\n",
       "    </tr>\n",
       "    <tr>\n",
       "      <th>4</th>\n",
       "      <td>25</td>\n",
       "      <td>Allison, Mrs. Hudson J C (Bessi</td>\n",
       "    </tr>\n",
       "    <tr>\n",
       "      <th>5</th>\n",
       "      <td>48</td>\n",
       "      <td>Anderson, Mr. Harry</td>\n",
       "    </tr>\n",
       "    <tr>\n",
       "      <th>6</th>\n",
       "      <td>63</td>\n",
       "      <td>Andrews, Miss. Kornelia Theodos</td>\n",
       "    </tr>\n",
       "    <tr>\n",
       "      <th>7</th>\n",
       "      <td>39</td>\n",
       "      <td>Andrews, Mr. Thomas Jr</td>\n",
       "    </tr>\n",
       "    <tr>\n",
       "      <th>8</th>\n",
       "      <td>53</td>\n",
       "      <td>Appleton, Mrs. Edward Dale (Cha</td>\n",
       "    </tr>\n",
       "    <tr>\n",
       "      <th>9</th>\n",
       "      <td>71</td>\n",
       "      <td>Artagaveytia, Mr. Ramon</td>\n",
       "    </tr>\n",
       "    <tr>\n",
       "      <th>10</th>\n",
       "      <td>47</td>\n",
       "      <td>Astor, Col. John Jacob</td>\n",
       "    </tr>\n",
       "    <tr>\n",
       "      <th>11</th>\n",
       "      <td>18</td>\n",
       "      <td>Astor, Mrs. John Jacob (Madelei</td>\n",
       "    </tr>\n",
       "    <tr>\n",
       "      <th>12</th>\n",
       "      <td>24</td>\n",
       "      <td>Aubart, Mme. Leontine Pauline</td>\n",
       "    </tr>\n",
       "    <tr>\n",
       "      <th>13</th>\n",
       "      <td>26</td>\n",
       "      <td>Barber, Miss. Ellen Nellie</td>\n",
       "    </tr>\n",
       "    <tr>\n",
       "      <th>14</th>\n",
       "      <td>80</td>\n",
       "      <td>Barkworth, Mr. Algernon Henry W</td>\n",
       "    </tr>\n",
       "    <tr>\n",
       "      <th>15</th>\n",
       "      <td>0</td>\n",
       "      <td>Baumann, Mr. John D</td>\n",
       "    </tr>\n",
       "    <tr>\n",
       "      <th>16</th>\n",
       "      <td>24</td>\n",
       "      <td>Baxter, Mr. Quigg Edmond</td>\n",
       "    </tr>\n",
       "    <tr>\n",
       "      <th>17</th>\n",
       "      <td>50</td>\n",
       "      <td>Baxter, Mrs. James (Helene DeLa</td>\n",
       "    </tr>\n",
       "    <tr>\n",
       "      <th>18</th>\n",
       "      <td>32</td>\n",
       "      <td>Bazzani, Miss. Albina</td>\n",
       "    </tr>\n",
       "    <tr>\n",
       "      <th>19</th>\n",
       "      <td>36</td>\n",
       "      <td>Beattie, Mr. Thomson</td>\n",
       "    </tr>\n",
       "    <tr>\n",
       "      <th>20</th>\n",
       "      <td>37</td>\n",
       "      <td>Beckwith, Mr. Richard Leonard</td>\n",
       "    </tr>\n",
       "    <tr>\n",
       "      <th>21</th>\n",
       "      <td>47</td>\n",
       "      <td>Beckwith, Mrs. Richard Leonard</td>\n",
       "    </tr>\n",
       "    <tr>\n",
       "      <th>22</th>\n",
       "      <td>26</td>\n",
       "      <td>Behr, Mr. Karl Howell</td>\n",
       "    </tr>\n",
       "    <tr>\n",
       "      <th>23</th>\n",
       "      <td>42</td>\n",
       "      <td>Bidois, Miss. Rosalie</td>\n",
       "    </tr>\n",
       "    <tr>\n",
       "      <th>24</th>\n",
       "      <td>29</td>\n",
       "      <td>Bird, Miss. Ellen</td>\n",
       "    </tr>\n",
       "    <tr>\n",
       "      <th>25</th>\n",
       "      <td>25</td>\n",
       "      <td>Birnbaum, Mr. Jakob</td>\n",
       "    </tr>\n",
       "    <tr>\n",
       "      <th>26</th>\n",
       "      <td>25</td>\n",
       "      <td>Bishop, Mr. Dickinson H</td>\n",
       "    </tr>\n",
       "    <tr>\n",
       "      <th>27</th>\n",
       "      <td>19</td>\n",
       "      <td>Bishop, Mrs. Dickinson H (Helen</td>\n",
       "    </tr>\n",
       "    <tr>\n",
       "      <th>28</th>\n",
       "      <td>35</td>\n",
       "      <td>Bissette, Miss. Amelia</td>\n",
       "    </tr>\n",
       "    <tr>\n",
       "      <th>29</th>\n",
       "      <td>28</td>\n",
       "      <td>Bjornstrom-Steffansson, Mr. Mau</td>\n",
       "    </tr>\n",
       "    <tr>\n",
       "      <th>...</th>\n",
       "      <td>...</td>\n",
       "      <td>...</td>\n",
       "    </tr>\n",
       "    <tr>\n",
       "      <th>1279</th>\n",
       "      <td>14</td>\n",
       "      <td>Vestrom, Miss. Hulda Amanda Ado</td>\n",
       "    </tr>\n",
       "    <tr>\n",
       "      <th>1280</th>\n",
       "      <td>22</td>\n",
       "      <td>Vovk, Mr. Janko</td>\n",
       "    </tr>\n",
       "    <tr>\n",
       "      <th>1281</th>\n",
       "      <td>22</td>\n",
       "      <td>Waelens, Mr. Achille</td>\n",
       "    </tr>\n",
       "    <tr>\n",
       "      <th>1282</th>\n",
       "      <td>0</td>\n",
       "      <td>Ware, Mr. Frederick</td>\n",
       "    </tr>\n",
       "    <tr>\n",
       "      <th>1283</th>\n",
       "      <td>0</td>\n",
       "      <td>Warren, Mr. Charles William</td>\n",
       "    </tr>\n",
       "    <tr>\n",
       "      <th>1284</th>\n",
       "      <td>0</td>\n",
       "      <td>Webber, Mr. James</td>\n",
       "    </tr>\n",
       "    <tr>\n",
       "      <th>1285</th>\n",
       "      <td>32</td>\n",
       "      <td>Wenzel, Mr. Linhart</td>\n",
       "    </tr>\n",
       "    <tr>\n",
       "      <th>1286</th>\n",
       "      <td>38</td>\n",
       "      <td>Whabee, Mrs. George Joseph (Sha</td>\n",
       "    </tr>\n",
       "    <tr>\n",
       "      <th>1287</th>\n",
       "      <td>51</td>\n",
       "      <td>Widegren, Mr. Carl/Charles Pete</td>\n",
       "    </tr>\n",
       "    <tr>\n",
       "      <th>1288</th>\n",
       "      <td>18</td>\n",
       "      <td>Wiklund, Mr. Jakob Alfred</td>\n",
       "    </tr>\n",
       "    <tr>\n",
       "      <th>1289</th>\n",
       "      <td>21</td>\n",
       "      <td>Wiklund, Mr. Karl Johan</td>\n",
       "    </tr>\n",
       "    <tr>\n",
       "      <th>1290</th>\n",
       "      <td>47</td>\n",
       "      <td>Wilkes, Mrs. James (Ellen Needs</td>\n",
       "    </tr>\n",
       "    <tr>\n",
       "      <th>1291</th>\n",
       "      <td>0</td>\n",
       "      <td>Willer, Mr. Aaron (Abi Weller</td>\n",
       "    </tr>\n",
       "    <tr>\n",
       "      <th>1292</th>\n",
       "      <td>0</td>\n",
       "      <td>Willey, Mr. Edward</td>\n",
       "    </tr>\n",
       "    <tr>\n",
       "      <th>1293</th>\n",
       "      <td>0</td>\n",
       "      <td>Williams, Mr. Howard Hugh Harr</td>\n",
       "    </tr>\n",
       "    <tr>\n",
       "      <th>1294</th>\n",
       "      <td>28</td>\n",
       "      <td>Williams, Mr. Leslie</td>\n",
       "    </tr>\n",
       "    <tr>\n",
       "      <th>1295</th>\n",
       "      <td>21</td>\n",
       "      <td>Windelov, Mr. Einar</td>\n",
       "    </tr>\n",
       "    <tr>\n",
       "      <th>1296</th>\n",
       "      <td>27</td>\n",
       "      <td>Wirz, Mr. Albert</td>\n",
       "    </tr>\n",
       "    <tr>\n",
       "      <th>1297</th>\n",
       "      <td>0</td>\n",
       "      <td>Wiseman, Mr. Phillippe</td>\n",
       "    </tr>\n",
       "    <tr>\n",
       "      <th>1298</th>\n",
       "      <td>36</td>\n",
       "      <td>Wittevrongel, Mr. Camille</td>\n",
       "    </tr>\n",
       "    <tr>\n",
       "      <th>1299</th>\n",
       "      <td>27</td>\n",
       "      <td>Yasbeck, Mr. Antoni</td>\n",
       "    </tr>\n",
       "    <tr>\n",
       "      <th>1300</th>\n",
       "      <td>15</td>\n",
       "      <td>Yasbeck, Mrs. Antoni (Selini Al</td>\n",
       "    </tr>\n",
       "    <tr>\n",
       "      <th>1301</th>\n",
       "      <td>45</td>\n",
       "      <td>Youseff, Mr. Gerious</td>\n",
       "    </tr>\n",
       "    <tr>\n",
       "      <th>1302</th>\n",
       "      <td>0</td>\n",
       "      <td>Yousif, Mr. Wazli</td>\n",
       "    </tr>\n",
       "    <tr>\n",
       "      <th>1303</th>\n",
       "      <td>0</td>\n",
       "      <td>Yousseff, Mr. Gerious</td>\n",
       "    </tr>\n",
       "    <tr>\n",
       "      <th>1304</th>\n",
       "      <td>14</td>\n",
       "      <td>Zabour, Miss. Hileni</td>\n",
       "    </tr>\n",
       "    <tr>\n",
       "      <th>1305</th>\n",
       "      <td>0</td>\n",
       "      <td>Zabour, Miss. Thamine</td>\n",
       "    </tr>\n",
       "    <tr>\n",
       "      <th>1306</th>\n",
       "      <td>26</td>\n",
       "      <td>Zakarian, Mr. Mapriededer</td>\n",
       "    </tr>\n",
       "    <tr>\n",
       "      <th>1307</th>\n",
       "      <td>27</td>\n",
       "      <td>Zakarian, Mr. Ortin</td>\n",
       "    </tr>\n",
       "    <tr>\n",
       "      <th>1308</th>\n",
       "      <td>29</td>\n",
       "      <td>Zimmerman, Mr. Leo</td>\n",
       "    </tr>\n",
       "  </tbody>\n",
       "</table>\n",
       "<p>1309 rows × 2 columns</p>\n",
       "</div>"
      ],
      "text/plain": [
       "      age                             Name\n",
       "0      29    Allen, Miss. Elisabeth Walton\n",
       "1       0   Allison, Master. Hudson Trevor\n",
       "2       2     Allison, Miss. Helen Loraine\n",
       "3      30  Allison, Mr. Hudson Joshua Crei\n",
       "4      25  Allison, Mrs. Hudson J C (Bessi\n",
       "5      48              Anderson, Mr. Harry\n",
       "6      63  Andrews, Miss. Kornelia Theodos\n",
       "7      39           Andrews, Mr. Thomas Jr\n",
       "8      53  Appleton, Mrs. Edward Dale (Cha\n",
       "9      71          Artagaveytia, Mr. Ramon\n",
       "10     47           Astor, Col. John Jacob\n",
       "11     18  Astor, Mrs. John Jacob (Madelei\n",
       "12     24    Aubart, Mme. Leontine Pauline\n",
       "13     26       Barber, Miss. Ellen Nellie\n",
       "14     80  Barkworth, Mr. Algernon Henry W\n",
       "15      0              Baumann, Mr. John D\n",
       "16     24         Baxter, Mr. Quigg Edmond\n",
       "17     50  Baxter, Mrs. James (Helene DeLa\n",
       "18     32            Bazzani, Miss. Albina\n",
       "19     36             Beattie, Mr. Thomson\n",
       "20     37    Beckwith, Mr. Richard Leonard\n",
       "21     47   Beckwith, Mrs. Richard Leonard\n",
       "22     26            Behr, Mr. Karl Howell\n",
       "23     42            Bidois, Miss. Rosalie\n",
       "24     29                Bird, Miss. Ellen\n",
       "25     25              Birnbaum, Mr. Jakob\n",
       "26     25          Bishop, Mr. Dickinson H\n",
       "27     19  Bishop, Mrs. Dickinson H (Helen\n",
       "28     35           Bissette, Miss. Amelia\n",
       "29     28  Bjornstrom-Steffansson, Mr. Mau\n",
       "...   ...                              ...\n",
       "1279   14  Vestrom, Miss. Hulda Amanda Ado\n",
       "1280   22                  Vovk, Mr. Janko\n",
       "1281   22             Waelens, Mr. Achille\n",
       "1282    0              Ware, Mr. Frederick\n",
       "1283    0      Warren, Mr. Charles William\n",
       "1284    0                Webber, Mr. James\n",
       "1285   32              Wenzel, Mr. Linhart\n",
       "1286   38  Whabee, Mrs. George Joseph (Sha\n",
       "1287   51  Widegren, Mr. Carl/Charles Pete\n",
       "1288   18        Wiklund, Mr. Jakob Alfred\n",
       "1289   21          Wiklund, Mr. Karl Johan\n",
       "1290   47  Wilkes, Mrs. James (Ellen Needs\n",
       "1291    0    Willer, Mr. Aaron (Abi Weller\n",
       "1292    0               Willey, Mr. Edward\n",
       "1293    0   Williams, Mr. Howard Hugh Harr\n",
       "1294   28             Williams, Mr. Leslie\n",
       "1295   21              Windelov, Mr. Einar\n",
       "1296   27                 Wirz, Mr. Albert\n",
       "1297    0           Wiseman, Mr. Phillippe\n",
       "1298   36        Wittevrongel, Mr. Camille\n",
       "1299   27              Yasbeck, Mr. Antoni\n",
       "1300   15  Yasbeck, Mrs. Antoni (Selini Al\n",
       "1301   45             Youseff, Mr. Gerious\n",
       "1302    0                Yousif, Mr. Wazli\n",
       "1303    0            Yousseff, Mr. Gerious\n",
       "1304   14             Zabour, Miss. Hileni\n",
       "1305    0            Zabour, Miss. Thamine\n",
       "1306   26        Zakarian, Mr. Mapriededer\n",
       "1307   27              Zakarian, Mr. Ortin\n",
       "1308   29               Zimmerman, Mr. Leo\n",
       "\n",
       "[1309 rows x 2 columns]"
      ]
     },
     "execution_count": 423,
     "metadata": {},
     "output_type": "execute_result"
    }
   ],
   "source": [
    "#Selecting columns\n",
    "dfd[['age','Name']]\n"
   ]
  },
  {
   "cell_type": "code",
   "execution_count": 486,
   "metadata": {
    "collapsed": false
   },
   "outputs": [
    {
     "name": "stdout",
     "output_type": "stream",
     "text": [
      "passengerClass  sex   \n",
      "1st             female    144\n",
      "                male      179\n",
      "2nd             female    106\n",
      "                male      171\n",
      "3rd             female    216\n",
      "                male      493\n",
      "Name: sex, dtype: int64\n",
      "------------------\n",
      "Number of male passengers in 1st class:  179\n"
     ]
    }
   ],
   "source": [
    "####### Group by\n",
    "dfpass = dfd.groupby(['passengerClass', 'sex'])['sex'].count()\n",
    "print(dfpass)\n",
    "print('------------------')\n",
    "print('Number of male passengers in 1st class: ', dfd['passengerClass'][(dfd['passengerClass'] == '1st') & (dfd['sex']=='male')].count())"
   ]
  },
  {
   "cell_type": "code",
   "execution_count": 494,
   "metadata": {
    "collapsed": false
   },
   "outputs": [
    {
     "data": {
      "text/plain": [
       "10               Astor, Col. John Jacob\n",
       "11      Astor, Mrs. John Jacob (Madelei\n",
       "15                  Baumann, Mr. John D\n",
       "34             Borebank, Mr. John James\n",
       "38              Brady, Mr. John Bertram\n",
       "42      Brown, Mrs. John Murray (Caroli\n",
       "80            Crafton, Mr. John Bertram\n",
       "84            Cumings, Mr. John Bradley\n",
       "85      Cumings, Mrs. John Bradley (Flo\n",
       "106                  Farthing, Mr. John\n",
       "109       Flynn, Mr. John Irwin (Irving\n",
       "161     Hogeboom, Mrs. John C (Anna And\n",
       "194            Maguire, Mr. John Edward\n",
       "234     Reuchlin, Jonkheer. John George\n",
       "244                 Ross, Mr. John Hugo\n",
       "249         Ryerson, Master. John Borie\n",
       "266          Smart, Mr. John Montgomery\n",
       "271          Snyder, Mr. John Pillsbury\n",
       "272     Snyder, Mrs. John Pillsbury (Ne\n",
       "294            Thayer, Mr. John Borland\n",
       "295         Thayer, Mr. John Borland Jr\n",
       "296     Thayer, Mrs. John Borland (Mari\n",
       "305                     Weir, Col. John\n",
       "308     White, Mrs. John Stuart (Ella H\n",
       "330                     Ashby, Mr. John\n",
       "345          Berriman, Mr. William John\n",
       "368             Chapman, Mr. John Henry\n",
       "369      Chapman, Mrs. John Henry (Sara\n",
       "385      Davies, Master. John Morgan Jr\n",
       "387     Davies, Mrs. John Morgan (Eliza\n",
       "                     ...               \n",
       "802                     Flynn, Mr. John\n",
       "815                  Garfirth, Mr. John\n",
       "820     Goldsmith, Master. Frank John W\n",
       "821           Goldsmith, Mr. Frank John\n",
       "823     Goldsmith, Mrs. Frank John (Emi\n",
       "868     Holm, Mr. John Fredrik Alexande\n",
       "871                    Horgan, Mr. John\n",
       "894     Johnson, Master. Harold Theodor\n",
       "895        Johnson, Miss. Eleanor Ileen\n",
       "896                 Johnson, Mr. Alfred\n",
       "897        Johnson, Mr. Malkolm Joackim\n",
       "898     Johnson, Mr. William Cahoone Jr\n",
       "899     Johnson, Mrs. Oscar W (Elisabet\n",
       "900     Johnston, Master. William Arthu\n",
       "901     Johnston, Miss. Catherine Helen\n",
       "902              Johnston, Mr. Andrew G\n",
       "903     Johnston, Mrs. Andrew G (Elizab\n",
       "926                   Kennedy, Mr. John\n",
       "929                   Kiernan, Mr. John\n",
       "977       Lovell, Mr. John Hall (Henry)\n",
       "988                     Mahon, Mr. John\n",
       "1119             Perkin, Mr. John Henry\n",
       "1154           Rogers, Mr. William John\n",
       "1161       Rush, Mr. Alfred George John\n",
       "1178           Sage, Mr. George John Jr\n",
       "1179              Sage, Mr. John George\n",
       "1180     Sage, Mrs. John (Annie Bullen)\n",
       "1200                  Simmons, Mr. John\n",
       "1220            Spinner, Mr. Henry John\n",
       "1242                   Thomas, Mr. John\n",
       "Name: Name, Length: 81, dtype: object"
      ]
     },
     "execution_count": 494,
     "metadata": {},
     "output_type": "execute_result"
    }
   ],
   "source": [
    "#find all names that have 'John' in their name\n",
    "#We find 81 people having the name John\n",
    "dfd['Name'][dfd['Name'].str.contains(\"John\")]"
   ]
  },
  {
   "cell_type": "code",
   "execution_count": 506,
   "metadata": {
    "collapsed": false
   },
   "outputs": [
    {
     "data": {
      "text/html": [
       "<div>\n",
       "<style>\n",
       "    .dataframe thead tr:only-child th {\n",
       "        text-align: right;\n",
       "    }\n",
       "\n",
       "    .dataframe thead th {\n",
       "        text-align: left;\n",
       "    }\n",
       "\n",
       "    .dataframe tbody tr th {\n",
       "        vertical-align: top;\n",
       "    }\n",
       "</style>\n",
       "<table border=\"1\" class=\"dataframe\">\n",
       "  <thead>\n",
       "    <tr style=\"text-align: right;\">\n",
       "      <th></th>\n",
       "      <th>Name</th>\n",
       "    </tr>\n",
       "  </thead>\n",
       "  <tbody>\n",
       "    <tr>\n",
       "      <th>1</th>\n",
       "      <td>Allison, Master. Hudson Trevor</td>\n",
       "    </tr>\n",
       "    <tr>\n",
       "      <th>3</th>\n",
       "      <td>Allison, Mr. Hudson Joshua Crei</td>\n",
       "    </tr>\n",
       "    <tr>\n",
       "      <th>5</th>\n",
       "      <td>Anderson, Mr. Harry</td>\n",
       "    </tr>\n",
       "    <tr>\n",
       "      <th>7</th>\n",
       "      <td>Andrews, Mr. Thomas Jr</td>\n",
       "    </tr>\n",
       "    <tr>\n",
       "      <th>9</th>\n",
       "      <td>Artagaveytia, Mr. Ramon</td>\n",
       "    </tr>\n",
       "    <tr>\n",
       "      <th>10</th>\n",
       "      <td>Astor, Col. John Jacob</td>\n",
       "    </tr>\n",
       "    <tr>\n",
       "      <th>14</th>\n",
       "      <td>Barkworth, Mr. Algernon Henry W</td>\n",
       "    </tr>\n",
       "    <tr>\n",
       "      <th>15</th>\n",
       "      <td>Baumann, Mr. John D</td>\n",
       "    </tr>\n",
       "    <tr>\n",
       "      <th>16</th>\n",
       "      <td>Baxter, Mr. Quigg Edmond</td>\n",
       "    </tr>\n",
       "    <tr>\n",
       "      <th>19</th>\n",
       "      <td>Beattie, Mr. Thomson</td>\n",
       "    </tr>\n",
       "    <tr>\n",
       "      <th>20</th>\n",
       "      <td>Beckwith, Mr. Richard Leonard</td>\n",
       "    </tr>\n",
       "    <tr>\n",
       "      <th>22</th>\n",
       "      <td>Behr, Mr. Karl Howell</td>\n",
       "    </tr>\n",
       "    <tr>\n",
       "      <th>25</th>\n",
       "      <td>Birnbaum, Mr. Jakob</td>\n",
       "    </tr>\n",
       "    <tr>\n",
       "      <th>26</th>\n",
       "      <td>Bishop, Mr. Dickinson H</td>\n",
       "    </tr>\n",
       "    <tr>\n",
       "      <th>29</th>\n",
       "      <td>Bjornstrom-Steffansson, Mr. Mau</td>\n",
       "    </tr>\n",
       "    <tr>\n",
       "      <th>30</th>\n",
       "      <td>Blackwell, Mr. Stephen Weart</td>\n",
       "    </tr>\n",
       "    <tr>\n",
       "      <th>31</th>\n",
       "      <td>Blank, Mr. Henry</td>\n",
       "    </tr>\n",
       "    <tr>\n",
       "      <th>34</th>\n",
       "      <td>Borebank, Mr. John James</td>\n",
       "    </tr>\n",
       "    <tr>\n",
       "      <th>37</th>\n",
       "      <td>Bradley, Mr. George (George Ar</td>\n",
       "    </tr>\n",
       "    <tr>\n",
       "      <th>38</th>\n",
       "      <td>Brady, Mr. John Bertram</td>\n",
       "    </tr>\n",
       "    <tr>\n",
       "      <th>39</th>\n",
       "      <td>Brandeis, Mr. Emil</td>\n",
       "    </tr>\n",
       "    <tr>\n",
       "      <th>40</th>\n",
       "      <td>Brewe, Dr. Arthur Jackson</td>\n",
       "    </tr>\n",
       "    <tr>\n",
       "      <th>45</th>\n",
       "      <td>Butt, Major. Archibald Willingh</td>\n",
       "    </tr>\n",
       "    <tr>\n",
       "      <th>46</th>\n",
       "      <td>Cairns, Mr. Alexander</td>\n",
       "    </tr>\n",
       "    <tr>\n",
       "      <th>47</th>\n",
       "      <td>Calderhead, Mr. Edward Penningt</td>\n",
       "    </tr>\n",
       "    <tr>\n",
       "      <th>49</th>\n",
       "      <td>Cardeza, Mr. Thomas Drake Marti</td>\n",
       "    </tr>\n",
       "    <tr>\n",
       "      <th>51</th>\n",
       "      <td>Carlsson, Mr. Frans Olof</td>\n",
       "    </tr>\n",
       "    <tr>\n",
       "      <th>52</th>\n",
       "      <td>Carrau, Mr. Francisco M</td>\n",
       "    </tr>\n",
       "    <tr>\n",
       "      <th>53</th>\n",
       "      <td>Carrau, Mr. Jose Pedro</td>\n",
       "    </tr>\n",
       "    <tr>\n",
       "      <th>54</th>\n",
       "      <td>Carter, Master. William Thornto</td>\n",
       "    </tr>\n",
       "    <tr>\n",
       "      <th>...</th>\n",
       "      <td>...</td>\n",
       "    </tr>\n",
       "    <tr>\n",
       "      <th>1271</th>\n",
       "      <td>Vanden Steen, Mr. Leo Peter</td>\n",
       "    </tr>\n",
       "    <tr>\n",
       "      <th>1272</th>\n",
       "      <td>Vander Cruyssen, Mr. Victor</td>\n",
       "    </tr>\n",
       "    <tr>\n",
       "      <th>1274</th>\n",
       "      <td>Vander Planke, Mr. Julius</td>\n",
       "    </tr>\n",
       "    <tr>\n",
       "      <th>1275</th>\n",
       "      <td>Vander Planke, Mr. Leo Edmondus</td>\n",
       "    </tr>\n",
       "    <tr>\n",
       "      <th>1277</th>\n",
       "      <td>Vartanian, Mr. David</td>\n",
       "    </tr>\n",
       "    <tr>\n",
       "      <th>1278</th>\n",
       "      <td>Vendel, Mr. Olof Edvin</td>\n",
       "    </tr>\n",
       "    <tr>\n",
       "      <th>1280</th>\n",
       "      <td>Vovk, Mr. Janko</td>\n",
       "    </tr>\n",
       "    <tr>\n",
       "      <th>1281</th>\n",
       "      <td>Waelens, Mr. Achille</td>\n",
       "    </tr>\n",
       "    <tr>\n",
       "      <th>1282</th>\n",
       "      <td>Ware, Mr. Frederick</td>\n",
       "    </tr>\n",
       "    <tr>\n",
       "      <th>1283</th>\n",
       "      <td>Warren, Mr. Charles William</td>\n",
       "    </tr>\n",
       "    <tr>\n",
       "      <th>1284</th>\n",
       "      <td>Webber, Mr. James</td>\n",
       "    </tr>\n",
       "    <tr>\n",
       "      <th>1285</th>\n",
       "      <td>Wenzel, Mr. Linhart</td>\n",
       "    </tr>\n",
       "    <tr>\n",
       "      <th>1287</th>\n",
       "      <td>Widegren, Mr. Carl/Charles Pete</td>\n",
       "    </tr>\n",
       "    <tr>\n",
       "      <th>1288</th>\n",
       "      <td>Wiklund, Mr. Jakob Alfred</td>\n",
       "    </tr>\n",
       "    <tr>\n",
       "      <th>1289</th>\n",
       "      <td>Wiklund, Mr. Karl Johan</td>\n",
       "    </tr>\n",
       "    <tr>\n",
       "      <th>1291</th>\n",
       "      <td>Willer, Mr. Aaron (Abi Weller</td>\n",
       "    </tr>\n",
       "    <tr>\n",
       "      <th>1292</th>\n",
       "      <td>Willey, Mr. Edward</td>\n",
       "    </tr>\n",
       "    <tr>\n",
       "      <th>1293</th>\n",
       "      <td>Williams, Mr. Howard Hugh Harr</td>\n",
       "    </tr>\n",
       "    <tr>\n",
       "      <th>1294</th>\n",
       "      <td>Williams, Mr. Leslie</td>\n",
       "    </tr>\n",
       "    <tr>\n",
       "      <th>1295</th>\n",
       "      <td>Windelov, Mr. Einar</td>\n",
       "    </tr>\n",
       "    <tr>\n",
       "      <th>1296</th>\n",
       "      <td>Wirz, Mr. Albert</td>\n",
       "    </tr>\n",
       "    <tr>\n",
       "      <th>1297</th>\n",
       "      <td>Wiseman, Mr. Phillippe</td>\n",
       "    </tr>\n",
       "    <tr>\n",
       "      <th>1298</th>\n",
       "      <td>Wittevrongel, Mr. Camille</td>\n",
       "    </tr>\n",
       "    <tr>\n",
       "      <th>1299</th>\n",
       "      <td>Yasbeck, Mr. Antoni</td>\n",
       "    </tr>\n",
       "    <tr>\n",
       "      <th>1301</th>\n",
       "      <td>Youseff, Mr. Gerious</td>\n",
       "    </tr>\n",
       "    <tr>\n",
       "      <th>1302</th>\n",
       "      <td>Yousif, Mr. Wazli</td>\n",
       "    </tr>\n",
       "    <tr>\n",
       "      <th>1303</th>\n",
       "      <td>Yousseff, Mr. Gerious</td>\n",
       "    </tr>\n",
       "    <tr>\n",
       "      <th>1306</th>\n",
       "      <td>Zakarian, Mr. Mapriededer</td>\n",
       "    </tr>\n",
       "    <tr>\n",
       "      <th>1307</th>\n",
       "      <td>Zakarian, Mr. Ortin</td>\n",
       "    </tr>\n",
       "    <tr>\n",
       "      <th>1308</th>\n",
       "      <td>Zimmerman, Mr. Leo</td>\n",
       "    </tr>\n",
       "  </tbody>\n",
       "</table>\n",
       "<p>843 rows × 1 columns</p>\n",
       "</div>"
      ],
      "text/plain": [
       "                                 Name\n",
       "1      Allison, Master. Hudson Trevor\n",
       "3     Allison, Mr. Hudson Joshua Crei\n",
       "5                 Anderson, Mr. Harry\n",
       "7              Andrews, Mr. Thomas Jr\n",
       "9             Artagaveytia, Mr. Ramon\n",
       "10             Astor, Col. John Jacob\n",
       "14    Barkworth, Mr. Algernon Henry W\n",
       "15                Baumann, Mr. John D\n",
       "16           Baxter, Mr. Quigg Edmond\n",
       "19               Beattie, Mr. Thomson\n",
       "20      Beckwith, Mr. Richard Leonard\n",
       "22              Behr, Mr. Karl Howell\n",
       "25                Birnbaum, Mr. Jakob\n",
       "26            Bishop, Mr. Dickinson H\n",
       "29    Bjornstrom-Steffansson, Mr. Mau\n",
       "30       Blackwell, Mr. Stephen Weart\n",
       "31                   Blank, Mr. Henry\n",
       "34           Borebank, Mr. John James\n",
       "37     Bradley, Mr. George (George Ar\n",
       "38            Brady, Mr. John Bertram\n",
       "39                 Brandeis, Mr. Emil\n",
       "40          Brewe, Dr. Arthur Jackson\n",
       "45    Butt, Major. Archibald Willingh\n",
       "46              Cairns, Mr. Alexander\n",
       "47    Calderhead, Mr. Edward Penningt\n",
       "49    Cardeza, Mr. Thomas Drake Marti\n",
       "51           Carlsson, Mr. Frans Olof\n",
       "52            Carrau, Mr. Francisco M\n",
       "53             Carrau, Mr. Jose Pedro\n",
       "54    Carter, Master. William Thornto\n",
       "...                               ...\n",
       "1271      Vanden Steen, Mr. Leo Peter\n",
       "1272      Vander Cruyssen, Mr. Victor\n",
       "1274        Vander Planke, Mr. Julius\n",
       "1275  Vander Planke, Mr. Leo Edmondus\n",
       "1277             Vartanian, Mr. David\n",
       "1278           Vendel, Mr. Olof Edvin\n",
       "1280                  Vovk, Mr. Janko\n",
       "1281             Waelens, Mr. Achille\n",
       "1282              Ware, Mr. Frederick\n",
       "1283      Warren, Mr. Charles William\n",
       "1284                Webber, Mr. James\n",
       "1285              Wenzel, Mr. Linhart\n",
       "1287  Widegren, Mr. Carl/Charles Pete\n",
       "1288        Wiklund, Mr. Jakob Alfred\n",
       "1289          Wiklund, Mr. Karl Johan\n",
       "1291    Willer, Mr. Aaron (Abi Weller\n",
       "1292               Willey, Mr. Edward\n",
       "1293   Williams, Mr. Howard Hugh Harr\n",
       "1294             Williams, Mr. Leslie\n",
       "1295              Windelov, Mr. Einar\n",
       "1296                 Wirz, Mr. Albert\n",
       "1297           Wiseman, Mr. Phillippe\n",
       "1298        Wittevrongel, Mr. Camille\n",
       "1299              Yasbeck, Mr. Antoni\n",
       "1301             Youseff, Mr. Gerious\n",
       "1302                Yousif, Mr. Wazli\n",
       "1303            Yousseff, Mr. Gerious\n",
       "1306        Zakarian, Mr. Mapriededer\n",
       "1307              Zakarian, Mr. Ortin\n",
       "1308               Zimmerman, Mr. Leo\n",
       "\n",
       "[843 rows x 1 columns]"
      ]
     },
     "execution_count": 506,
     "metadata": {},
     "output_type": "execute_result"
    }
   ],
   "source": [
    "#column index also starts with 0\n",
    "dfd[dfd.columns[0:1]][dfd['sex']=='male']\n",
    "#dfd[dfd['sex']=='male']"
   ]
  },
  {
   "cell_type": "code",
   "execution_count": 410,
   "metadata": {
    "collapsed": false
   },
   "outputs": [
    {
     "data": {
      "text/html": [
       "<div>\n",
       "<style>\n",
       "    .dataframe thead tr:only-child th {\n",
       "        text-align: right;\n",
       "    }\n",
       "\n",
       "    .dataframe thead th {\n",
       "        text-align: left;\n",
       "    }\n",
       "\n",
       "    .dataframe tbody tr th {\n",
       "        vertical-align: top;\n",
       "    }\n",
       "</style>\n",
       "<table border=\"1\" class=\"dataframe\">\n",
       "  <thead>\n",
       "    <tr style=\"text-align: right;\">\n",
       "      <th></th>\n",
       "      <th>Name</th>\n",
       "      <th>survived</th>\n",
       "      <th>sex</th>\n",
       "      <th>age</th>\n",
       "      <th>passengerClass</th>\n",
       "    </tr>\n",
       "  </thead>\n",
       "  <tbody>\n",
       "    <tr>\n",
       "      <th>0</th>\n",
       "      <td>Allen, Miss. Elisabeth Walton</td>\n",
       "      <td>yes</td>\n",
       "      <td>female</td>\n",
       "      <td>29</td>\n",
       "      <td>1st</td>\n",
       "    </tr>\n",
       "    <tr>\n",
       "      <th>1</th>\n",
       "      <td>Allison, Master. Hudson Trevor</td>\n",
       "      <td>yes</td>\n",
       "      <td>male</td>\n",
       "      <td>0</td>\n",
       "      <td>1st</td>\n",
       "    </tr>\n",
       "    <tr>\n",
       "      <th>2</th>\n",
       "      <td>Allison, Miss. Helen Loraine</td>\n",
       "      <td>no</td>\n",
       "      <td>female</td>\n",
       "      <td>2</td>\n",
       "      <td>1st</td>\n",
       "    </tr>\n",
       "    <tr>\n",
       "      <th>3</th>\n",
       "      <td>Allison, Mr. Hudson Joshua Crei</td>\n",
       "      <td>no</td>\n",
       "      <td>male</td>\n",
       "      <td>30</td>\n",
       "      <td>1st</td>\n",
       "    </tr>\n",
       "    <tr>\n",
       "      <th>4</th>\n",
       "      <td>Allison, Mrs. Hudson J C (Bessi</td>\n",
       "      <td>no</td>\n",
       "      <td>female</td>\n",
       "      <td>25</td>\n",
       "      <td>1st</td>\n",
       "    </tr>\n",
       "    <tr>\n",
       "      <th>5</th>\n",
       "      <td>Anderson, Mr. Harry</td>\n",
       "      <td>yes</td>\n",
       "      <td>male</td>\n",
       "      <td>48</td>\n",
       "      <td>1st</td>\n",
       "    </tr>\n",
       "    <tr>\n",
       "      <th>6</th>\n",
       "      <td>Andrews, Miss. Kornelia Theodos</td>\n",
       "      <td>yes</td>\n",
       "      <td>female</td>\n",
       "      <td>63</td>\n",
       "      <td>1st</td>\n",
       "    </tr>\n",
       "    <tr>\n",
       "      <th>7</th>\n",
       "      <td>Andrews, Mr. Thomas Jr</td>\n",
       "      <td>no</td>\n",
       "      <td>male</td>\n",
       "      <td>39</td>\n",
       "      <td>1st</td>\n",
       "    </tr>\n",
       "    <tr>\n",
       "      <th>8</th>\n",
       "      <td>Appleton, Mrs. Edward Dale (Cha</td>\n",
       "      <td>yes</td>\n",
       "      <td>female</td>\n",
       "      <td>53</td>\n",
       "      <td>1st</td>\n",
       "    </tr>\n",
       "    <tr>\n",
       "      <th>9</th>\n",
       "      <td>Artagaveytia, Mr. Ramon</td>\n",
       "      <td>no</td>\n",
       "      <td>male</td>\n",
       "      <td>71</td>\n",
       "      <td>1st</td>\n",
       "    </tr>\n",
       "    <tr>\n",
       "      <th>10</th>\n",
       "      <td>Astor, Col. John Jacob</td>\n",
       "      <td>no</td>\n",
       "      <td>male</td>\n",
       "      <td>47</td>\n",
       "      <td>1st</td>\n",
       "    </tr>\n",
       "    <tr>\n",
       "      <th>11</th>\n",
       "      <td>Astor, Mrs. John Jacob (Madelei</td>\n",
       "      <td>yes</td>\n",
       "      <td>female</td>\n",
       "      <td>18</td>\n",
       "      <td>1st</td>\n",
       "    </tr>\n",
       "    <tr>\n",
       "      <th>12</th>\n",
       "      <td>Aubart, Mme. Leontine Pauline</td>\n",
       "      <td>yes</td>\n",
       "      <td>female</td>\n",
       "      <td>24</td>\n",
       "      <td>1st</td>\n",
       "    </tr>\n",
       "    <tr>\n",
       "      <th>13</th>\n",
       "      <td>Barber, Miss. Ellen Nellie</td>\n",
       "      <td>yes</td>\n",
       "      <td>female</td>\n",
       "      <td>26</td>\n",
       "      <td>1st</td>\n",
       "    </tr>\n",
       "    <tr>\n",
       "      <th>14</th>\n",
       "      <td>Barkworth, Mr. Algernon Henry W</td>\n",
       "      <td>yes</td>\n",
       "      <td>male</td>\n",
       "      <td>80</td>\n",
       "      <td>1st</td>\n",
       "    </tr>\n",
       "    <tr>\n",
       "      <th>15</th>\n",
       "      <td>Baumann, Mr. John D</td>\n",
       "      <td>no</td>\n",
       "      <td>male</td>\n",
       "      <td>0</td>\n",
       "      <td>1st</td>\n",
       "    </tr>\n",
       "    <tr>\n",
       "      <th>16</th>\n",
       "      <td>Baxter, Mr. Quigg Edmond</td>\n",
       "      <td>no</td>\n",
       "      <td>male</td>\n",
       "      <td>24</td>\n",
       "      <td>1st</td>\n",
       "    </tr>\n",
       "    <tr>\n",
       "      <th>17</th>\n",
       "      <td>Baxter, Mrs. James (Helene DeLa</td>\n",
       "      <td>yes</td>\n",
       "      <td>female</td>\n",
       "      <td>50</td>\n",
       "      <td>1st</td>\n",
       "    </tr>\n",
       "    <tr>\n",
       "      <th>18</th>\n",
       "      <td>Bazzani, Miss. Albina</td>\n",
       "      <td>yes</td>\n",
       "      <td>female</td>\n",
       "      <td>32</td>\n",
       "      <td>1st</td>\n",
       "    </tr>\n",
       "    <tr>\n",
       "      <th>19</th>\n",
       "      <td>Beattie, Mr. Thomson</td>\n",
       "      <td>no</td>\n",
       "      <td>male</td>\n",
       "      <td>36</td>\n",
       "      <td>1st</td>\n",
       "    </tr>\n",
       "    <tr>\n",
       "      <th>20</th>\n",
       "      <td>Beckwith, Mr. Richard Leonard</td>\n",
       "      <td>yes</td>\n",
       "      <td>male</td>\n",
       "      <td>37</td>\n",
       "      <td>1st</td>\n",
       "    </tr>\n",
       "    <tr>\n",
       "      <th>21</th>\n",
       "      <td>Beckwith, Mrs. Richard Leonard</td>\n",
       "      <td>yes</td>\n",
       "      <td>female</td>\n",
       "      <td>47</td>\n",
       "      <td>1st</td>\n",
       "    </tr>\n",
       "    <tr>\n",
       "      <th>22</th>\n",
       "      <td>Behr, Mr. Karl Howell</td>\n",
       "      <td>yes</td>\n",
       "      <td>male</td>\n",
       "      <td>26</td>\n",
       "      <td>1st</td>\n",
       "    </tr>\n",
       "    <tr>\n",
       "      <th>23</th>\n",
       "      <td>Bidois, Miss. Rosalie</td>\n",
       "      <td>yes</td>\n",
       "      <td>female</td>\n",
       "      <td>42</td>\n",
       "      <td>1st</td>\n",
       "    </tr>\n",
       "    <tr>\n",
       "      <th>24</th>\n",
       "      <td>Bird, Miss. Ellen</td>\n",
       "      <td>yes</td>\n",
       "      <td>female</td>\n",
       "      <td>29</td>\n",
       "      <td>1st</td>\n",
       "    </tr>\n",
       "    <tr>\n",
       "      <th>25</th>\n",
       "      <td>Birnbaum, Mr. Jakob</td>\n",
       "      <td>no</td>\n",
       "      <td>male</td>\n",
       "      <td>25</td>\n",
       "      <td>1st</td>\n",
       "    </tr>\n",
       "    <tr>\n",
       "      <th>26</th>\n",
       "      <td>Bishop, Mr. Dickinson H</td>\n",
       "      <td>yes</td>\n",
       "      <td>male</td>\n",
       "      <td>25</td>\n",
       "      <td>1st</td>\n",
       "    </tr>\n",
       "    <tr>\n",
       "      <th>27</th>\n",
       "      <td>Bishop, Mrs. Dickinson H (Helen</td>\n",
       "      <td>yes</td>\n",
       "      <td>female</td>\n",
       "      <td>19</td>\n",
       "      <td>1st</td>\n",
       "    </tr>\n",
       "    <tr>\n",
       "      <th>28</th>\n",
       "      <td>Bissette, Miss. Amelia</td>\n",
       "      <td>yes</td>\n",
       "      <td>female</td>\n",
       "      <td>35</td>\n",
       "      <td>1st</td>\n",
       "    </tr>\n",
       "    <tr>\n",
       "      <th>29</th>\n",
       "      <td>Bjornstrom-Steffansson, Mr. Mau</td>\n",
       "      <td>yes</td>\n",
       "      <td>male</td>\n",
       "      <td>28</td>\n",
       "      <td>1st</td>\n",
       "    </tr>\n",
       "    <tr>\n",
       "      <th>...</th>\n",
       "      <td>...</td>\n",
       "      <td>...</td>\n",
       "      <td>...</td>\n",
       "      <td>...</td>\n",
       "      <td>...</td>\n",
       "    </tr>\n",
       "    <tr>\n",
       "      <th>570</th>\n",
       "      <td>Toomey, Miss. Ellen</td>\n",
       "      <td>yes</td>\n",
       "      <td>female</td>\n",
       "      <td>50</td>\n",
       "      <td>2nd</td>\n",
       "    </tr>\n",
       "    <tr>\n",
       "      <th>571</th>\n",
       "      <td>Troupiansky, Mr. Moses Aaron</td>\n",
       "      <td>no</td>\n",
       "      <td>male</td>\n",
       "      <td>23</td>\n",
       "      <td>2nd</td>\n",
       "    </tr>\n",
       "    <tr>\n",
       "      <th>572</th>\n",
       "      <td>Trout, Mrs. William H (Jessie L</td>\n",
       "      <td>yes</td>\n",
       "      <td>female</td>\n",
       "      <td>28</td>\n",
       "      <td>2nd</td>\n",
       "    </tr>\n",
       "    <tr>\n",
       "      <th>573</th>\n",
       "      <td>Troutt, Miss. Edwina Celia Win</td>\n",
       "      <td>yes</td>\n",
       "      <td>female</td>\n",
       "      <td>27</td>\n",
       "      <td>2nd</td>\n",
       "    </tr>\n",
       "    <tr>\n",
       "      <th>574</th>\n",
       "      <td>Turpin, Mr. William John Robert</td>\n",
       "      <td>no</td>\n",
       "      <td>male</td>\n",
       "      <td>29</td>\n",
       "      <td>2nd</td>\n",
       "    </tr>\n",
       "    <tr>\n",
       "      <th>575</th>\n",
       "      <td>Turpin, Mrs. William John Rober</td>\n",
       "      <td>no</td>\n",
       "      <td>female</td>\n",
       "      <td>27</td>\n",
       "      <td>2nd</td>\n",
       "    </tr>\n",
       "    <tr>\n",
       "      <th>576</th>\n",
       "      <td>Veal, Mr. James</td>\n",
       "      <td>no</td>\n",
       "      <td>male</td>\n",
       "      <td>40</td>\n",
       "      <td>2nd</td>\n",
       "    </tr>\n",
       "    <tr>\n",
       "      <th>577</th>\n",
       "      <td>Walcroft, Miss. Nellie</td>\n",
       "      <td>yes</td>\n",
       "      <td>female</td>\n",
       "      <td>31</td>\n",
       "      <td>2nd</td>\n",
       "    </tr>\n",
       "    <tr>\n",
       "      <th>578</th>\n",
       "      <td>Ware, Mr. John James</td>\n",
       "      <td>no</td>\n",
       "      <td>male</td>\n",
       "      <td>30</td>\n",
       "      <td>2nd</td>\n",
       "    </tr>\n",
       "    <tr>\n",
       "      <th>579</th>\n",
       "      <td>Ware, Mr. William Jeffery</td>\n",
       "      <td>no</td>\n",
       "      <td>male</td>\n",
       "      <td>23</td>\n",
       "      <td>2nd</td>\n",
       "    </tr>\n",
       "    <tr>\n",
       "      <th>580</th>\n",
       "      <td>Ware, Mrs. John James (Florence</td>\n",
       "      <td>yes</td>\n",
       "      <td>female</td>\n",
       "      <td>31</td>\n",
       "      <td>2nd</td>\n",
       "    </tr>\n",
       "    <tr>\n",
       "      <th>581</th>\n",
       "      <td>Watson, Mr. Ennis Hastings</td>\n",
       "      <td>no</td>\n",
       "      <td>male</td>\n",
       "      <td>0</td>\n",
       "      <td>2nd</td>\n",
       "    </tr>\n",
       "    <tr>\n",
       "      <th>582</th>\n",
       "      <td>Watt, Miss. Bertha J</td>\n",
       "      <td>yes</td>\n",
       "      <td>female</td>\n",
       "      <td>12</td>\n",
       "      <td>2nd</td>\n",
       "    </tr>\n",
       "    <tr>\n",
       "      <th>583</th>\n",
       "      <td>Watt, Mrs. James (Elizabeth Be</td>\n",
       "      <td>yes</td>\n",
       "      <td>female</td>\n",
       "      <td>40</td>\n",
       "      <td>2nd</td>\n",
       "    </tr>\n",
       "    <tr>\n",
       "      <th>584</th>\n",
       "      <td>Webber, Miss. Susan</td>\n",
       "      <td>yes</td>\n",
       "      <td>female</td>\n",
       "      <td>32</td>\n",
       "      <td>2nd</td>\n",
       "    </tr>\n",
       "    <tr>\n",
       "      <th>585</th>\n",
       "      <td>Weisz, Mr. Leopold</td>\n",
       "      <td>no</td>\n",
       "      <td>male</td>\n",
       "      <td>27</td>\n",
       "      <td>2nd</td>\n",
       "    </tr>\n",
       "    <tr>\n",
       "      <th>586</th>\n",
       "      <td>Weisz, Mrs. Leopold (Mathilde F</td>\n",
       "      <td>yes</td>\n",
       "      <td>female</td>\n",
       "      <td>29</td>\n",
       "      <td>2nd</td>\n",
       "    </tr>\n",
       "    <tr>\n",
       "      <th>587</th>\n",
       "      <td>Wells, Master. Ralph Lester</td>\n",
       "      <td>yes</td>\n",
       "      <td>male</td>\n",
       "      <td>2</td>\n",
       "      <td>2nd</td>\n",
       "    </tr>\n",
       "    <tr>\n",
       "      <th>588</th>\n",
       "      <td>Wells, Miss. Joan</td>\n",
       "      <td>yes</td>\n",
       "      <td>female</td>\n",
       "      <td>4</td>\n",
       "      <td>2nd</td>\n",
       "    </tr>\n",
       "    <tr>\n",
       "      <th>589</th>\n",
       "      <td>Wells, Mrs. Arthur Henry (Addi</td>\n",
       "      <td>yes</td>\n",
       "      <td>female</td>\n",
       "      <td>29</td>\n",
       "      <td>2nd</td>\n",
       "    </tr>\n",
       "    <tr>\n",
       "      <th>590</th>\n",
       "      <td>West, Miss. Barbara J</td>\n",
       "      <td>yes</td>\n",
       "      <td>female</td>\n",
       "      <td>0</td>\n",
       "      <td>2nd</td>\n",
       "    </tr>\n",
       "    <tr>\n",
       "      <th>591</th>\n",
       "      <td>West, Miss. Constance Mirium</td>\n",
       "      <td>yes</td>\n",
       "      <td>female</td>\n",
       "      <td>5</td>\n",
       "      <td>2nd</td>\n",
       "    </tr>\n",
       "    <tr>\n",
       "      <th>592</th>\n",
       "      <td>West, Mr. Edwy Arthur</td>\n",
       "      <td>no</td>\n",
       "      <td>male</td>\n",
       "      <td>36</td>\n",
       "      <td>2nd</td>\n",
       "    </tr>\n",
       "    <tr>\n",
       "      <th>593</th>\n",
       "      <td>West, Mrs. Edwy Arthur (Ada Mar</td>\n",
       "      <td>yes</td>\n",
       "      <td>female</td>\n",
       "      <td>33</td>\n",
       "      <td>2nd</td>\n",
       "    </tr>\n",
       "    <tr>\n",
       "      <th>594</th>\n",
       "      <td>Wheadon, Mr. Edward H</td>\n",
       "      <td>no</td>\n",
       "      <td>male</td>\n",
       "      <td>66</td>\n",
       "      <td>2nd</td>\n",
       "    </tr>\n",
       "    <tr>\n",
       "      <th>595</th>\n",
       "      <td>Wheeler, Mr. Edwin Frederick</td>\n",
       "      <td>no</td>\n",
       "      <td>male</td>\n",
       "      <td>0</td>\n",
       "      <td>2nd</td>\n",
       "    </tr>\n",
       "    <tr>\n",
       "      <th>596</th>\n",
       "      <td>Wilhelms, Mr. Charles</td>\n",
       "      <td>yes</td>\n",
       "      <td>male</td>\n",
       "      <td>31</td>\n",
       "      <td>2nd</td>\n",
       "    </tr>\n",
       "    <tr>\n",
       "      <th>597</th>\n",
       "      <td>Williams, Mr. Charles Eugene</td>\n",
       "      <td>yes</td>\n",
       "      <td>male</td>\n",
       "      <td>0</td>\n",
       "      <td>2nd</td>\n",
       "    </tr>\n",
       "    <tr>\n",
       "      <th>598</th>\n",
       "      <td>Wright, Miss. Marion</td>\n",
       "      <td>yes</td>\n",
       "      <td>female</td>\n",
       "      <td>26</td>\n",
       "      <td>2nd</td>\n",
       "    </tr>\n",
       "    <tr>\n",
       "      <th>599</th>\n",
       "      <td>Yrois, Miss. Henriette (Mrs Ha</td>\n",
       "      <td>no</td>\n",
       "      <td>female</td>\n",
       "      <td>24</td>\n",
       "      <td>2nd</td>\n",
       "    </tr>\n",
       "  </tbody>\n",
       "</table>\n",
       "<p>600 rows × 5 columns</p>\n",
       "</div>"
      ],
      "text/plain": [
       "                                Name survived     sex  age passengerClass\n",
       "0      Allen, Miss. Elisabeth Walton      yes  female   29            1st\n",
       "1     Allison, Master. Hudson Trevor      yes    male    0            1st\n",
       "2       Allison, Miss. Helen Loraine       no  female    2            1st\n",
       "3    Allison, Mr. Hudson Joshua Crei       no    male   30            1st\n",
       "4    Allison, Mrs. Hudson J C (Bessi       no  female   25            1st\n",
       "5                Anderson, Mr. Harry      yes    male   48            1st\n",
       "6    Andrews, Miss. Kornelia Theodos      yes  female   63            1st\n",
       "7             Andrews, Mr. Thomas Jr       no    male   39            1st\n",
       "8    Appleton, Mrs. Edward Dale (Cha      yes  female   53            1st\n",
       "9            Artagaveytia, Mr. Ramon       no    male   71            1st\n",
       "10            Astor, Col. John Jacob       no    male   47            1st\n",
       "11   Astor, Mrs. John Jacob (Madelei      yes  female   18            1st\n",
       "12     Aubart, Mme. Leontine Pauline      yes  female   24            1st\n",
       "13        Barber, Miss. Ellen Nellie      yes  female   26            1st\n",
       "14   Barkworth, Mr. Algernon Henry W      yes    male   80            1st\n",
       "15               Baumann, Mr. John D       no    male    0            1st\n",
       "16          Baxter, Mr. Quigg Edmond       no    male   24            1st\n",
       "17   Baxter, Mrs. James (Helene DeLa      yes  female   50            1st\n",
       "18             Bazzani, Miss. Albina      yes  female   32            1st\n",
       "19              Beattie, Mr. Thomson       no    male   36            1st\n",
       "20     Beckwith, Mr. Richard Leonard      yes    male   37            1st\n",
       "21    Beckwith, Mrs. Richard Leonard      yes  female   47            1st\n",
       "22             Behr, Mr. Karl Howell      yes    male   26            1st\n",
       "23             Bidois, Miss. Rosalie      yes  female   42            1st\n",
       "24                 Bird, Miss. Ellen      yes  female   29            1st\n",
       "25               Birnbaum, Mr. Jakob       no    male   25            1st\n",
       "26           Bishop, Mr. Dickinson H      yes    male   25            1st\n",
       "27   Bishop, Mrs. Dickinson H (Helen      yes  female   19            1st\n",
       "28            Bissette, Miss. Amelia      yes  female   35            1st\n",
       "29   Bjornstrom-Steffansson, Mr. Mau      yes    male   28            1st\n",
       "..                               ...      ...     ...  ...            ...\n",
       "570              Toomey, Miss. Ellen      yes  female   50            2nd\n",
       "571     Troupiansky, Mr. Moses Aaron       no    male   23            2nd\n",
       "572  Trout, Mrs. William H (Jessie L      yes  female   28            2nd\n",
       "573   Troutt, Miss. Edwina Celia Win      yes  female   27            2nd\n",
       "574  Turpin, Mr. William John Robert       no    male   29            2nd\n",
       "575  Turpin, Mrs. William John Rober       no  female   27            2nd\n",
       "576                  Veal, Mr. James       no    male   40            2nd\n",
       "577           Walcroft, Miss. Nellie      yes  female   31            2nd\n",
       "578             Ware, Mr. John James       no    male   30            2nd\n",
       "579        Ware, Mr. William Jeffery       no    male   23            2nd\n",
       "580  Ware, Mrs. John James (Florence      yes  female   31            2nd\n",
       "581       Watson, Mr. Ennis Hastings       no    male    0            2nd\n",
       "582             Watt, Miss. Bertha J      yes  female   12            2nd\n",
       "583   Watt, Mrs. James (Elizabeth Be      yes  female   40            2nd\n",
       "584              Webber, Miss. Susan      yes  female   32            2nd\n",
       "585               Weisz, Mr. Leopold       no    male   27            2nd\n",
       "586  Weisz, Mrs. Leopold (Mathilde F      yes  female   29            2nd\n",
       "587      Wells, Master. Ralph Lester      yes    male    2            2nd\n",
       "588                Wells, Miss. Joan      yes  female    4            2nd\n",
       "589   Wells, Mrs. Arthur Henry (Addi      yes  female   29            2nd\n",
       "590            West, Miss. Barbara J      yes  female    0            2nd\n",
       "591     West, Miss. Constance Mirium      yes  female    5            2nd\n",
       "592            West, Mr. Edwy Arthur       no    male   36            2nd\n",
       "593  West, Mrs. Edwy Arthur (Ada Mar      yes  female   33            2nd\n",
       "594            Wheadon, Mr. Edward H       no    male   66            2nd\n",
       "595     Wheeler, Mr. Edwin Frederick       no    male    0            2nd\n",
       "596            Wilhelms, Mr. Charles      yes    male   31            2nd\n",
       "597     Williams, Mr. Charles Eugene      yes    male    0            2nd\n",
       "598             Wright, Miss. Marion      yes  female   26            2nd\n",
       "599   Yrois, Miss. Henriette (Mrs Ha       no  female   24            2nd\n",
       "\n",
       "[600 rows x 5 columns]"
      ]
     },
     "execution_count": 410,
     "metadata": {},
     "output_type": "execute_result"
    }
   ],
   "source": [
    "#To select rows whose column value is in an iterable, some_values, use isin:\n",
    "dfd[dfd['passengerClass'].isin(['1st','2nd'])]"
   ]
  },
  {
   "cell_type": "raw",
   "metadata": {},
   "source": [
    "# Working with data.\n",
    "\n",
    "table(dfd$sex)                                                                   #Get a basic frequency table.\n",
    "with(dfd, table(sex, survived))                                                  #Cross sex with survival.\n",
    "with(dfd, prop.table(table(sex, survived), margin=1))                            #Look at percent survival by sex.\n",
    "\n",
    "mean(dfd$age)                                                                    #Hmmm...this doesn't give us what we expected.\n",
    "mean(dfd$age, na.rm=TRUE)                                                        #Now we get it!\n",
    "\n",
    "quantile(dfd$age, probs=c(0, 0.25, 0.5, 0.75, 1), na.rm=TRUE)                    #Just as an aside...\n",
    "sum(is.na(dfd$age))                                                              #Count the missing values for age.\n",
    "mean(!is.na(dfd$age))                                                            #Percent of passengers for which age is known.\n",
    "\n",
    "View(subset(dfd, age<1))                                                         #Get a subset (and view the dataset).\n",
    "View(dfd[dfd$age<1,])                                                            #Same thing, harder to read, but important to understand...and a gotcha.\n",
    "View(dfd[dfd$age<1 & !is.na(dfd$age),])                                          #How to get the 'right' answer."
   ]
  },
  {
   "cell_type": "markdown",
   "metadata": {},
   "source": [
    "### Dataframe Merge, join, and concatenate"
   ]
  },
  {
   "cell_type": "raw",
   "metadata": {},
   "source": [
    "TODO : Add dataframe merge join operations\n",
    "https://pandas.pydata.org/pandas-docs/stable/merging.html"
   ]
  },
  {
   "cell_type": "code",
   "execution_count": 337,
   "metadata": {
    "collapsed": false
   },
   "outputs": [
    {
     "name": "stdout",
     "output_type": "stream",
     "text": [
      "    P   Q   R   S\n",
      "0  P0  Q0  R0  S0\n",
      "1  P1  Q1  R1  S1\n",
      "2  P2  Q2  R2  S2\n",
      "3  P3  Q3  R3  S3\n",
      "    P   Q   R   S\n",
      "4  P4  Q4  R4  S4\n",
      "5  P5  Q5  R5  S7\n",
      "6  P6  Q6  R6  S6\n",
      "7  P7  Q7  R7  S7\n",
      "      P    Q    R    S\n",
      "8    P8   Q8   R8   S8\n",
      "9    P9   Q9   R9   S9\n",
      "10  P10  Q10  R10  S10\n",
      "11  P11  Q11  R11  S11\n"
     ]
    }
   ],
   "source": [
    "#lets create 3 data Frames\n",
    "dfA = pd.DataFrame({'P': ['P0', 'P1', 'P2', 'P3'],'Q': ['Q0', 'Q1', 'Q2', 'Q3'], 'R': ['R0', 'R1', 'R2', 'R3'],'S': ['S0', 'S1', 'S2', 'S3']},index=[0,1,2,3])\n",
    "\n",
    "dfB = pd.DataFrame({'P': ['P4', 'P5', 'P6', 'P7'],'Q': ['Q4', 'Q5', 'Q6', 'Q7'], 'R': ['R4', 'R5', 'R6', 'R7'],'S': ['S4', 'S7', 'S6', 'S7']},index=[4,5,6,7])\n",
    "\n",
    "dfC = pd.DataFrame({'P': ['P8', 'P9', 'P10', 'P11'],'Q': ['Q8', 'Q9', 'Q10', 'Q11'], 'R': ['R8', 'R9', 'R10', 'R11'],'S': ['S8', 'S9', 'S10', 'S11']},index=[8,9,10,11])\n",
    "\n",
    "print(dfA)\n",
    "print(dfB)\n",
    "print(dfC)\n"
   ]
  },
  {
   "cell_type": "code",
   "execution_count": 338,
   "metadata": {
    "collapsed": false
   },
   "outputs": [
    {
     "data": {
      "text/html": [
       "<div>\n",
       "<style>\n",
       "    .dataframe thead tr:only-child th {\n",
       "        text-align: right;\n",
       "    }\n",
       "\n",
       "    .dataframe thead th {\n",
       "        text-align: left;\n",
       "    }\n",
       "\n",
       "    .dataframe tbody tr th {\n",
       "        vertical-align: top;\n",
       "    }\n",
       "</style>\n",
       "<table border=\"1\" class=\"dataframe\">\n",
       "  <thead>\n",
       "    <tr style=\"text-align: right;\">\n",
       "      <th></th>\n",
       "      <th>P</th>\n",
       "      <th>Q</th>\n",
       "      <th>R</th>\n",
       "      <th>S</th>\n",
       "    </tr>\n",
       "  </thead>\n",
       "  <tbody>\n",
       "    <tr>\n",
       "      <th>0</th>\n",
       "      <td>P0</td>\n",
       "      <td>Q0</td>\n",
       "      <td>R0</td>\n",
       "      <td>S0</td>\n",
       "    </tr>\n",
       "    <tr>\n",
       "      <th>1</th>\n",
       "      <td>P1</td>\n",
       "      <td>Q1</td>\n",
       "      <td>R1</td>\n",
       "      <td>S1</td>\n",
       "    </tr>\n",
       "    <tr>\n",
       "      <th>2</th>\n",
       "      <td>P2</td>\n",
       "      <td>Q2</td>\n",
       "      <td>R2</td>\n",
       "      <td>S2</td>\n",
       "    </tr>\n",
       "    <tr>\n",
       "      <th>3</th>\n",
       "      <td>P3</td>\n",
       "      <td>Q3</td>\n",
       "      <td>R3</td>\n",
       "      <td>S3</td>\n",
       "    </tr>\n",
       "    <tr>\n",
       "      <th>4</th>\n",
       "      <td>P4</td>\n",
       "      <td>Q4</td>\n",
       "      <td>R4</td>\n",
       "      <td>S4</td>\n",
       "    </tr>\n",
       "    <tr>\n",
       "      <th>5</th>\n",
       "      <td>P5</td>\n",
       "      <td>Q5</td>\n",
       "      <td>R5</td>\n",
       "      <td>S7</td>\n",
       "    </tr>\n",
       "    <tr>\n",
       "      <th>6</th>\n",
       "      <td>P6</td>\n",
       "      <td>Q6</td>\n",
       "      <td>R6</td>\n",
       "      <td>S6</td>\n",
       "    </tr>\n",
       "    <tr>\n",
       "      <th>7</th>\n",
       "      <td>P7</td>\n",
       "      <td>Q7</td>\n",
       "      <td>R7</td>\n",
       "      <td>S7</td>\n",
       "    </tr>\n",
       "    <tr>\n",
       "      <th>8</th>\n",
       "      <td>P8</td>\n",
       "      <td>Q8</td>\n",
       "      <td>R8</td>\n",
       "      <td>S8</td>\n",
       "    </tr>\n",
       "    <tr>\n",
       "      <th>9</th>\n",
       "      <td>P9</td>\n",
       "      <td>Q9</td>\n",
       "      <td>R9</td>\n",
       "      <td>S9</td>\n",
       "    </tr>\n",
       "    <tr>\n",
       "      <th>10</th>\n",
       "      <td>P10</td>\n",
       "      <td>Q10</td>\n",
       "      <td>R10</td>\n",
       "      <td>S10</td>\n",
       "    </tr>\n",
       "    <tr>\n",
       "      <th>11</th>\n",
       "      <td>P11</td>\n",
       "      <td>Q11</td>\n",
       "      <td>R11</td>\n",
       "      <td>S11</td>\n",
       "    </tr>\n",
       "  </tbody>\n",
       "</table>\n",
       "</div>"
      ],
      "text/plain": [
       "      P    Q    R    S\n",
       "0    P0   Q0   R0   S0\n",
       "1    P1   Q1   R1   S1\n",
       "2    P2   Q2   R2   S2\n",
       "3    P3   Q3   R3   S3\n",
       "4    P4   Q4   R4   S4\n",
       "5    P5   Q5   R5   S7\n",
       "6    P6   Q6   R6   S6\n",
       "7    P7   Q7   R7   S7\n",
       "8    P8   Q8   R8   S8\n",
       "9    P9   Q9   R9   S9\n",
       "10  P10  Q10  R10  S10\n",
       "11  P11  Q11  R11  S11"
      ]
     },
     "execution_count": 338,
     "metadata": {},
     "output_type": "execute_result"
    }
   ],
   "source": [
    "#Concatenate dataframes\n",
    "#listframes = [dfA,dfB,dfC]\n",
    "pd.concat([dfA,dfB,dfC])"
   ]
  },
  {
   "cell_type": "code",
   "execution_count": 339,
   "metadata": {
    "collapsed": false
   },
   "outputs": [
    {
     "name": "stdout",
     "output_type": "stream",
     "text": [
      "    B   C\n",
      "2  B2  C2\n",
      "3  B3  C3\n",
      "6  B6  C6\n",
      "7  B7  C7\n"
     ]
    }
   ],
   "source": [
    "#Create a new dataframe with different columns\n",
    "dfD = pd.DataFrame({'B': ['B2', 'B3', 'B6', 'B7'],'C': ['C2', 'C3', 'C6', 'C7']},index=[2,3,6,7])\n",
    "print(dfD)"
   ]
  },
  {
   "cell_type": "code",
   "execution_count": 341,
   "metadata": {
    "collapsed": false
   },
   "outputs": [
    {
     "data": {
      "text/html": [
       "<div>\n",
       "<style>\n",
       "    .dataframe thead tr:only-child th {\n",
       "        text-align: right;\n",
       "    }\n",
       "\n",
       "    .dataframe thead th {\n",
       "        text-align: left;\n",
       "    }\n",
       "\n",
       "    .dataframe tbody tr th {\n",
       "        vertical-align: top;\n",
       "    }\n",
       "</style>\n",
       "<table border=\"1\" class=\"dataframe\">\n",
       "  <thead>\n",
       "    <tr style=\"text-align: right;\">\n",
       "      <th></th>\n",
       "      <th>B</th>\n",
       "      <th>C</th>\n",
       "      <th>P</th>\n",
       "      <th>Q</th>\n",
       "      <th>R</th>\n",
       "      <th>S</th>\n",
       "    </tr>\n",
       "  </thead>\n",
       "  <tbody>\n",
       "    <tr>\n",
       "      <th>0</th>\n",
       "      <td>NaN</td>\n",
       "      <td>NaN</td>\n",
       "      <td>P0</td>\n",
       "      <td>Q0</td>\n",
       "      <td>R0</td>\n",
       "      <td>S0</td>\n",
       "    </tr>\n",
       "    <tr>\n",
       "      <th>1</th>\n",
       "      <td>NaN</td>\n",
       "      <td>NaN</td>\n",
       "      <td>P1</td>\n",
       "      <td>Q1</td>\n",
       "      <td>R1</td>\n",
       "      <td>S1</td>\n",
       "    </tr>\n",
       "    <tr>\n",
       "      <th>2</th>\n",
       "      <td>NaN</td>\n",
       "      <td>NaN</td>\n",
       "      <td>P2</td>\n",
       "      <td>Q2</td>\n",
       "      <td>R2</td>\n",
       "      <td>S2</td>\n",
       "    </tr>\n",
       "    <tr>\n",
       "      <th>3</th>\n",
       "      <td>NaN</td>\n",
       "      <td>NaN</td>\n",
       "      <td>P3</td>\n",
       "      <td>Q3</td>\n",
       "      <td>R3</td>\n",
       "      <td>S3</td>\n",
       "    </tr>\n",
       "    <tr>\n",
       "      <th>2</th>\n",
       "      <td>B2</td>\n",
       "      <td>C2</td>\n",
       "      <td>NaN</td>\n",
       "      <td>NaN</td>\n",
       "      <td>NaN</td>\n",
       "      <td>NaN</td>\n",
       "    </tr>\n",
       "    <tr>\n",
       "      <th>3</th>\n",
       "      <td>B3</td>\n",
       "      <td>C3</td>\n",
       "      <td>NaN</td>\n",
       "      <td>NaN</td>\n",
       "      <td>NaN</td>\n",
       "      <td>NaN</td>\n",
       "    </tr>\n",
       "    <tr>\n",
       "      <th>6</th>\n",
       "      <td>B6</td>\n",
       "      <td>C6</td>\n",
       "      <td>NaN</td>\n",
       "      <td>NaN</td>\n",
       "      <td>NaN</td>\n",
       "      <td>NaN</td>\n",
       "    </tr>\n",
       "    <tr>\n",
       "      <th>7</th>\n",
       "      <td>B7</td>\n",
       "      <td>C7</td>\n",
       "      <td>NaN</td>\n",
       "      <td>NaN</td>\n",
       "      <td>NaN</td>\n",
       "      <td>NaN</td>\n",
       "    </tr>\n",
       "  </tbody>\n",
       "</table>\n",
       "</div>"
      ],
      "text/plain": [
       "     B    C    P    Q    R    S\n",
       "0  NaN  NaN   P0   Q0   R0   S0\n",
       "1  NaN  NaN   P1   Q1   R1   S1\n",
       "2  NaN  NaN   P2   Q2   R2   S2\n",
       "3  NaN  NaN   P3   Q3   R3   S3\n",
       "2   B2   C2  NaN  NaN  NaN  NaN\n",
       "3   B3   C3  NaN  NaN  NaN  NaN\n",
       "6   B6   C6  NaN  NaN  NaN  NaN\n",
       "7   B7   C7  NaN  NaN  NaN  NaN"
      ]
     },
     "execution_count": 341,
     "metadata": {},
     "output_type": "execute_result"
    }
   ],
   "source": [
    "#concatenate by default will add the rows and add NaNs\n",
    "pd.concat([dfA,dfD])"
   ]
  },
  {
   "cell_type": "code",
   "execution_count": 342,
   "metadata": {
    "collapsed": false
   },
   "outputs": [
    {
     "data": {
      "text/html": [
       "<div>\n",
       "<style>\n",
       "    .dataframe thead tr:only-child th {\n",
       "        text-align: right;\n",
       "    }\n",
       "\n",
       "    .dataframe thead th {\n",
       "        text-align: left;\n",
       "    }\n",
       "\n",
       "    .dataframe tbody tr th {\n",
       "        vertical-align: top;\n",
       "    }\n",
       "</style>\n",
       "<table border=\"1\" class=\"dataframe\">\n",
       "  <thead>\n",
       "    <tr style=\"text-align: right;\">\n",
       "      <th></th>\n",
       "      <th>P</th>\n",
       "      <th>Q</th>\n",
       "      <th>R</th>\n",
       "      <th>S</th>\n",
       "      <th>B</th>\n",
       "      <th>C</th>\n",
       "    </tr>\n",
       "  </thead>\n",
       "  <tbody>\n",
       "    <tr>\n",
       "      <th>2</th>\n",
       "      <td>P2</td>\n",
       "      <td>Q2</td>\n",
       "      <td>R2</td>\n",
       "      <td>S2</td>\n",
       "      <td>B2</td>\n",
       "      <td>C2</td>\n",
       "    </tr>\n",
       "    <tr>\n",
       "      <th>3</th>\n",
       "      <td>P3</td>\n",
       "      <td>Q3</td>\n",
       "      <td>R3</td>\n",
       "      <td>S3</td>\n",
       "      <td>B3</td>\n",
       "      <td>C3</td>\n",
       "    </tr>\n",
       "  </tbody>\n",
       "</table>\n",
       "</div>"
      ],
      "text/plain": [
       "    P   Q   R   S   B   C\n",
       "2  P2  Q2  R2  S2  B2  C2\n",
       "3  P3  Q3  R3  S3  B3  C3"
      ]
     },
     "execution_count": 342,
     "metadata": {},
     "output_type": "execute_result"
    }
   ],
   "source": [
    "#Axis is 1 means column wise and inner means common to both\n",
    "pd.concat([dfA, dfD], axis=1, join='inner')"
   ]
  },
  {
   "cell_type": "code",
   "execution_count": 343,
   "metadata": {
    "collapsed": false
   },
   "outputs": [
    {
     "data": {
      "text/html": [
       "<div>\n",
       "<style>\n",
       "    .dataframe thead tr:only-child th {\n",
       "        text-align: right;\n",
       "    }\n",
       "\n",
       "    .dataframe thead th {\n",
       "        text-align: left;\n",
       "    }\n",
       "\n",
       "    .dataframe tbody tr th {\n",
       "        vertical-align: top;\n",
       "    }\n",
       "</style>\n",
       "<table border=\"1\" class=\"dataframe\">\n",
       "  <thead>\n",
       "    <tr style=\"text-align: right;\">\n",
       "      <th></th>\n",
       "      <th>P</th>\n",
       "      <th>Q</th>\n",
       "      <th>R</th>\n",
       "      <th>S</th>\n",
       "      <th>B</th>\n",
       "      <th>C</th>\n",
       "    </tr>\n",
       "  </thead>\n",
       "  <tbody>\n",
       "    <tr>\n",
       "      <th>0</th>\n",
       "      <td>P0</td>\n",
       "      <td>Q0</td>\n",
       "      <td>R0</td>\n",
       "      <td>S0</td>\n",
       "      <td>NaN</td>\n",
       "      <td>NaN</td>\n",
       "    </tr>\n",
       "    <tr>\n",
       "      <th>1</th>\n",
       "      <td>P1</td>\n",
       "      <td>Q1</td>\n",
       "      <td>R1</td>\n",
       "      <td>S1</td>\n",
       "      <td>NaN</td>\n",
       "      <td>NaN</td>\n",
       "    </tr>\n",
       "    <tr>\n",
       "      <th>2</th>\n",
       "      <td>P2</td>\n",
       "      <td>Q2</td>\n",
       "      <td>R2</td>\n",
       "      <td>S2</td>\n",
       "      <td>B2</td>\n",
       "      <td>C2</td>\n",
       "    </tr>\n",
       "    <tr>\n",
       "      <th>3</th>\n",
       "      <td>P3</td>\n",
       "      <td>Q3</td>\n",
       "      <td>R3</td>\n",
       "      <td>S3</td>\n",
       "      <td>B3</td>\n",
       "      <td>C3</td>\n",
       "    </tr>\n",
       "    <tr>\n",
       "      <th>6</th>\n",
       "      <td>NaN</td>\n",
       "      <td>NaN</td>\n",
       "      <td>NaN</td>\n",
       "      <td>NaN</td>\n",
       "      <td>B6</td>\n",
       "      <td>C6</td>\n",
       "    </tr>\n",
       "    <tr>\n",
       "      <th>7</th>\n",
       "      <td>NaN</td>\n",
       "      <td>NaN</td>\n",
       "      <td>NaN</td>\n",
       "      <td>NaN</td>\n",
       "      <td>B7</td>\n",
       "      <td>C7</td>\n",
       "    </tr>\n",
       "  </tbody>\n",
       "</table>\n",
       "</div>"
      ],
      "text/plain": [
       "     P    Q    R    S    B    C\n",
       "0   P0   Q0   R0   S0  NaN  NaN\n",
       "1   P1   Q1   R1   S1  NaN  NaN\n",
       "2   P2   Q2   R2   S2   B2   C2\n",
       "3   P3   Q3   R3   S3   B3   C3\n",
       "6  NaN  NaN  NaN  NaN   B6   C6\n",
       "7  NaN  NaN  NaN  NaN   B7   C7"
      ]
     },
     "execution_count": 343,
     "metadata": {},
     "output_type": "execute_result"
    }
   ],
   "source": [
    "#Axis is 1 and the join is outer\n",
    "pd.concat([dfA, dfD], axis=1, join='outer')"
   ]
  },
  {
   "cell_type": "markdown",
   "metadata": {},
   "source": [
    "## Reading & Writing  Data from disk"
   ]
  },
  {
   "cell_type": "code",
   "execution_count": null,
   "metadata": {
    "collapsed": false
   },
   "outputs": [],
   "source": [
    "# Reading a csv file\n",
    "file_titanic = pd.read_csv(\"titanic.csv\")\n",
    "file_titanic.head()\n"
   ]
  },
  {
   "cell_type": "code",
   "execution_count": null,
   "metadata": {
    "collapsed": false
   },
   "outputs": [],
   "source": [
    "# Writing out a tab delimited file\n",
    "file_titanic.to_csv(\"new_titanic_file.tab\", sep='\\t')"
   ]
  },
  {
   "cell_type": "code",
   "execution_count": null,
   "metadata": {
    "collapsed": true
   },
   "outputs": [],
   "source": [
    "# Writing out a tab delimited file with no header\n",
    "file_titanic.to_csv(\"new_titanic_file_no_header.tab\", sep='\\t', header=False)"
   ]
  },
  {
   "cell_type": "code",
   "execution_count": null,
   "metadata": {
    "collapsed": false
   },
   "outputs": [],
   "source": [
    "# Writing out a tab delimited file with no index\n",
    "file_titanic.to_csv(\"new_titanic_file_no_index.tab\", sep='\\t', index=False)"
   ]
  },
  {
   "cell_type": "code",
   "execution_count": null,
   "metadata": {
    "collapsed": false
   },
   "outputs": [],
   "source": [
    "# Reading a tab delimited file\n",
    "file_titanic_tab = pd.read_table(\"new_titanic_file.tab\",sep='\\t')\n",
    "file_titanic_tab.head()\n"
   ]
  },
  {
   "cell_type": "code",
   "execution_count": null,
   "metadata": {
    "collapsed": false
   },
   "outputs": [],
   "source": [
    "# Reading a tab delimited file\n",
    "reading_file_titanic_tab2 = pd.read_table(\"new_titanic_file.tab\",sep='\\t')\n",
    "print(reading_file_titanic_tab2.head())\n",
    "\n"
   ]
  },
  {
   "cell_type": "code",
   "execution_count": null,
   "metadata": {
    "collapsed": false
   },
   "outputs": [],
   "source": [
    "#lets remove the column 0 \n",
    "new_file_titanic = reading_file_titanic_tab2.ix[:,1:6]\n",
    "print(new_file_titanic.head())\n",
    "\n"
   ]
  },
  {
   "cell_type": "code",
   "execution_count": null,
   "metadata": {
    "collapsed": false
   },
   "outputs": [],
   "source": [
    "#Lets remove the row 1\n",
    "new_file_titanic[new_file_titanic.index[0]] = \"Name\"\n",
    "\n",
    "new_file_titanic.head()\n",
    "#names[names.index('two')] = 'new_name'"
   ]
  },
  {
   "cell_type": "markdown",
   "metadata": {},
   "source": [
    "## Pickling in Python"
   ]
  },
  {
   "cell_type": "markdown",
   "metadata": {},
   "source": [
    "### Pickling using DataFrame in Python"
   ]
  },
  {
   "cell_type": "code",
   "execution_count": null,
   "metadata": {
    "collapsed": false
   },
   "outputs": [],
   "source": [
    "#One of the easiest ways to store data efficiently in binary format is using Python’s builtin\n",
    "#pickle serialization. Conveniently, pandas objects all have a save method which\n",
    "\n",
    "import pickle as pl\n",
    "\n",
    "#Check if we still have the file\n",
    "print(file_titanic.head())\n",
    "\n",
    "#writes the data to disk as a pickle:\n",
    "#DataFrame.to_pickle(path, compression='infer')\n",
    "file_titanic.to_pickle('new_file_titanic.pkl')\n"
   ]
  },
  {
   "cell_type": "code",
   "execution_count": null,
   "metadata": {
    "collapsed": false
   },
   "outputs": [],
   "source": [
    "#Clear the file_titanic\n",
    "file_titanic = None \n",
    "file_titanic"
   ]
  },
  {
   "cell_type": "code",
   "execution_count": null,
   "metadata": {
    "collapsed": false
   },
   "outputs": [],
   "source": [
    "#Reading a pickled file\n",
    "#plfile = pl.read_pickle('new_file_titanic.pkl')\n",
    "dfpkl = pd.read_pickle('new_file_titanic.pkl')\n",
    "dfpkl.head()"
   ]
  },
  {
   "cell_type": "markdown",
   "metadata": {},
   "source": [
    "### Pickling using other objects in Python"
   ]
  },
  {
   "cell_type": "code",
   "execution_count": null,
   "metadata": {
    "collapsed": true
   },
   "outputs": [],
   "source": [
    "import pickle\n",
    "pick_file = \"picked_data\"\n",
    "\n",
    "#Create a simple list\n",
    "data = [\"1\", \"2\", \"3\", \"4\"]\n",
    "\n",
    "with open(pick_file, \"wb\") as f:\n",
    "    pickle.dump(data, f)\n",
    "    "
   ]
  },
  {
   "cell_type": "code",
   "execution_count": null,
   "metadata": {
    "collapsed": false
   },
   "outputs": [],
   "source": [
    "with open(pick_file, \"rb\") as f:\n",
    "    print(pickle.load(f))"
   ]
  },
  {
   "cell_type": "markdown",
   "metadata": {},
   "source": [
    "### Pickling Multiple objects in Python"
   ]
  },
  {
   "cell_type": "markdown",
   "metadata": {},
   "source": [
    "The example below shows how to pickle both the titanic data and our newly created list."
   ]
  },
  {
   "cell_type": "code",
   "execution_count": null,
   "metadata": {
    "collapsed": false
   },
   "outputs": [],
   "source": [
    "with open(pick_file, \"wb\") as f:\n",
    "    # Note here we want to save 2 things - data and titanic file - dfpkl\n",
    "    pickle.dump(2, f)\n",
    "    for value in list(range(2)):\n",
    "        if value==1 :\n",
    "            pickle.dump(data, f)\n",
    "        else :\n",
    "            pickle.dump(dfpkl,f)\n"
   ]
  },
  {
   "cell_type": "markdown",
   "metadata": {
    "collapsed": false
   },
   "source": [
    "load_pickled_data = []\n",
    "with open(pick_file, \"rb\") as f:\n",
    "    for _ in range(pickle.load(f)):\n",
    "        load_pickled_data.append(pickle.load(f))\n",
    "print(load_pickled_data)"
   ]
  },
  {
   "cell_type": "markdown",
   "metadata": {
    "heading_collapsed": true
   },
   "source": [
    "## Connecting to a Database"
   ]
  },
  {
   "cell_type": "markdown",
   "metadata": {
    "hidden": true
   },
   "source": [
    "### Setup"
   ]
  },
  {
   "cell_type": "code",
   "execution_count": null,
   "metadata": {
    "collapsed": true,
    "hidden": true
   },
   "outputs": [],
   "source": [
    "import MySQLdb"
   ]
  },
  {
   "cell_type": "code",
   "execution_count": null,
   "metadata": {
    "collapsed": false,
    "hidden": true
   },
   "outputs": [],
   "source": [
    "con = MySQLdb.connect(host='cskpcloudxp0356.cloud.kp.org', port=3306, user='ruser', passwd='ruser', db='tutorials')"
   ]
  },
  {
   "cell_type": "markdown",
   "metadata": {
    "hidden": true
   },
   "source": [
    "### Using DataFrame from Pandas"
   ]
  },
  {
   "cell_type": "code",
   "execution_count": null,
   "metadata": {
    "collapsed": true,
    "hidden": true
   },
   "outputs": [],
   "source": [
    "import pandas as pd\n",
    "sql=\"SELECT * FROM Titanic\"\n",
    "df = pd.read_sql(sql, con)"
   ]
  },
  {
   "cell_type": "code",
   "execution_count": null,
   "metadata": {
    "collapsed": false,
    "hidden": true
   },
   "outputs": [],
   "source": [
    "df.head()"
   ]
  },
  {
   "cell_type": "markdown",
   "metadata": {
    "heading_collapsed": true,
    "hidden": true
   },
   "source": [
    "### Using Cursor\n",
    "Another way (older) to fetch data is using cursor"
   ]
  },
  {
   "cell_type": "code",
   "execution_count": null,
   "metadata": {
    "collapsed": false,
    "hidden": true
   },
   "outputs": [],
   "source": [
    "cursor=con.cursor()\n",
    "cursor.execute(\"\"\"SELECT * FROM Titanic\"\"\")\n",
    "cursor.fetchone()"
   ]
  },
  {
   "cell_type": "code",
   "execution_count": null,
   "metadata": {
    "collapsed": false,
    "hidden": true
   },
   "outputs": [],
   "source": [
    "rows = cursor.fetchall()\n",
    "#Pretty Print\n",
    "import pprint\n",
    "pprint.pprint(rows)"
   ]
  },
  {
   "cell_type": "raw",
   "metadata": {
    "collapsed": true,
    "hidden": true
   },
   "source": [
    "# Sample R code\n",
    "require(RMySQL)                                                                  #Load a package to connect to external database.\n",
    "con <- dbConnect(MySQL(), host='cskpcloudxp0356.cloud.kp.org'\n",
    "                ,user='ruser', password='ruser', dbname='tutorials')             #Connect to external database.\n",
    "#dbWriteTable(con, \"Titanic\", dfd, overwrite = TRUE, row.names=FALSE)             #Writing data from R to a database.\n",
    "dbListTables(con)                                                                #List tables in the database.\n",
    "dbListFields(con,'Titanic')                                                      #List fields for the table of interest.\n",
    "qry <- dbSendQuery(con, \"SELECT * FROM Titanic;\")                                #Build query to extract data.\n",
    "tmp <- fetch(qry, n=-1)                                                          #Pull all the rows.\n",
    "summary(dfd); summary(tmp)                                                       #Quick peak to see similarity.\n",
    "\n"
   ]
  },
  {
   "cell_type": "markdown",
   "metadata": {},
   "source": [
    "## Parsing a website"
   ]
  },
  {
   "cell_type": "code",
   "execution_count": 372,
   "metadata": {
    "collapsed": true
   },
   "outputs": [],
   "source": [
    "import base64\n",
    "import urllib.request\n",
    "request = urllib.request.Request('http://arithmetica.io/practice/list/')\n",
    "result = urllib.request.urlopen(request)\n",
    "resulttext = result.read()"
   ]
  },
  {
   "cell_type": "code",
   "execution_count": 373,
   "metadata": {
    "collapsed": false
   },
   "outputs": [
    {
     "data": {
      "text/plain": [
       "b'\\n<!DOCTYPE html>\\n<html>\\n\\n<head>\\n    <!-- Site made with Mobirise Website Builder v3.5.2, https://mobirise.com -->\\n    <meta charset=\"UTF-8\">\\n    <meta http-equiv=\"X-UA-Compatible\" content=\"IE=edge\">\\n    <meta name=\"generator\" content=\"Mobirise v3.5.2, mobirise.com\">\\n    <meta name=\"viewport\" content=\"width=device-width, initial-scale=1\">\\n    <link rel=\"shortcut icon\" href=\"/static/assets/img/logo.png\" type=\"image/x-icon\">\\n    <meta name=\"description\" content=\"\">\\n    <title>Arithmetica.io</title>\\n    <link rel=\"stylesheet\" href=\"https://fonts.googleapis.com/css?family=Lora:400,700,400italic,700italic&amp;subset=latin\">\\n    <link rel=\"stylesheet\" href=\"https://fonts.googleapis.com/css?family=Montserrat:400,700\">\\n    <link rel=\"stylesheet\" href=\"https://fonts.googleapis.com/css?family=Raleway:400,100,200,300,500,600,700,800,900\">\\n    <link rel=\"stylesheet\" href=\"/static/assets/et-line-font-plugin/style.css\">\\n    <link rel=\"stylesheet\" href=\"/static/assets/bootstrap-material-design-font/css/material.css\">\\n    <link rel=\"stylesheet\" href=\"/static/assets/tether/tether.min.css\">\\n    <link rel=\"stylesheet\" href=\"/static/css/bootstrap.min.css\">\\n    <link rel=\"stylesheet\" href=\"/static/assets/socicon/css/socicon.min.css\">\\n\\n    <link rel=\"stylesheet\" href=\"/static/assets/dropdown/css/style.css\">\\n    <link rel=\"stylesheet\" href=\"/static/assets/theme/css/style.css\">\\n    <link rel=\"stylesheet\" href=\"/static/assets/mobirise/css/mbr-additional.css\" type=\"text/css\">\\n    <link rel=\"stylesheet\" href=\"/static/css/styles.css\" type=\"text/css\">\\n    <link rel=\"stylesheet\" href=\"/static/css/home_style.css\" type=\"text/css\">\\n    \\n    <!-- start Mixpanel -->\\n    <script type=\"text/javascript\">(function(e,a){if(!a.__SV){var b=window;try{var c,l,i,j=b.location,g=j.hash;c=function(a,b){return(l=a.match(RegExp(b+\"=([^&]*)\")))?l[1]:null};g&&c(g,\"state\")&&(i=JSON.parse(decodeURIComponent(c(g,\"state\"))),\"mpeditor\"===i.action&&(b.sessionStorage.setItem(\"_mpcehash\",g),history.replaceState(i.desiredHash||\"\",e.title,j.pathname+j.search)))}catch(m){}var k,h;window.mixpanel=a;a._i=[];a.init=function(b,c,f){function e(b,a){var c=a.split(\".\");2==c.length&&(b=b[c[0]],a=c[1]);b[a]=function(){b.push([a].concat(Array.prototype.slice.call(arguments,\\n0)))}}var d=a;\"undefined\"!==typeof f?d=a[f]=[]:f=\"mixpanel\";d.people=d.people||[];d.toString=function(b){var a=\"mixpanel\";\"mixpanel\"!==f&&(a+=\".\"+f);b||(a+=\" (stub)\");return a};d.people.toString=function(){return d.toString(1)+\".people (stub)\"};k=\"disable time_event track track_pageview track_links track_forms register register_once alias unregister identify name_tag set_config reset people.set people.set_once people.increment people.append people.union people.track_charge people.clear_charges people.delete_user\".split(\" \");\\nfor(h=0;h<k.length;h++)e(d,k[h]);a._i.push([b,c,f])};a.__SV=1.2;b=e.createElement(\"script\");b.type=\"text/javascript\";b.async=!0;b.src=\"undefined\"!==typeof MIXPANEL_CUSTOM_LIB_URL?MIXPANEL_CUSTOM_LIB_URL:\"file:\"===e.location.protocol&&\"//cdn.mxpnl.com/libs/mixpanel-2-latest.min.js\".match(/^\\\\/\\\\//)?\"https://cdn.mxpnl.com/libs/mixpanel-2-latest.min.js\":\"//cdn.mxpnl.com/libs/mixpanel-2-latest.min.js\";c=e.getElementsByTagName(\"script\")[0];c.parentNode.insertBefore(b,c)}})(document,window.mixpanel||[]);\\nmixpanel.init(\"47c46737d15e38777be6bf022a5b6fc3\");</script>\\n    <!-- end Mixpanel -->\\n<!--Start of Zopim Live Chat Script-->\\n<script type=\"text/javascript\">\\nwindow.$zopim||(function(d,s){var z=$zopim=function(c){z._.push(c)},$=z.s=\\nd.createElement(s),e=d.getElementsByTagName(s)[0];z.set=function(o){z.set.\\n_.push(o)};z._=[];z.set._=[];$.async=!0;$.setAttribute(\"charset\",\"utf-8\");\\n$.src=\"//v2.zopim.com/?4HK8Bz5SplkPeSsjtjOscIimPBlDnzLU\";z.t=+new Date;$.\\ntype=\"text/javascript\";e.parentNode.insertBefore($,e)})(document,\"script\");\\n</script>\\n<!--End of Zopim Live Chat Script-->\\n<script src=\"/static/assets/web/assets/jquery/jquery.min.js\"></script>\\n\\n\\n\\n     <!--Start orange-->\\n<script type=\\'text/javascript\\'>\\nwindow.__lo_site_id = 87113;\\n\\n\\t(function() {\\n\\t\\tvar wa = document.createElement(\\'script\\'); wa.type = \\'text/javascript\\'; wa.async = true;\\n\\t\\twa.src = \\'https://d10lpsik1i8c69.cloudfront.net/w.js\\';\\n\\t\\tvar s = document.getElementsByTagName(\\'script\\')[0]; s.parentNode.insertBefore(wa, s);\\n\\t  })();\\n\\t</script>\\n    <!--End Orange-->\\n\\n\\n</head>\\n\\n<body>\\n     \\n\\n\\n<section id=\"ext_menu-0\">\\n    <nav class=\"navbar navbar-inverse new-nav navbar-dropdown\">\\n        <div class=\"container nav-table\">\\n            <!-- Brand and toggle get grouped for better mobile display -->\\n            <div class=\"navbar-header\">\\n                <button type=\"button\" class=\"navbar-toggle collapsed pull-right\" data-toggle=\"collapse\" data-target=\"#bs-example-navbar-collapse-1\" aria-expanded=\"false\">\\n                    <span class=\"sr-only\">Toggle navigation</span>\\n                    <span class=\"icon-bar\"></span>\\n                    <span class=\"icon-bar\"></span>\\n                    <span class=\"icon-bar\"></span>\\n                </button>\\n                <a class=\"navbar-brand\" href=\"/\">\\n                    <img class=\"img\" src=\"/static/img/new_logo.png\">\\n                </a>\\n            </div>\\n            <!-- Collect the nav links, forms, and other content for toggling -->\\n            <div class=\"collapse navbar-collapse nav-dropdown navbar-toggleable-sm\" id=\"bs-example-navbar-collapse-1\">\\n                <form class=\"navbar-form navbar-nav\" action=\"/search/\" method=\"get\" >\\n                    <div class=\"form-group\">\\n                        <input type=\"text\" name=\"q\" class=\"form-control\" placeholder=\"Search\"/>\\n                    </div>\\n                </form>\\n                <ul class=\"nav navbar-nav navbar-right\">\\n                    \\n                    <li class=\"nav-item nav-btn\"><a class=\"nav-link btn btn-secondary btn-nav\" href=\"/profile/signup/\">SIGN UP</a></li>\\n                        <li class=\"nav-item nav-btn\"><a class=\"nav-link btn btn-primary btn-nav\" href=\"/account/login/\">SIGN IN</a></li>\\n                \\n                </ul>\\n            </div>\\n            <!-- /.navbar-collapse -->\\n        </div>\\n        <!-- /.container-fluid -->\\n    </nav>\\n    <div class=\"row\">\\n        <!-- +++++++++++++++++++++++++++++++++++++navbar-2+++++++++++++++++++++++++++++++++++++++++++++++++ -->\\n        <nav class=\"navbar navbar-default new-nav navbar-dropdown home-nav content-nav\">\\n            <div class=\"container nav-table\">\\n                <!-- Brand and toggle get grouped for better mobile display -->\\n                <div class=\"navbar-header\">\\n                    <button type=\"button\" class=\"navbar-toggle collapsed pull-right\" data-toggle=\"collapse\" data-target=\"#bs-example-navbar-collapse-1\" aria-expanded=\"false\">\\n                        <span class=\"sr-only\">Toggle navigation</span>\\n                        <span class=\"icon-bar\"></span>\\n                        <span class=\"icon-bar\"></span>\\n                        <span class=\"icon-bar\"></span>\\n                    </button>\\n                    <!-- <a class=\"navbar-brand\" href=\"/\">\\n                        <img class=\"img\" src=\"/static/img/new_logo.png\">\\n                    </a> -->\\n                </div>\\n                <!-- Collect the nav links, forms, and other content for toggling -->\\n                <div class=\"collapse navbar-collapse nav-dropdown navbar-toggleable-sm\" id=\"bs-example-navbar-collapse-1\">\\n                    <ul class=\"nav navbar-nav \">\\n\\n                        <li><a class=\"a-height\" href=\"/practice/list/\">Practices</a></li>\\n                        <li><a class=\"a-height\" href=\"/practice/competition/\">Competitions</a></li>\\n                        <!--<li><a class=\"a-height\" href=\"/courses/\">Trainings</a></li>-->\\n                        \\n                        <!--<li><a class=\"a-height\" href=\"/tools/\">Tools</a></li>-->\\n                        <!--<li><a class=\"a-height\" href=\"/experts/\">Experts</a></li>-->\\n                        <!--<li><a class=\"a-height\" href=\"\">Faq</a></li>-->\\n                    </ul>\\n                </div>\\n                <!-- /.navbar-collapse -->\\n            </div>\\n            <!-- /.container-fluid -->\\n        </nav>\\n    </div>\\n    <br/>\\n</section>\\n\\n\\n    <section class=\"mbr-section article mbr-section__container mbr-after-navbar\" id=\"content1-0\" style=\"background-color: rgb(255, 255, 255); padding-top: 140px; padding-bottom: 60px;\">\\n\\n    \\n        \\n<!-- <div class=\"container\" style=\"margin-bottom: 3%;\">\\n    <div class=\"row\">\\n        <div class=\"col-sm-9\">\\n            <h1 class=\"text-center\" style=\"color: #D06F08;margin: 0;\">Want to become a practice master? submit practice detail here !!</h1>\\n        </div>\\n        <div class=\"col-sm-3 practice-notify\">\\n            <a href=\"/practice/create/\" style=\"color: #000;\">\\n                <div  class=\"btn-practice\">\\n                    <h3 class=\"text-center\" style=\"margin:5px 0\">Create a new practice</h3>\\n                </div>\\n            </a>\\n        </div>\\n    </div>\\n</div> -->\\n\\n\\n                \\n\\n\\n    <div class=\"container\">\\n    \\n\\n\\n    \\n    \\n<script type=\"text/javascript\" src=\"//highlightjs.org/static/highlight.pack.js\"></script>\\n<div class=\"row\">\\n    <div class=\"col-sm-9 col-sx-12\">\\n        <div style=\"margin-bottom: 3%;\">\\n            <div class=\"row\">\\n                <div class=\"col-sm-8\">\\n                    <h2 class=\"text-center\" style=\"color: #D06F08;margin: 0;\">Want to become a practice master? submit practice detail here !!</h2>\\n                </div>\\n                <div class=\"col-sm-4 practice-notify\">\\n                    <a href=\"/practice/create/\" style=\"color: #000;\">\\n                        <div  class=\"btn btn-primary\">\\n                            Create a new practice\\n                        </div>\\n                    </a>\\n                </div>\\n            </div>\\n        </div>\\n\\n        <div class=\"row\">\\n            <div class=\"col-sm-4\">\\n                <select name=\"problem_type\" class=\"form-control text-muted\">\\n                    <option value=\"\">Expert Area</option>\\n                    \\n                    <option value=\"1\" >Classification</option>\\n                    \\n                    <option value=\"2\" >Clustering</option>\\n                    \\n                    <option value=\"3\" >Regression</option>\\n                    \\n                    <option value=\"4\" >Deep Learning</option>\\n                    \\n                    <option value=\"7\" >GLRM</option>\\n                    \\n                    <option value=\"8\" >Probabilistic Graphical Models</option>\\n                    \\n                </select>\\n            </div>\\n            <div class=\"col-sm-4\">\\n                <select name=\"data_category\" class=\"form-control text-muted\">\\n                    <option value=\"\">Data Category</option>\\n                    <p class=\"text-muted\"></p>\\n                    <option value=\"2\" >Multivariate</option>\\n                    </p>\\n                    <option value=\"3\" >Univariate</option>\\n                    </p>\\n                    <option value=\"4\" >Sequential</option>\\n                    </p>\\n                    <option value=\"5\" >TimeSeries</option>\\n                    </p>\\n                    <option value=\"6\" >Text</option>\\n                    \\n                </select>\\n            </div>\\n            <div class=\"col-sm-4\">\\n                <select name=\"complexity\" class=\"form-control text-muted\">\\n                    <option value=\"\">Complexity</option>\\n                    \\n                    <option value=\"1\" >Simple</option>\\n                    \\n                </select>\\n            </div>\\n        </div>\\n        <div class=\"row\">\\n            <h2>Practices </h2>\\n            \\n            <div class=\"praticess\">\\n                <div class=\"col-sm-4 text-center\">\\n                    <a href=\"/practice/1/\"><img src=\"/media/practice/Large31.jpg\" title=\"Covertype\" class=\"img-responsive center-block\"></a>\\n                    <a href=\"/practice/1/\"><p class=\"text-muted\">Covertype</p></a>\\n                </div>\\n                <div class=\"col-sm-4\">\\n                    <ul>\\n                    <li class=\"text-muted\"> Source: UCI Data Set </li>\\n                    <li class=\"text-muted\"> Expert Area: Clustering </li>\\n                    <li class=\"text-muted\"> Data Type: Integer, Categorical </li>\\n                    <li class=\"text-muted\"> Rows: 581012 </li>\\n                    <li class=\"text-muted\"> Attributes: 54 </li>\\n                    <li class=\"text-muted\"> Metric: Area Under the Curve (AUC) </li>\\n                    </ul>\\n                </div>\\n                <div class=\"col-sm-4\">\\n                    \\n                    <a class=\"btn btn-primary\" href=\"/practice/1/\" role=\"button\">Practice Now</a>\\n                    \\n                    \\n                </div>\\n            </div>\\n            \\n            <div class=\"praticess\">\\n                <div class=\"col-sm-4 text-center\">\\n                    <a href=\"/practice/2/\"><img src=\"/media/practice/3006357_insulin_injection_diabetes_blood_sugar.jpg\" title=\"Diabetes 130-US hospitals for years 1999-2008\" class=\"img-responsive center-block\"></a>\\n                    <a href=\"/practice/2/\"><p class=\"text-muted\">Diabetes 130-US hospitals for years 1999-2008</p></a>\\n                </div>\\n                <div class=\"col-sm-4\">\\n                    <ul>\\n                    <li class=\"text-muted\"> Source: UCI Data Set </li>\\n                    <li class=\"text-muted\"> Expert Area: Classification, Clustering </li>\\n                    <li class=\"text-muted\"> Data Type: Integer </li>\\n                    <li class=\"text-muted\"> Rows: 100000 </li>\\n                    <li class=\"text-muted\"> Attributes: 55 </li>\\n                    <li class=\"text-muted\"> Metric:  </li>\\n                    </ul>\\n                </div>\\n                <div class=\"col-sm-4\">\\n                    \\n                    <a class=\"btn btn-primary\" href=\"/practice/2/\" role=\"button\">Practice Now</a>\\n                    \\n                    \\n                </div>\\n            </div>\\n            \\n            <div class=\"praticess\">\\n                <div class=\"col-sm-4 text-center\">\\n                    <a href=\"/practice/3/\"><img src=\"/media/practice/Large1.jpg\" title=\"Abalone\" class=\"img-responsive center-block\"></a>\\n                    <a href=\"/practice/3/\"><p class=\"text-muted\">Abalone</p></a>\\n                </div>\\n                <div class=\"col-sm-4\">\\n                    <ul>\\n                    <li class=\"text-muted\"> Source: UCI Data Set </li>\\n                    <li class=\"text-muted\"> Expert Area: Classification </li>\\n                    <li class=\"text-muted\"> Data Type: Integer, Categorical, Real </li>\\n                    <li class=\"text-muted\"> Rows: 4177 </li>\\n                    <li class=\"text-muted\"> Attributes: 8 </li>\\n                    <li class=\"text-muted\"> Metric:  </li>\\n                    </ul>\\n                </div>\\n                <div class=\"col-sm-4\">\\n                    \\n                    <a class=\"btn btn-primary\" href=\"/practice/3/\" role=\"button\">Practice Now</a>\\n                    \\n                    \\n                </div>\\n            </div>\\n            \\n            <div class=\"praticess\">\\n                <div class=\"col-sm-4 text-center\">\\n                    <a href=\"/practice/4/\"><img src=\"/media/practice/images.jpeg\" title=\"Localization Data for Person Activity\" class=\"img-responsive center-block\"></a>\\n                    <a href=\"/practice/4/\"><p class=\"text-muted\">Localization Data for Person Activity</p></a>\\n                </div>\\n                <div class=\"col-sm-4\">\\n                    <ul>\\n                    <li class=\"text-muted\"> Source: UCI Data Set </li>\\n                    <li class=\"text-muted\"> Expert Area: Classification </li>\\n                    <li class=\"text-muted\"> Data Type: Real </li>\\n                    <li class=\"text-muted\"> Rows: 164860 </li>\\n                    <li class=\"text-muted\"> Attributes: 8 </li>\\n                    <li class=\"text-muted\"> Metric: AUC </li>\\n                    </ul>\\n                </div>\\n                <div class=\"col-sm-4\">\\n                    \\n                    <a class=\"btn btn-primary\" href=\"/practice/4/\" role=\"button\">Practice Now</a>\\n                    \\n                    \\n                </div>\\n            </div>\\n            \\n            <div class=\"praticess\">\\n                <div class=\"col-sm-4 text-center\">\\n                    <a href=\"/practice/5/\"><img src=\"/media/practice/21ELECTRICITY_2.jpg\" title=\"Tamilnadu Electricity Board\" class=\"img-responsive center-block\"></a>\\n                    <a href=\"/practice/5/\"><p class=\"text-muted\">Tamilnadu Electricity Board</p></a>\\n                </div>\\n                <div class=\"col-sm-4\">\\n                    <ul>\\n                    <li class=\"text-muted\"> Source: UCI Data Set </li>\\n                    <li class=\"text-muted\"> Expert Area: Classification, Clustering, Regression </li>\\n                    <li class=\"text-muted\"> Data Type: Real </li>\\n                    <li class=\"text-muted\"> Rows: 45781 </li>\\n                    <li class=\"text-muted\"> Attributes: 5 </li>\\n                    <li class=\"text-muted\"> Metric: AUC </li>\\n                    </ul>\\n                </div>\\n                <div class=\"col-sm-4\">\\n                    \\n                    <a class=\"btn btn-primary\" href=\"/practice/5/\" role=\"button\">Practice Now</a>\\n                    \\n                    \\n                </div>\\n            </div>\\n            \\n            <div class=\"praticess\">\\n                <div class=\"col-sm-4 text-center\">\\n                    <a href=\"/practice/7/\"><img src=\"/media/practice/kegg_undirected.png\" title=\"KEGG Metabolic Reaction Network (Undirected)\" class=\"img-responsive center-block\"></a>\\n                    <a href=\"/practice/7/\"><p class=\"text-muted\">KEGG Metabolic Reaction Network (Undirected)</p></a>\\n                </div>\\n                <div class=\"col-sm-4\">\\n                    <ul>\\n                    <li class=\"text-muted\"> Source: UCI Data Set </li>\\n                    <li class=\"text-muted\"> Expert Area: Classification, Clustering, Regression </li>\\n                    <li class=\"text-muted\"> Data Type: Integer, Real </li>\\n                    <li class=\"text-muted\"> Rows: 65554 </li>\\n                    <li class=\"text-muted\"> Attributes: 29 </li>\\n                    <li class=\"text-muted\"> Metric: AUC </li>\\n                    </ul>\\n                </div>\\n                <div class=\"col-sm-4\">\\n                    \\n                    <a class=\"btn btn-primary\" href=\"/practice/7/\" role=\"button\">Practice Now</a>\\n                    \\n                    \\n                </div>\\n            </div>\\n            \\n            <div class=\"praticess\">\\n                <div class=\"col-sm-4 text-center\">\\n                    <a href=\"/practice/8/\"><img src=\"/media/practice/food_wine1stellaarticle.jpg\" title=\"Wine Data Set\" class=\"img-responsive center-block\"></a>\\n                    <a href=\"/practice/8/\"><p class=\"text-muted\">Wine Data Set</p></a>\\n                </div>\\n                <div class=\"col-sm-4\">\\n                    <ul>\\n                    <li class=\"text-muted\"> Source: UCI Data Set </li>\\n                    <li class=\"text-muted\"> Expert Area: Classification </li>\\n                    <li class=\"text-muted\"> Data Type: Integer, Real </li>\\n                    <li class=\"text-muted\"> Rows: 178 </li>\\n                    <li class=\"text-muted\"> Attributes: 13 </li>\\n                    <li class=\"text-muted\"> Metric: AUC </li>\\n                    </ul>\\n                </div>\\n                <div class=\"col-sm-4\">\\n                    \\n                    <a class=\"btn btn-primary\" href=\"/practice/8/\" role=\"button\">Practice Now</a>\\n                    \\n                    \\n                </div>\\n            </div>\\n            \\n            <div class=\"praticess\">\\n                <div class=\"col-sm-4 text-center\">\\n                    <a href=\"/practice/9/\"><img src=\"/media/practice/steel_annealing.png\" title=\"Annealing\" class=\"img-responsive center-block\"></a>\\n                    <a href=\"/practice/9/\"><p class=\"text-muted\">Annealing</p></a>\\n                </div>\\n                <div class=\"col-sm-4\">\\n                    <ul>\\n                    <li class=\"text-muted\"> Source: UCI Data Set </li>\\n                    <li class=\"text-muted\"> Expert Area: Classification </li>\\n                    <li class=\"text-muted\"> Data Type: Integer, Categorical, Real </li>\\n                    <li class=\"text-muted\"> Rows: 798 </li>\\n                    <li class=\"text-muted\"> Attributes: 38 </li>\\n                    <li class=\"text-muted\"> Metric:  </li>\\n                    </ul>\\n                </div>\\n                <div class=\"col-sm-4\">\\n                    \\n                    <a class=\"btn btn-primary\" href=\"/practice/9/\" role=\"button\">Practice Now</a>\\n                    \\n                    \\n                </div>\\n            </div>\\n            \\n            <div class=\"praticess\">\\n                <div class=\"col-sm-4 text-center\">\\n                    <a href=\"/practice/10/\"><img src=\"/media/practice/adult_data_set.jpg\" title=\"Adult Income Data Set\" class=\"img-responsive center-block\"></a>\\n                    <a href=\"/practice/10/\"><p class=\"text-muted\">Adult Income Data Set</p></a>\\n                </div>\\n                <div class=\"col-sm-4\">\\n                    <ul>\\n                    <li class=\"text-muted\"> Source: UCI Data Set </li>\\n                    <li class=\"text-muted\"> Expert Area: Classification </li>\\n                    <li class=\"text-muted\"> Data Type: Integer, Categorical </li>\\n                    <li class=\"text-muted\"> Rows: 48842 </li>\\n                    <li class=\"text-muted\"> Attributes: 14 </li>\\n                    <li class=\"text-muted\"> Metric: AUC </li>\\n                    </ul>\\n                </div>\\n                <div class=\"col-sm-4\">\\n                    \\n                    <a class=\"btn btn-primary\" href=\"/practice/10/\" role=\"button\">Practice Now</a>\\n                    \\n                    \\n                </div>\\n            </div>\\n            \\n            <div class=\"praticess\">\\n                <div class=\"col-sm-4 text-center\">\\n                    <a href=\"/practice/11/\"><img src=\"/media/practice/Large19.jpg\" title=\"Car Evaluation\" class=\"img-responsive center-block\"></a>\\n                    <a href=\"/practice/11/\"><p class=\"text-muted\">Car Evaluation</p></a>\\n                </div>\\n                <div class=\"col-sm-4\">\\n                    <ul>\\n                    <li class=\"text-muted\"> Source: UCI Data Set </li>\\n                    <li class=\"text-muted\"> Expert Area: Classification </li>\\n                    <li class=\"text-muted\"> Data Type: Categorical </li>\\n                    <li class=\"text-muted\"> Rows: 1728 </li>\\n                    <li class=\"text-muted\"> Attributes: 6 </li>\\n                    <li class=\"text-muted\"> Metric: AUC </li>\\n                    </ul>\\n                </div>\\n                <div class=\"col-sm-4\">\\n                    \\n                    <a class=\"btn btn-primary\" href=\"/practice/11/\" role=\"button\">Practice Now</a>\\n                    \\n                    \\n                </div>\\n            </div>\\n            \\n        </div>\\n        \\n        <div class=\"row\">\\n            \\n\\n    <ul class=\"pagination\">\\n\\n        <li class=\"prev disabled\">\\n            <a href=\"#\">&laquo;</a>\\n        </li>\\n\\n        \\n\\n        \\n            <li class=\"active\">\\n                <a href=\"#\">1</a>\\n            </li>\\n        \\n            <li>\\n                <a href=\"?page=2\">2</a>\\n            </li>\\n        \\n\\n        \\n\\n        <li class=\"last\">\\n            <a href=\"?page=2\">&raquo;</a>\\n        </li>\\n\\n    </ul>\\n\\n\\n\\n        </div>\\n        \\n    </div>\\n    <div class=\"col-sm-3 col-sx-12 text-muted\" >\\n        \\n<link rel=\"stylesheet\" type=\"text/css\" href=\"/static/css/slick/slick.css\">\\n<link rel=\"stylesheet\" type=\"text/css\" href=\"/static/css/slick/slick-theme.css\">\\n<style type=\"text/css\">\\n    html, body {\\n      margin: 0;\\n      padding: 0;\\n    }\\n    * {\\n      box-sizing: border-box;\\n    }\\n</style>\\n\\n\\n\\n\\n\\n    <div class=\"experts panel\">\\n        <h5 class=\"panel-title\">Learn with our experts :</h5>\\n        <section class=\"vertical\">\\n        \\n        \\n            <div class=\"media\">\\n                <div class=\"media-left media-img\">\\n                    <a href=\"/profile/4/\"> \\n                        <img class=\"img-responsive\" style=\"max-width:50px;\" src=\"/media/practice/character_aladdin_aladdin_fb60afd2.jpeg\">\\n                    </a>\\n                </div>\\n                <div class=\" media-body student-info\">\\n                    <a href=\"/profile/4/\" class=\"text-capitalize text-muted\">\\n                        <strong>John Doe</strong>\\n                    </a>\\n                    <div class=\"text-xs\"></div>\\n                    <div class=\"rating\">\\n                        \\n                            \\n                            <span class=\"glyphicon glyphicon-star-empty color-gold\"></span>\\n                            \\n                        \\n                            \\n                            <span class=\"glyphicon glyphicon-star-empty color-gold\"></span>\\n                            \\n                        \\n                            \\n                            <span class=\"glyphicon glyphicon-star-empty color-gold\"></span>\\n                            \\n                        \\n                            \\n                            <span class=\"glyphicon glyphicon-star-empty color-gold\"></span>\\n                            \\n                        \\n                            \\n                            <span class=\"glyphicon glyphicon-star-empty color-gold\"></span>\\n                            \\n                        \\n                    </div>\\n                    <div class=\"extra-links\">\\n                        <a href=\"/messages/write/super/\" class=\"text-muted\"> \\n                            <span class=\"glyphicon glyphicon-envelope\"></span>\\n                        </a>\\n                        \\n                        <a href=\"/course/1/\" class=\"text-muted\"> \\n                            <span class=\"glyphicon glyphicon-calendar\"></span>\\n                        </a>\\n                        \\n                    </div>\\n\\n                    \\n                </div>\\n            </div>\\n        \\n        \\n        \\n            <div class=\"media\">\\n                <div class=\"media-left media-img\">\\n                    <a href=\"/profile/10/\"> \\n                        <img class=\"img-responsive\" style=\"max-width:50px;\" src=\"/static/img/user.png\">\\n                    </a>\\n                </div>\\n                <div class=\" media-body student-info\">\\n                    <a href=\"/profile/10/\" class=\"text-capitalize text-muted\">\\n                        <strong>uday naik</strong>\\n                    </a>\\n                    <div class=\"text-xs\"></div>\\n                    <div class=\"rating\">\\n                        \\n                            \\n                            <span class=\"glyphicon glyphicon-star-empty color-gold\"></span>\\n                            \\n                        \\n                            \\n                            <span class=\"glyphicon glyphicon-star-empty color-gold\"></span>\\n                            \\n                        \\n                            \\n                            <span class=\"glyphicon glyphicon-star-empty color-gold\"></span>\\n                            \\n                        \\n                            \\n                            <span class=\"glyphicon glyphicon-star-empty color-gold\"></span>\\n                            \\n                        \\n                            \\n                            <span class=\"glyphicon glyphicon-star-empty color-gold\"></span>\\n                            \\n                        \\n                    </div>\\n                    <div class=\"extra-links\">\\n                        <a href=\"/messages/write/uday/\" class=\"text-muted\"> \\n                            <span class=\"glyphicon glyphicon-envelope\"></span>\\n                        </a>\\n                        \\n                    </div>\\n\\n                    \\n                </div>\\n            </div>\\n        \\n        \\n        \\n            <div class=\"media\">\\n                <div class=\"media-left media-img\">\\n                    <a href=\"/profile/57/\"> \\n                        <img class=\"img-responsive\" style=\"max-width:50px;\" src=\"/media/practice/pic_painting_taposh.jpeg\">\\n                    </a>\\n                </div>\\n                <div class=\" media-body student-info\">\\n                    <a href=\"/profile/57/\" class=\"text-capitalize text-muted\">\\n                        <strong>Taposh Roy</strong>\\n                    </a>\\n                    <div class=\"text-xs\"></div>\\n                    <div class=\"rating\">\\n                        \\n                            \\n                            <span class=\"glyphicon glyphicon-star-empty color-gold\"></span>\\n                            \\n                        \\n                            \\n                            <span class=\"glyphicon glyphicon-star-empty color-gold\"></span>\\n                            \\n                        \\n                            \\n                            <span class=\"glyphicon glyphicon-star-empty color-gold\"></span>\\n                            \\n                        \\n                            \\n                            <span class=\"glyphicon glyphicon-star-empty color-gold\"></span>\\n                            \\n                        \\n                            \\n                            <span class=\"glyphicon glyphicon-star-empty color-gold\"></span>\\n                            \\n                        \\n                    </div>\\n                    <div class=\"extra-links\">\\n                        <a href=\"/messages/write/taposhdr/\" class=\"text-muted\"> \\n                            <span class=\"glyphicon glyphicon-envelope\"></span>\\n                        </a>\\n                        \\n                    </div>\\n\\n                    \\n                </div>\\n            </div>\\n        \\n        \\n        \\n            <div class=\"media\">\\n                <div class=\"media-left media-img\">\\n                    <a href=\"/profile/59/\"> \\n                        <img class=\"img-responsive\" style=\"max-width:50px;\" src=\"/static/img/user.png\">\\n                    </a>\\n                </div>\\n                <div class=\" media-body student-info\">\\n                    <a href=\"/profile/59/\" class=\"text-capitalize text-muted\">\\n                        <strong>Jayant Shekhar</strong>\\n                    </a>\\n                    <div class=\"text-xs\"></div>\\n                    <div class=\"rating\">\\n                        \\n                            \\n                            <span class=\"glyphicon glyphicon-star-empty color-gold\"></span>\\n                            \\n                        \\n                            \\n                            <span class=\"glyphicon glyphicon-star-empty color-gold\"></span>\\n                            \\n                        \\n                            \\n                            <span class=\"glyphicon glyphicon-star-empty color-gold\"></span>\\n                            \\n                        \\n                            \\n                            <span class=\"glyphicon glyphicon-star-empty color-gold\"></span>\\n                            \\n                        \\n                            \\n                            <span class=\"glyphicon glyphicon-star-empty color-gold\"></span>\\n                            \\n                        \\n                    </div>\\n                    <div class=\"extra-links\">\\n                        <a href=\"/messages/write/jayant/\" class=\"text-muted\"> \\n                            <span class=\"glyphicon glyphicon-envelope\"></span>\\n                        </a>\\n                        \\n                    </div>\\n\\n                    \\n                </div>\\n            </div>\\n        \\n        \\n        \\n            <div class=\"media\">\\n                <div class=\"media-left media-img\">\\n                    <a href=\"/profile/60/\"> \\n                        <img class=\"img-responsive\" style=\"max-width:50px;\" src=\"/static/img/user.png\">\\n                    </a>\\n                </div>\\n                <div class=\" media-body student-info\">\\n                    <a href=\"/profile/60/\" class=\"text-capitalize text-muted\">\\n                        <strong>nikhil shekhar</strong>\\n                    </a>\\n                    <div class=\"text-xs\"></div>\\n                    <div class=\"rating\">\\n                        \\n                            \\n                            <span class=\"glyphicon glyphicon-star-empty color-gold\"></span>\\n                            \\n                        \\n                            \\n                            <span class=\"glyphicon glyphicon-star-empty color-gold\"></span>\\n                            \\n                        \\n                            \\n                            <span class=\"glyphicon glyphicon-star-empty color-gold\"></span>\\n                            \\n                        \\n                            \\n                            <span class=\"glyphicon glyphicon-star-empty color-gold\"></span>\\n                            \\n                        \\n                            \\n                            <span class=\"glyphicon glyphicon-star-empty color-gold\"></span>\\n                            \\n                        \\n                    </div>\\n                    <div class=\"extra-links\">\\n                        <a href=\"/messages/write/nikhil/\" class=\"text-muted\"> \\n                            <span class=\"glyphicon glyphicon-envelope\"></span>\\n                        </a>\\n                        \\n                    </div>\\n\\n                    \\n                </div>\\n            </div>\\n        \\n        \\n        \\n            <div class=\"media\">\\n                <div class=\"media-left media-img\">\\n                    <a href=\"/profile/62/\"> \\n                        <img class=\"img-responsive\" style=\"max-width:50px;\" src=\"/static/img/user.png\">\\n                    </a>\\n                </div>\\n                <div class=\" media-body student-info\">\\n                    <a href=\"/profile/62/\" class=\"text-capitalize text-muted\">\\n                        <strong>Hari Kaushik</strong>\\n                    </a>\\n                    <div class=\"text-xs\"></div>\\n                    <div class=\"rating\">\\n                        \\n                            \\n                            <span class=\"glyphicon glyphicon-star-empty color-gold\"></span>\\n                            \\n                        \\n                            \\n                            <span class=\"glyphicon glyphicon-star-empty color-gold\"></span>\\n                            \\n                        \\n                            \\n                            <span class=\"glyphicon glyphicon-star-empty color-gold\"></span>\\n                            \\n                        \\n                            \\n                            <span class=\"glyphicon glyphicon-star-empty color-gold\"></span>\\n                            \\n                        \\n                            \\n                            <span class=\"glyphicon glyphicon-star-empty color-gold\"></span>\\n                            \\n                        \\n                    </div>\\n                    <div class=\"extra-links\">\\n                        <a href=\"/messages/write/harikaushik/\" class=\"text-muted\"> \\n                            <span class=\"glyphicon glyphicon-envelope\"></span>\\n                        </a>\\n                        \\n                    </div>\\n\\n                    \\n                </div>\\n            </div>\\n        \\n        \\n        \\n            <div class=\"media\">\\n                <div class=\"media-left media-img\">\\n                    <a href=\"/profile/65/\"> \\n                        <img class=\"img-responsive\" style=\"max-width:50px;\" src=\"/static/img/user.png\">\\n                    </a>\\n                </div>\\n                <div class=\" media-body student-info\">\\n                    <a href=\"/profile/65/\" class=\"text-capitalize text-muted\">\\n                        <strong>yaseen hussain</strong>\\n                    </a>\\n                    <div class=\"text-xs\"></div>\\n                    <div class=\"rating\">\\n                        \\n                            \\n                            <span class=\"glyphicon glyphicon-star-empty color-gold\"></span>\\n                            \\n                        \\n                            \\n                            <span class=\"glyphicon glyphicon-star-empty color-gold\"></span>\\n                            \\n                        \\n                            \\n                            <span class=\"glyphicon glyphicon-star-empty color-gold\"></span>\\n                            \\n                        \\n                            \\n                            <span class=\"glyphicon glyphicon-star-empty color-gold\"></span>\\n                            \\n                        \\n                            \\n                            <span class=\"glyphicon glyphicon-star-empty color-gold\"></span>\\n                            \\n                        \\n                    </div>\\n                    <div class=\"extra-links\">\\n                        <a href=\"/messages/write/yaseen/\" class=\"text-muted\"> \\n                            <span class=\"glyphicon glyphicon-envelope\"></span>\\n                        </a>\\n                        \\n                    </div>\\n\\n                    \\n                </div>\\n            </div>\\n        \\n        \\n        \\n            <div class=\"media\">\\n                <div class=\"media-left media-img\">\\n                    <a href=\"/profile/67/\"> \\n                        <img class=\"img-responsive\" style=\"max-width:50px;\" src=\"/static/img/user.png\">\\n                    </a>\\n                </div>\\n                <div class=\" media-body student-info\">\\n                    <a href=\"/profile/67/\" class=\"text-capitalize text-muted\">\\n                        <strong>Josenildo da Silva</strong>\\n                    </a>\\n                    <div class=\"text-xs\"></div>\\n                    <div class=\"rating\">\\n                        \\n                            \\n                            <span class=\"glyphicon glyphicon-star-empty color-gold\"></span>\\n                            \\n                        \\n                            \\n                            <span class=\"glyphicon glyphicon-star-empty color-gold\"></span>\\n                            \\n                        \\n                            \\n                            <span class=\"glyphicon glyphicon-star-empty color-gold\"></span>\\n                            \\n                        \\n                            \\n                            <span class=\"glyphicon glyphicon-star-empty color-gold\"></span>\\n                            \\n                        \\n                            \\n                            <span class=\"glyphicon glyphicon-star-empty color-gold\"></span>\\n                            \\n                        \\n                    </div>\\n                    <div class=\"extra-links\">\\n                        <a href=\"/messages/write/jcsilva/\" class=\"text-muted\"> \\n                            <span class=\"glyphicon glyphicon-envelope\"></span>\\n                        </a>\\n                        \\n                    </div>\\n\\n                    \\n                </div>\\n            </div>\\n        \\n            \\n        </section>\\n\\n    </div>\\n\\n<script src=\"/static/js/slick/slick.js\" type=\"text/javascript\"></script>\\n<script type=\"text/javascript\">\\n    $(document).ready(function() {\\n       \\n        $(\".vertical\").slick({\\n            autoplay: false,\\n            autoplaySpeed: 3000,\\n            infinite: false,\\n            slidesToShow: 5,\\n            slidesToScroll: 5,\\n            vertical: true,\\n            verticalSwiping: true,\\n            prevArrow: \"<div><button type=\\'button\\' class=\\'btn-slicker center-block glyphicon glyphicon-chevron-up\\' ></button></div>\",\\n            nextArrow: \"<div><button type=\\'button\\' class=\\'btn-slicker center-block glyphicon glyphicon-chevron-down\\'></button></div\",\\n            \\n        });\\n    });\\n  </script>\\n\\n    </div>\\n</div>\\n\\n\\n    </div>\\n    </section>\\n    \\n<section class=\"mbr-footer mbr-section mbr-section-md-padding\" id=\"contacts3-0\" style=\"background-color: rgb(46, 46, 46); padding-top: 90px; padding-bottom: 90px;\">\\n        <div class=\"row\">\\n            <div class=\"mbr-company col-xs-12 col-md-6 col-lg-3\">\\n                <div class=\"mbr-company card\">\\n                    <div>\\n                        <a href=\"#top\"><img src=\"/static/assets/images/logo-265x179-20.png\" class=\"card-img-top\" alt=\"Arithmetica.io\"></a>\\n                    </div>\\n                    <div class=\"card-block\">\\n                        <p class=\"card-text\">At Arithmetica we value math and data. We provide an ability to practice and learn datascience.</p>\\n                    </div>\\n                    <ul class=\"list-group list-group-flush\">\\n                        <li class=\"list-group-item\">\\n                            <span class=\"list-group-icon\"><span class=\"etl-icon icon-phone mbr-iconfont-company-contacts3\"></span></span>\\n                            <span class=\"list-group-text\">+1 &nbsp;(843) 882-7674&nbsp;</span>\\n                        </li>\\n                        <li class=\"list-group-item\">\\n                            <span class=\"list-group-icon\"><span class=\"etl-icon icon-map-pin mbr-iconfont-company-contacts3\"></span></span>\\n                            <span class=\"list-group-text\">&nbsp;Dublin, CA</span>\\n                        </li>\\n                        <li class=\"list-group-item active\">\\n                            <span class=\"list-group-icon\"><span class=\"etl-icon icon-envelope mbr-iconfont-company-contacts3\"></span></span>\\n                            <span class=\"list-group-text\"><p><a href=\"mailto:info@arithmetica.io\">info@arithmetica.io</a><a href=\"mailto:info@arithmetica.io\"></a></p></span>\\n                        </li>\\n                    </ul>\\n                </div>\\n            </div>\\n            <div class=\"mbr-footer-content col-xs-12 col-md-6 col-lg-3\">\\n                <h4>Legal</h4>\\n                <ul>\\n                    <li><a href=\"/static/html/aboutus.html\" target=\"_blank\">About us</a>\\n                        <a class=\"text-white\" href=\"#\"></a>\\n                    </li>\\n                    <li><a href=\"/static/html/privacy.html\" target=\"_blank\">Privacy Policy</a>\\n                        <a class=\"text-white\" href=\"#\"></a>\\n                    </li>\\n                    <li><a href=\"/static/html/terms.html\" target=\"_blank\">Terms of use</a>\\n                        <a class=\"text-white\" href=\"#\"></a>\\n                    </li>\\n\\n                    <li><a href=\"/static/html/enterprise.html\" target=\"_blank\">Enterprise Customers</a>\\n                        <a class=\"text-white\" href=\"#\"></a>\\n                    </li>\\n                    <br>\\n                </ul>\\n            </div>\\n            <div class=\"mbr-footer-content col-xs-12 col-md-6 col-lg-3\">\\n                <p><strong>Contacts</strong>\\n                    <br>Email: info@arithmetica.io\\n                    <br>Phone: +1&nbsp;(843) 882-7674\\n                    <br>Fax: +1 (843) 882-7674\\n                    <br>\\n                    <br>\\n                    <br>\\n                    <br>\\n                    <br>\\n                </p>\\n            </div>\\n          <!--  <div class=\"col-xs-12 col-md-6 col-lg-3\" data-form-type=\"formoid\">\\n                <div data-form-alert=\"true\">\\n                    <div hidden=\"\" data-form-alert-success=\"true\">Thanks for filling out form!</div>\\n                </div>\\n                <form action=\"https://mobirise.com/\" method=\"post\" data-form-title=\"MESSAGE\">\\n                    <input type=\"hidden\" value=\"duGYqHsjpr6VHElpC6bUzOqPPFawcqAATdwDaDf/x2kVAGWYSJJljVKWK+6/PTFk+YFDEPtCmxCrKQCByIJIkiyBqmKqE+P/8Gb0+EffShuwNdv4pe9f2AUUEJ07pUXo\" data-form-email=\"true\">\\n                    <div class=\"form-group\">\\n                        <label class=\"form-control-label\" for=\"contacts3-0-email\">Email<span class=\"form-asterisk\">*</span></label>\\n                        <input type=\"email\" class=\"form-control input-sm input-inverse\" name=\"email\" required=\"\" data-form-field=\"Email\" id=\"contacts3-0-email\">\\n                    </div>\\n                    <div class=\"form-group\">\\n                        <label class=\"form-control-label\" for=\"contacts3-0-message\">Message</label>\\n                        <textarea class=\"form-control input-sm input-inverse\" name=\"message\" data-form-field=\"Message\" rows=\"5\" id=\"contacts3-0-message\"></textarea>\\n                    </div>\\n                    <div>\\n                        <button type=\"submit\" class=\"btn btn-sm btn-black\">Contact us</button>\\n                    </div>\\n                </form>\\n            </div>-->\\n        </div>\\n</section>\\n\\n<!-- <script src=\"https://code.jquery.com/jquery-2.2.0.min.js\"></script> -->\\n<!-- <script src=\"/static/assets/tether/tether.min.js\"></script> -->\\n<script src=\"/static/js/bootstrap.min.js\"></script>\\n<!-- <script src=\"/static/assets/smooth-scroll/SmoothScroll.js\"></script> -->\\n<!-- <script src=\"/static/assets/viewportChecker/jquery.viewportchecker.js\"></script> -->\\n<!-- <script src=\"/static/assets/jarallax/jarallax.js\"></script> -->\\n<script src=\"/static/assets/dropdown/js/script.min.js\"></script>\\n<!-- <script src=\"/static/assets/touchSwipe/jquery.touchSwipe.min.js\"></script> -->\\n<!-- <script src=\"/static/assets/theme/js/script.js\"></script> -->\\n<!-- <script src=\"/static/assets/formoid/formoid.min.js\"></script> -->\\n<!-- <input name=\"animation\" type=\"hidden\"> -->\\n\\n<!-- Google Analytics -Arithmetica.io -->\\n<script>\\n  (function(i,s,o,g,r,a,m){i[\\'GoogleAnalyticsObject\\']=r;i[r]=i[r]||function(){\\n  (i[r].q=i[r].q||[]).push(arguments)},i[r].l=1*new Date();a=s.createElement(o),\\n  m=s.getElementsByTagName(o)[0];a.async=1;a.src=g;m.parentNode.insertBefore(a,m)\\n  })(window,document,\\'script\\',\\'https://www.google-analytics.com/analytics.js\\',\\'ga\\');\\n\\n  ga(\\'create\\', \\'UA-84198603-1\\', \\'auto\\');\\n  ga(\\'send\\', \\'pageview\\');\\n\\n</script>\\n\\n\\n     <!--Start orange-->\\n<script type=\\'text/javascript\\'>\\nwindow.__lo_site_id = 87113;\\n\\n\\t(function() {\\n\\t\\tvar wa = document.createElement(\\'script\\'); wa.type = \\'text/javascript\\'; wa.async = true;\\n\\t\\twa.src = \\'https://d10lpsik1i8c69.cloudfront.net/w.js\\';\\n\\t\\tvar s = document.getElementsByTagName(\\'script\\')[0]; s.parentNode.insertBefore(wa, s);\\n\\t  })();\\n\\t</script>\\n    <!--End Orange-->\\n\\n    \\n<script language=\"JavaScript\">\\nfunction getCode(code){\\n    $(\"#code-\"+code).toggle();\\n}\\n$(\\'select.form-control\\').change(function(e){\\n    var reload = 0 || 0 || 0\\n    var query_string = \\'\\'\\n    $(\\'select.form-control\\').each(function(e){\\n        console.log($(this).attr(\\'name\\') + \"=\" + $(this).val());\\n        if ($(this).val()){\\n            query_string +=  $(this).attr(\\'name\\') + \"=\" + $(this).val() + \"&\";\\n        }\\n    })\\n    console.log(query_string)\\n    if (query_string || reload){\\n        location.href= \"?\" + query_string;\\n    }\\n})\\n</script>\\n\\n     <script type=\"text/javascript\">\\n        $(\\'.navbar\\').removeClass(\\'transparent\\');\\n    </script>\\n</body>\\n</html>\\n'"
      ]
     },
     "execution_count": 373,
     "metadata": {},
     "output_type": "execute_result"
    }
   ],
   "source": [
    "resulttext"
   ]
  },
  {
   "cell_type": "code",
   "execution_count": 374,
   "metadata": {
    "collapsed": true
   },
   "outputs": [],
   "source": [
    "#pip install beautifulsoup4\n",
    "from bs4 import BeautifulSoup"
   ]
  },
  {
   "cell_type": "code",
   "execution_count": 375,
   "metadata": {
    "collapsed": false
   },
   "outputs": [
    {
     "name": "stdout",
     "output_type": "stream",
     "text": [
      "<!DOCTYPE html>\n",
      "<html>\n",
      "<head>\n",
      "<!-- Site made with Mobirise Website Builder v3.5.2, https://mobirise.com -->\n",
      "<meta charset=\"utf-8\"/>\n",
      "<meta content=\"IE=edge\" http-equiv=\"X-UA-Compatible\"/>\n",
      "<meta content=\"Mobirise v3.5.2, mobirise.com\" name=\"generator\"/>\n",
      "<meta content=\"width=device-width, initial-scale=1\" name=\"viewport\"/>\n",
      "<link href=\"/static/assets/img/logo.png\" rel=\"shortcut icon\" type=\"image/x-icon\"/>\n",
      "<meta content=\"\" name=\"description\"/>\n",
      "<title>Arithmetica.io</title>\n",
      "<link href=\"https://fonts.googleapis.com/css?family=Lora:400,700,400italic,700italic&amp;subset=latin\" rel=\"stylesheet\"/>\n",
      "<link href=\"https://fonts.googleapis.com/css?family=Montserrat:400,700\" rel=\"stylesheet\"/>\n",
      "<link href=\"https://fonts.googleapis.com/css?family=Raleway:400,100,200,300,500,600,700,800,900\" rel=\"stylesheet\"/>\n",
      "<link href=\"/static/assets/et-line-font-plugin/style.css\" rel=\"stylesheet\"/>\n",
      "<link href=\"/static/assets/bootstrap-material-design-font/css/material.css\" rel=\"stylesheet\"/>\n",
      "<link href=\"/static/assets/tether/tether.min.css\" rel=\"stylesheet\"/>\n",
      "<link href=\"/static/css/bootstrap.min.css\" rel=\"stylesheet\"/>\n",
      "<link href=\"/static/assets/socicon/css/socicon.min.css\" rel=\"stylesheet\"/>\n",
      "<link href=\"/static/assets/dropdown/css/style.css\" rel=\"stylesheet\"/>\n",
      "<link href=\"/static/assets/theme/css/style.css\" rel=\"stylesheet\"/>\n",
      "<link href=\"/static/assets/mobirise/css/mbr-additional.css\" rel=\"stylesheet\" type=\"text/css\"/>\n",
      "<link href=\"/static/css/styles.css\" rel=\"stylesheet\" type=\"text/css\"/>\n",
      "<link href=\"/static/css/home_style.css\" rel=\"stylesheet\" type=\"text/css\"/>\n",
      "<!-- start Mixpanel -->\n",
      "<script type=\"text/javascript\">(function(e,a){if(!a.__SV){var b=window;try{var c,l,i,j=b.location,g=j.hash;c=function(a,b){return(l=a.match(RegExp(b+\"=([^&]*)\")))?l[1]:null};g&&c(g,\"state\")&&(i=JSON.parse(decodeURIComponent(c(g,\"state\"))),\"mpeditor\"===i.action&&(b.sessionStorage.setItem(\"_mpcehash\",g),history.replaceState(i.desiredHash||\"\",e.title,j.pathname+j.search)))}catch(m){}var k,h;window.mixpanel=a;a._i=[];a.init=function(b,c,f){function e(b,a){var c=a.split(\".\");2==c.length&&(b=b[c[0]],a=c[1]);b[a]=function(){b.push([a].concat(Array.prototype.slice.call(arguments,\n",
      "0)))}}var d=a;\"undefined\"!==typeof f?d=a[f]=[]:f=\"mixpanel\";d.people=d.people||[];d.toString=function(b){var a=\"mixpanel\";\"mixpanel\"!==f&&(a+=\".\"+f);b||(a+=\" (stub)\");return a};d.people.toString=function(){return d.toString(1)+\".people (stub)\"};k=\"disable time_event track track_pageview track_links track_forms register register_once alias unregister identify name_tag set_config reset people.set people.set_once people.increment people.append people.union people.track_charge people.clear_charges people.delete_user\".split(\" \");\n",
      "for(h=0;h<k.length;h++)e(d,k[h]);a._i.push([b,c,f])};a.__SV=1.2;b=e.createElement(\"script\");b.type=\"text/javascript\";b.async=!0;b.src=\"undefined\"!==typeof MIXPANEL_CUSTOM_LIB_URL?MIXPANEL_CUSTOM_LIB_URL:\"file:\"===e.location.protocol&&\"//cdn.mxpnl.com/libs/mixpanel-2-latest.min.js\".match(/^\\/\\//)?\"https://cdn.mxpnl.com/libs/mixpanel-2-latest.min.js\":\"//cdn.mxpnl.com/libs/mixpanel-2-latest.min.js\";c=e.getElementsByTagName(\"script\")[0];c.parentNode.insertBefore(b,c)}})(document,window.mixpanel||[]);\n",
      "mixpanel.init(\"47c46737d15e38777be6bf022a5b6fc3\");</script>\n",
      "<!-- end Mixpanel -->\n",
      "<!--Start of Zopim Live Chat Script-->\n",
      "<script type=\"text/javascript\">\n",
      "window.$zopim||(function(d,s){var z=$zopim=function(c){z._.push(c)},$=z.s=\n",
      "d.createElement(s),e=d.getElementsByTagName(s)[0];z.set=function(o){z.set.\n",
      "_.push(o)};z._=[];z.set._=[];$.async=!0;$.setAttribute(\"charset\",\"utf-8\");\n",
      "$.src=\"//v2.zopim.com/?4HK8Bz5SplkPeSsjtjOscIimPBlDnzLU\";z.t=+new Date;$.\n",
      "type=\"text/javascript\";e.parentNode.insertBefore($,e)})(document,\"script\");\n",
      "</script>\n",
      "<!--End of Zopim Live Chat Script-->\n",
      "<script src=\"/static/assets/web/assets/jquery/jquery.min.js\"></script>\n",
      "<!--Start orange-->\n",
      "<script type=\"text/javascript\">\n",
      "window.__lo_site_id = 87113;\n",
      "\n",
      "\t(function() {\n",
      "\t\tvar wa = document.createElement('script'); wa.type = 'text/javascript'; wa.async = true;\n",
      "\t\twa.src = 'https://d10lpsik1i8c69.cloudfront.net/w.js';\n",
      "\t\tvar s = document.getElementsByTagName('script')[0]; s.parentNode.insertBefore(wa, s);\n",
      "\t  })();\n",
      "\t</script>\n",
      "<!--End Orange-->\n",
      "</head>\n",
      "<body>\n",
      "<section id=\"ext_menu-0\">\n",
      "<nav class=\"navbar navbar-inverse new-nav navbar-dropdown\">\n",
      "<div class=\"container nav-table\">\n",
      "<!-- Brand and toggle get grouped for better mobile display -->\n",
      "<div class=\"navbar-header\">\n",
      "<button aria-expanded=\"false\" class=\"navbar-toggle collapsed pull-right\" data-target=\"#bs-example-navbar-collapse-1\" data-toggle=\"collapse\" type=\"button\">\n",
      "<span class=\"sr-only\">Toggle navigation</span>\n",
      "<span class=\"icon-bar\"></span>\n",
      "<span class=\"icon-bar\"></span>\n",
      "<span class=\"icon-bar\"></span>\n",
      "</button>\n",
      "<a class=\"navbar-brand\" href=\"/\">\n",
      "<img class=\"img\" src=\"/static/img/new_logo.png\"/>\n",
      "</a>\n",
      "</div>\n",
      "<!-- Collect the nav links, forms, and other content for toggling -->\n",
      "<div class=\"collapse navbar-collapse nav-dropdown navbar-toggleable-sm\" id=\"bs-example-navbar-collapse-1\">\n",
      "<form action=\"/search/\" class=\"navbar-form navbar-nav\" method=\"get\">\n",
      "<div class=\"form-group\">\n",
      "<input class=\"form-control\" name=\"q\" placeholder=\"Search\" type=\"text\"/>\n",
      "</div>\n",
      "</form>\n",
      "<ul class=\"nav navbar-nav navbar-right\">\n",
      "<li class=\"nav-item nav-btn\"><a class=\"nav-link btn btn-secondary btn-nav\" href=\"/profile/signup/\">SIGN UP</a></li>\n",
      "<li class=\"nav-item nav-btn\"><a class=\"nav-link btn btn-primary btn-nav\" href=\"/account/login/\">SIGN IN</a></li>\n",
      "</ul>\n",
      "</div>\n",
      "<!-- /.navbar-collapse -->\n",
      "</div>\n",
      "<!-- /.container-fluid -->\n",
      "</nav>\n",
      "<div class=\"row\">\n",
      "<!-- +++++++++++++++++++++++++++++++++++++navbar-2+++++++++++++++++++++++++++++++++++++++++++++++++ -->\n",
      "<nav class=\"navbar navbar-default new-nav navbar-dropdown home-nav content-nav\">\n",
      "<div class=\"container nav-table\">\n",
      "<!-- Brand and toggle get grouped for better mobile display -->\n",
      "<div class=\"navbar-header\">\n",
      "<button aria-expanded=\"false\" class=\"navbar-toggle collapsed pull-right\" data-target=\"#bs-example-navbar-collapse-1\" data-toggle=\"collapse\" type=\"button\">\n",
      "<span class=\"sr-only\">Toggle navigation</span>\n",
      "<span class=\"icon-bar\"></span>\n",
      "<span class=\"icon-bar\"></span>\n",
      "<span class=\"icon-bar\"></span>\n",
      "</button>\n",
      "<!-- <a class=\"navbar-brand\" href=\"/\">\n",
      "                        <img class=\"img\" src=\"/static/img/new_logo.png\">\n",
      "                    </a> -->\n",
      "</div>\n",
      "<!-- Collect the nav links, forms, and other content for toggling -->\n",
      "<div class=\"collapse navbar-collapse nav-dropdown navbar-toggleable-sm\" id=\"bs-example-navbar-collapse-1\">\n",
      "<ul class=\"nav navbar-nav \">\n",
      "<li><a class=\"a-height\" href=\"/practice/list/\">Practices</a></li>\n",
      "<li><a class=\"a-height\" href=\"/practice/competition/\">Competitions</a></li>\n",
      "<!--<li><a class=\"a-height\" href=\"/courses/\">Trainings</a></li>-->\n",
      "<!--<li><a class=\"a-height\" href=\"/tools/\">Tools</a></li>-->\n",
      "<!--<li><a class=\"a-height\" href=\"/experts/\">Experts</a></li>-->\n",
      "<!--<li><a class=\"a-height\" href=\"\">Faq</a></li>-->\n",
      "</ul>\n",
      "</div>\n",
      "<!-- /.navbar-collapse -->\n",
      "</div>\n",
      "<!-- /.container-fluid -->\n",
      "</nav>\n",
      "</div>\n",
      "<br/>\n",
      "</section>\n",
      "<section class=\"mbr-section article mbr-section__container mbr-after-navbar\" id=\"content1-0\" style=\"background-color: rgb(255, 255, 255); padding-top: 140px; padding-bottom: 60px;\">\n",
      "<!-- <div class=\"container\" style=\"margin-bottom: 3%;\">\n",
      "    <div class=\"row\">\n",
      "        <div class=\"col-sm-9\">\n",
      "            <h1 class=\"text-center\" style=\"color: #D06F08;margin: 0;\">Want to become a practice master? submit practice detail here !!</h1>\n",
      "        </div>\n",
      "        <div class=\"col-sm-3 practice-notify\">\n",
      "            <a href=\"/practice/create/\" style=\"color: #000;\">\n",
      "                <div  class=\"btn-practice\">\n",
      "                    <h3 class=\"text-center\" style=\"margin:5px 0\">Create a new practice</h3>\n",
      "                </div>\n",
      "            </a>\n",
      "        </div>\n",
      "    </div>\n",
      "</div> -->\n",
      "<div class=\"container\">\n",
      "<script src=\"//highlightjs.org/static/highlight.pack.js\" type=\"text/javascript\"></script>\n",
      "<div class=\"row\">\n",
      "<div class=\"col-sm-9 col-sx-12\">\n",
      "<div style=\"margin-bottom: 3%;\">\n",
      "<div class=\"row\">\n",
      "<div class=\"col-sm-8\">\n",
      "<h2 class=\"text-center\" style=\"color: #D06F08;margin: 0;\">Want to become a practice master? submit practice detail here !!</h2>\n",
      "</div>\n",
      "<div class=\"col-sm-4 practice-notify\">\n",
      "<a href=\"/practice/create/\" style=\"color: #000;\">\n",
      "<div class=\"btn btn-primary\">\n",
      "                            Create a new practice\n",
      "                        </div>\n",
      "</a>\n",
      "</div>\n",
      "</div>\n",
      "</div>\n",
      "<div class=\"row\">\n",
      "<div class=\"col-sm-4\">\n",
      "<select class=\"form-control text-muted\" name=\"problem_type\">\n",
      "<option value=\"\">Expert Area</option>\n",
      "<option value=\"1\">Classification</option>\n",
      "<option value=\"2\">Clustering</option>\n",
      "<option value=\"3\">Regression</option>\n",
      "<option value=\"4\">Deep Learning</option>\n",
      "<option value=\"7\">GLRM</option>\n",
      "<option value=\"8\">Probabilistic Graphical Models</option>\n",
      "</select>\n",
      "</div>\n",
      "<div class=\"col-sm-4\">\n",
      "<select class=\"form-control text-muted\" name=\"data_category\">\n",
      "<option value=\"\">Data Category</option>\n",
      "<p class=\"text-muted\"></p>\n",
      "<option value=\"2\">Multivariate</option>\n",
      "<option value=\"3\">Univariate</option>\n",
      "<option value=\"4\">Sequential</option>\n",
      "<option value=\"5\">TimeSeries</option>\n",
      "<option value=\"6\">Text</option>\n",
      "</select>\n",
      "</div>\n",
      "<div class=\"col-sm-4\">\n",
      "<select class=\"form-control text-muted\" name=\"complexity\">\n",
      "<option value=\"\">Complexity</option>\n",
      "<option value=\"1\">Simple</option>\n",
      "</select>\n",
      "</div>\n",
      "</div>\n",
      "<div class=\"row\">\n",
      "<h2>Practices </h2>\n",
      "<div class=\"praticess\">\n",
      "<div class=\"col-sm-4 text-center\">\n",
      "<a href=\"/practice/1/\"><img class=\"img-responsive center-block\" src=\"/media/practice/Large31.jpg\" title=\"Covertype\"/></a>\n",
      "<a href=\"/practice/1/\"><p class=\"text-muted\">Covertype</p></a>\n",
      "</div>\n",
      "<div class=\"col-sm-4\">\n",
      "<ul>\n",
      "<li class=\"text-muted\"> Source: UCI Data Set </li>\n",
      "<li class=\"text-muted\"> Expert Area: Clustering </li>\n",
      "<li class=\"text-muted\"> Data Type: Integer, Categorical </li>\n",
      "<li class=\"text-muted\"> Rows: 581012 </li>\n",
      "<li class=\"text-muted\"> Attributes: 54 </li>\n",
      "<li class=\"text-muted\"> Metric: Area Under the Curve (AUC) </li>\n",
      "</ul>\n",
      "</div>\n",
      "<div class=\"col-sm-4\">\n",
      "<a class=\"btn btn-primary\" href=\"/practice/1/\" role=\"button\">Practice Now</a>\n",
      "</div>\n",
      "</div>\n",
      "<div class=\"praticess\">\n",
      "<div class=\"col-sm-4 text-center\">\n",
      "<a href=\"/practice/2/\"><img class=\"img-responsive center-block\" src=\"/media/practice/3006357_insulin_injection_diabetes_blood_sugar.jpg\" title=\"Diabetes 130-US hospitals for years 1999-2008\"/></a>\n",
      "<a href=\"/practice/2/\"><p class=\"text-muted\">Diabetes 130-US hospitals for years 1999-2008</p></a>\n",
      "</div>\n",
      "<div class=\"col-sm-4\">\n",
      "<ul>\n",
      "<li class=\"text-muted\"> Source: UCI Data Set </li>\n",
      "<li class=\"text-muted\"> Expert Area: Classification, Clustering </li>\n",
      "<li class=\"text-muted\"> Data Type: Integer </li>\n",
      "<li class=\"text-muted\"> Rows: 100000 </li>\n",
      "<li class=\"text-muted\"> Attributes: 55 </li>\n",
      "<li class=\"text-muted\"> Metric:  </li>\n",
      "</ul>\n",
      "</div>\n",
      "<div class=\"col-sm-4\">\n",
      "<a class=\"btn btn-primary\" href=\"/practice/2/\" role=\"button\">Practice Now</a>\n",
      "</div>\n",
      "</div>\n",
      "<div class=\"praticess\">\n",
      "<div class=\"col-sm-4 text-center\">\n",
      "<a href=\"/practice/3/\"><img class=\"img-responsive center-block\" src=\"/media/practice/Large1.jpg\" title=\"Abalone\"/></a>\n",
      "<a href=\"/practice/3/\"><p class=\"text-muted\">Abalone</p></a>\n",
      "</div>\n",
      "<div class=\"col-sm-4\">\n",
      "<ul>\n",
      "<li class=\"text-muted\"> Source: UCI Data Set </li>\n",
      "<li class=\"text-muted\"> Expert Area: Classification </li>\n",
      "<li class=\"text-muted\"> Data Type: Integer, Categorical, Real </li>\n",
      "<li class=\"text-muted\"> Rows: 4177 </li>\n",
      "<li class=\"text-muted\"> Attributes: 8 </li>\n",
      "<li class=\"text-muted\"> Metric:  </li>\n",
      "</ul>\n",
      "</div>\n",
      "<div class=\"col-sm-4\">\n",
      "<a class=\"btn btn-primary\" href=\"/practice/3/\" role=\"button\">Practice Now</a>\n",
      "</div>\n",
      "</div>\n",
      "<div class=\"praticess\">\n",
      "<div class=\"col-sm-4 text-center\">\n",
      "<a href=\"/practice/4/\"><img class=\"img-responsive center-block\" src=\"/media/practice/images.jpeg\" title=\"Localization Data for Person Activity\"/></a>\n",
      "<a href=\"/practice/4/\"><p class=\"text-muted\">Localization Data for Person Activity</p></a>\n",
      "</div>\n",
      "<div class=\"col-sm-4\">\n",
      "<ul>\n",
      "<li class=\"text-muted\"> Source: UCI Data Set </li>\n",
      "<li class=\"text-muted\"> Expert Area: Classification </li>\n",
      "<li class=\"text-muted\"> Data Type: Real </li>\n",
      "<li class=\"text-muted\"> Rows: 164860 </li>\n",
      "<li class=\"text-muted\"> Attributes: 8 </li>\n",
      "<li class=\"text-muted\"> Metric: AUC </li>\n",
      "</ul>\n",
      "</div>\n",
      "<div class=\"col-sm-4\">\n",
      "<a class=\"btn btn-primary\" href=\"/practice/4/\" role=\"button\">Practice Now</a>\n",
      "</div>\n",
      "</div>\n",
      "<div class=\"praticess\">\n",
      "<div class=\"col-sm-4 text-center\">\n",
      "<a href=\"/practice/5/\"><img class=\"img-responsive center-block\" src=\"/media/practice/21ELECTRICITY_2.jpg\" title=\"Tamilnadu Electricity Board\"/></a>\n",
      "<a href=\"/practice/5/\"><p class=\"text-muted\">Tamilnadu Electricity Board</p></a>\n",
      "</div>\n",
      "<div class=\"col-sm-4\">\n",
      "<ul>\n",
      "<li class=\"text-muted\"> Source: UCI Data Set </li>\n",
      "<li class=\"text-muted\"> Expert Area: Classification, Clustering, Regression </li>\n",
      "<li class=\"text-muted\"> Data Type: Real </li>\n",
      "<li class=\"text-muted\"> Rows: 45781 </li>\n",
      "<li class=\"text-muted\"> Attributes: 5 </li>\n",
      "<li class=\"text-muted\"> Metric: AUC </li>\n",
      "</ul>\n",
      "</div>\n",
      "<div class=\"col-sm-4\">\n",
      "<a class=\"btn btn-primary\" href=\"/practice/5/\" role=\"button\">Practice Now</a>\n",
      "</div>\n",
      "</div>\n",
      "<div class=\"praticess\">\n",
      "<div class=\"col-sm-4 text-center\">\n",
      "<a href=\"/practice/7/\"><img class=\"img-responsive center-block\" src=\"/media/practice/kegg_undirected.png\" title=\"KEGG Metabolic Reaction Network (Undirected)\"/></a>\n",
      "<a href=\"/practice/7/\"><p class=\"text-muted\">KEGG Metabolic Reaction Network (Undirected)</p></a>\n",
      "</div>\n",
      "<div class=\"col-sm-4\">\n",
      "<ul>\n",
      "<li class=\"text-muted\"> Source: UCI Data Set </li>\n",
      "<li class=\"text-muted\"> Expert Area: Classification, Clustering, Regression </li>\n",
      "<li class=\"text-muted\"> Data Type: Integer, Real </li>\n",
      "<li class=\"text-muted\"> Rows: 65554 </li>\n",
      "<li class=\"text-muted\"> Attributes: 29 </li>\n",
      "<li class=\"text-muted\"> Metric: AUC </li>\n",
      "</ul>\n",
      "</div>\n",
      "<div class=\"col-sm-4\">\n",
      "<a class=\"btn btn-primary\" href=\"/practice/7/\" role=\"button\">Practice Now</a>\n",
      "</div>\n",
      "</div>\n",
      "<div class=\"praticess\">\n",
      "<div class=\"col-sm-4 text-center\">\n",
      "<a href=\"/practice/8/\"><img class=\"img-responsive center-block\" src=\"/media/practice/food_wine1stellaarticle.jpg\" title=\"Wine Data Set\"/></a>\n",
      "<a href=\"/practice/8/\"><p class=\"text-muted\">Wine Data Set</p></a>\n",
      "</div>\n",
      "<div class=\"col-sm-4\">\n",
      "<ul>\n",
      "<li class=\"text-muted\"> Source: UCI Data Set </li>\n",
      "<li class=\"text-muted\"> Expert Area: Classification </li>\n",
      "<li class=\"text-muted\"> Data Type: Integer, Real </li>\n",
      "<li class=\"text-muted\"> Rows: 178 </li>\n",
      "<li class=\"text-muted\"> Attributes: 13 </li>\n",
      "<li class=\"text-muted\"> Metric: AUC </li>\n",
      "</ul>\n",
      "</div>\n",
      "<div class=\"col-sm-4\">\n",
      "<a class=\"btn btn-primary\" href=\"/practice/8/\" role=\"button\">Practice Now</a>\n",
      "</div>\n",
      "</div>\n",
      "<div class=\"praticess\">\n",
      "<div class=\"col-sm-4 text-center\">\n",
      "<a href=\"/practice/9/\"><img class=\"img-responsive center-block\" src=\"/media/practice/steel_annealing.png\" title=\"Annealing\"/></a>\n",
      "<a href=\"/practice/9/\"><p class=\"text-muted\">Annealing</p></a>\n",
      "</div>\n",
      "<div class=\"col-sm-4\">\n",
      "<ul>\n",
      "<li class=\"text-muted\"> Source: UCI Data Set </li>\n",
      "<li class=\"text-muted\"> Expert Area: Classification </li>\n",
      "<li class=\"text-muted\"> Data Type: Integer, Categorical, Real </li>\n",
      "<li class=\"text-muted\"> Rows: 798 </li>\n",
      "<li class=\"text-muted\"> Attributes: 38 </li>\n",
      "<li class=\"text-muted\"> Metric:  </li>\n",
      "</ul>\n",
      "</div>\n",
      "<div class=\"col-sm-4\">\n",
      "<a class=\"btn btn-primary\" href=\"/practice/9/\" role=\"button\">Practice Now</a>\n",
      "</div>\n",
      "</div>\n",
      "<div class=\"praticess\">\n",
      "<div class=\"col-sm-4 text-center\">\n",
      "<a href=\"/practice/10/\"><img class=\"img-responsive center-block\" src=\"/media/practice/adult_data_set.jpg\" title=\"Adult Income Data Set\"/></a>\n",
      "<a href=\"/practice/10/\"><p class=\"text-muted\">Adult Income Data Set</p></a>\n",
      "</div>\n",
      "<div class=\"col-sm-4\">\n",
      "<ul>\n",
      "<li class=\"text-muted\"> Source: UCI Data Set </li>\n",
      "<li class=\"text-muted\"> Expert Area: Classification </li>\n",
      "<li class=\"text-muted\"> Data Type: Integer, Categorical </li>\n",
      "<li class=\"text-muted\"> Rows: 48842 </li>\n",
      "<li class=\"text-muted\"> Attributes: 14 </li>\n",
      "<li class=\"text-muted\"> Metric: AUC </li>\n",
      "</ul>\n",
      "</div>\n",
      "<div class=\"col-sm-4\">\n",
      "<a class=\"btn btn-primary\" href=\"/practice/10/\" role=\"button\">Practice Now</a>\n",
      "</div>\n",
      "</div>\n",
      "<div class=\"praticess\">\n",
      "<div class=\"col-sm-4 text-center\">\n",
      "<a href=\"/practice/11/\"><img class=\"img-responsive center-block\" src=\"/media/practice/Large19.jpg\" title=\"Car Evaluation\"/></a>\n",
      "<a href=\"/practice/11/\"><p class=\"text-muted\">Car Evaluation</p></a>\n",
      "</div>\n",
      "<div class=\"col-sm-4\">\n",
      "<ul>\n",
      "<li class=\"text-muted\"> Source: UCI Data Set </li>\n",
      "<li class=\"text-muted\"> Expert Area: Classification </li>\n",
      "<li class=\"text-muted\"> Data Type: Categorical </li>\n",
      "<li class=\"text-muted\"> Rows: 1728 </li>\n",
      "<li class=\"text-muted\"> Attributes: 6 </li>\n",
      "<li class=\"text-muted\"> Metric: AUC </li>\n",
      "</ul>\n",
      "</div>\n",
      "<div class=\"col-sm-4\">\n",
      "<a class=\"btn btn-primary\" href=\"/practice/11/\" role=\"button\">Practice Now</a>\n",
      "</div>\n",
      "</div>\n",
      "</div>\n",
      "<div class=\"row\">\n",
      "<ul class=\"pagination\">\n",
      "<li class=\"prev disabled\">\n",
      "<a href=\"#\">«</a>\n",
      "</li>\n",
      "<li class=\"active\">\n",
      "<a href=\"#\">1</a>\n",
      "</li>\n",
      "<li>\n",
      "<a href=\"?page=2\">2</a>\n",
      "</li>\n",
      "<li class=\"last\">\n",
      "<a href=\"?page=2\">»</a>\n",
      "</li>\n",
      "</ul>\n",
      "</div>\n",
      "</div>\n",
      "<div class=\"col-sm-3 col-sx-12 text-muted\">\n",
      "<link href=\"/static/css/slick/slick.css\" rel=\"stylesheet\" type=\"text/css\"/>\n",
      "<link href=\"/static/css/slick/slick-theme.css\" rel=\"stylesheet\" type=\"text/css\"/>\n",
      "<style type=\"text/css\">\n",
      "    html, body {\n",
      "      margin: 0;\n",
      "      padding: 0;\n",
      "    }\n",
      "    * {\n",
      "      box-sizing: border-box;\n",
      "    }\n",
      "</style>\n",
      "<div class=\"experts panel\">\n",
      "<h5 class=\"panel-title\">Learn with our experts :</h5>\n",
      "<section class=\"vertical\">\n",
      "<div class=\"media\">\n",
      "<div class=\"media-left media-img\">\n",
      "<a href=\"/profile/4/\">\n",
      "<img class=\"img-responsive\" src=\"/media/practice/character_aladdin_aladdin_fb60afd2.jpeg\" style=\"max-width:50px;\"/>\n",
      "</a>\n",
      "</div>\n",
      "<div class=\" media-body student-info\">\n",
      "<a class=\"text-capitalize text-muted\" href=\"/profile/4/\">\n",
      "<strong>John Doe</strong>\n",
      "</a>\n",
      "<div class=\"text-xs\"></div>\n",
      "<div class=\"rating\">\n",
      "<span class=\"glyphicon glyphicon-star-empty color-gold\"></span>\n",
      "<span class=\"glyphicon glyphicon-star-empty color-gold\"></span>\n",
      "<span class=\"glyphicon glyphicon-star-empty color-gold\"></span>\n",
      "<span class=\"glyphicon glyphicon-star-empty color-gold\"></span>\n",
      "<span class=\"glyphicon glyphicon-star-empty color-gold\"></span>\n",
      "</div>\n",
      "<div class=\"extra-links\">\n",
      "<a class=\"text-muted\" href=\"/messages/write/super/\">\n",
      "<span class=\"glyphicon glyphicon-envelope\"></span>\n",
      "</a>\n",
      "<a class=\"text-muted\" href=\"/course/1/\">\n",
      "<span class=\"glyphicon glyphicon-calendar\"></span>\n",
      "</a>\n",
      "</div>\n",
      "</div>\n",
      "</div>\n",
      "<div class=\"media\">\n",
      "<div class=\"media-left media-img\">\n",
      "<a href=\"/profile/10/\">\n",
      "<img class=\"img-responsive\" src=\"/static/img/user.png\" style=\"max-width:50px;\"/>\n",
      "</a>\n",
      "</div>\n",
      "<div class=\" media-body student-info\">\n",
      "<a class=\"text-capitalize text-muted\" href=\"/profile/10/\">\n",
      "<strong>uday naik</strong>\n",
      "</a>\n",
      "<div class=\"text-xs\"></div>\n",
      "<div class=\"rating\">\n",
      "<span class=\"glyphicon glyphicon-star-empty color-gold\"></span>\n",
      "<span class=\"glyphicon glyphicon-star-empty color-gold\"></span>\n",
      "<span class=\"glyphicon glyphicon-star-empty color-gold\"></span>\n",
      "<span class=\"glyphicon glyphicon-star-empty color-gold\"></span>\n",
      "<span class=\"glyphicon glyphicon-star-empty color-gold\"></span>\n",
      "</div>\n",
      "<div class=\"extra-links\">\n",
      "<a class=\"text-muted\" href=\"/messages/write/uday/\">\n",
      "<span class=\"glyphicon glyphicon-envelope\"></span>\n",
      "</a>\n",
      "</div>\n",
      "</div>\n",
      "</div>\n",
      "<div class=\"media\">\n",
      "<div class=\"media-left media-img\">\n",
      "<a href=\"/profile/57/\">\n",
      "<img class=\"img-responsive\" src=\"/media/practice/pic_painting_taposh.jpeg\" style=\"max-width:50px;\"/>\n",
      "</a>\n",
      "</div>\n",
      "<div class=\" media-body student-info\">\n",
      "<a class=\"text-capitalize text-muted\" href=\"/profile/57/\">\n",
      "<strong>Taposh Roy</strong>\n",
      "</a>\n",
      "<div class=\"text-xs\"></div>\n",
      "<div class=\"rating\">\n",
      "<span class=\"glyphicon glyphicon-star-empty color-gold\"></span>\n",
      "<span class=\"glyphicon glyphicon-star-empty color-gold\"></span>\n",
      "<span class=\"glyphicon glyphicon-star-empty color-gold\"></span>\n",
      "<span class=\"glyphicon glyphicon-star-empty color-gold\"></span>\n",
      "<span class=\"glyphicon glyphicon-star-empty color-gold\"></span>\n",
      "</div>\n",
      "<div class=\"extra-links\">\n",
      "<a class=\"text-muted\" href=\"/messages/write/taposhdr/\">\n",
      "<span class=\"glyphicon glyphicon-envelope\"></span>\n",
      "</a>\n",
      "</div>\n",
      "</div>\n",
      "</div>\n",
      "<div class=\"media\">\n",
      "<div class=\"media-left media-img\">\n",
      "<a href=\"/profile/59/\">\n",
      "<img class=\"img-responsive\" src=\"/static/img/user.png\" style=\"max-width:50px;\"/>\n",
      "</a>\n",
      "</div>\n",
      "<div class=\" media-body student-info\">\n",
      "<a class=\"text-capitalize text-muted\" href=\"/profile/59/\">\n",
      "<strong>Jayant Shekhar</strong>\n",
      "</a>\n",
      "<div class=\"text-xs\"></div>\n",
      "<div class=\"rating\">\n",
      "<span class=\"glyphicon glyphicon-star-empty color-gold\"></span>\n",
      "<span class=\"glyphicon glyphicon-star-empty color-gold\"></span>\n",
      "<span class=\"glyphicon glyphicon-star-empty color-gold\"></span>\n",
      "<span class=\"glyphicon glyphicon-star-empty color-gold\"></span>\n",
      "<span class=\"glyphicon glyphicon-star-empty color-gold\"></span>\n",
      "</div>\n",
      "<div class=\"extra-links\">\n",
      "<a class=\"text-muted\" href=\"/messages/write/jayant/\">\n",
      "<span class=\"glyphicon glyphicon-envelope\"></span>\n",
      "</a>\n",
      "</div>\n",
      "</div>\n",
      "</div>\n",
      "<div class=\"media\">\n",
      "<div class=\"media-left media-img\">\n",
      "<a href=\"/profile/60/\">\n",
      "<img class=\"img-responsive\" src=\"/static/img/user.png\" style=\"max-width:50px;\"/>\n",
      "</a>\n",
      "</div>\n",
      "<div class=\" media-body student-info\">\n",
      "<a class=\"text-capitalize text-muted\" href=\"/profile/60/\">\n",
      "<strong>nikhil shekhar</strong>\n",
      "</a>\n",
      "<div class=\"text-xs\"></div>\n",
      "<div class=\"rating\">\n",
      "<span class=\"glyphicon glyphicon-star-empty color-gold\"></span>\n",
      "<span class=\"glyphicon glyphicon-star-empty color-gold\"></span>\n",
      "<span class=\"glyphicon glyphicon-star-empty color-gold\"></span>\n",
      "<span class=\"glyphicon glyphicon-star-empty color-gold\"></span>\n",
      "<span class=\"glyphicon glyphicon-star-empty color-gold\"></span>\n",
      "</div>\n",
      "<div class=\"extra-links\">\n",
      "<a class=\"text-muted\" href=\"/messages/write/nikhil/\">\n",
      "<span class=\"glyphicon glyphicon-envelope\"></span>\n",
      "</a>\n",
      "</div>\n",
      "</div>\n",
      "</div>\n",
      "<div class=\"media\">\n",
      "<div class=\"media-left media-img\">\n",
      "<a href=\"/profile/62/\">\n",
      "<img class=\"img-responsive\" src=\"/static/img/user.png\" style=\"max-width:50px;\"/>\n",
      "</a>\n",
      "</div>\n",
      "<div class=\" media-body student-info\">\n",
      "<a class=\"text-capitalize text-muted\" href=\"/profile/62/\">\n",
      "<strong>Hari Kaushik</strong>\n",
      "</a>\n",
      "<div class=\"text-xs\"></div>\n",
      "<div class=\"rating\">\n",
      "<span class=\"glyphicon glyphicon-star-empty color-gold\"></span>\n",
      "<span class=\"glyphicon glyphicon-star-empty color-gold\"></span>\n",
      "<span class=\"glyphicon glyphicon-star-empty color-gold\"></span>\n",
      "<span class=\"glyphicon glyphicon-star-empty color-gold\"></span>\n",
      "<span class=\"glyphicon glyphicon-star-empty color-gold\"></span>\n",
      "</div>\n",
      "<div class=\"extra-links\">\n",
      "<a class=\"text-muted\" href=\"/messages/write/harikaushik/\">\n",
      "<span class=\"glyphicon glyphicon-envelope\"></span>\n",
      "</a>\n",
      "</div>\n",
      "</div>\n",
      "</div>\n",
      "<div class=\"media\">\n",
      "<div class=\"media-left media-img\">\n",
      "<a href=\"/profile/65/\">\n",
      "<img class=\"img-responsive\" src=\"/static/img/user.png\" style=\"max-width:50px;\"/>\n",
      "</a>\n",
      "</div>\n",
      "<div class=\" media-body student-info\">\n",
      "<a class=\"text-capitalize text-muted\" href=\"/profile/65/\">\n",
      "<strong>yaseen hussain</strong>\n",
      "</a>\n",
      "<div class=\"text-xs\"></div>\n",
      "<div class=\"rating\">\n",
      "<span class=\"glyphicon glyphicon-star-empty color-gold\"></span>\n",
      "<span class=\"glyphicon glyphicon-star-empty color-gold\"></span>\n",
      "<span class=\"glyphicon glyphicon-star-empty color-gold\"></span>\n",
      "<span class=\"glyphicon glyphicon-star-empty color-gold\"></span>\n",
      "<span class=\"glyphicon glyphicon-star-empty color-gold\"></span>\n",
      "</div>\n",
      "<div class=\"extra-links\">\n",
      "<a class=\"text-muted\" href=\"/messages/write/yaseen/\">\n",
      "<span class=\"glyphicon glyphicon-envelope\"></span>\n",
      "</a>\n",
      "</div>\n",
      "</div>\n",
      "</div>\n",
      "<div class=\"media\">\n",
      "<div class=\"media-left media-img\">\n",
      "<a href=\"/profile/67/\">\n",
      "<img class=\"img-responsive\" src=\"/static/img/user.png\" style=\"max-width:50px;\"/>\n",
      "</a>\n",
      "</div>\n",
      "<div class=\" media-body student-info\">\n",
      "<a class=\"text-capitalize text-muted\" href=\"/profile/67/\">\n",
      "<strong>Josenildo da Silva</strong>\n",
      "</a>\n",
      "<div class=\"text-xs\"></div>\n",
      "<div class=\"rating\">\n",
      "<span class=\"glyphicon glyphicon-star-empty color-gold\"></span>\n",
      "<span class=\"glyphicon glyphicon-star-empty color-gold\"></span>\n",
      "<span class=\"glyphicon glyphicon-star-empty color-gold\"></span>\n",
      "<span class=\"glyphicon glyphicon-star-empty color-gold\"></span>\n",
      "<span class=\"glyphicon glyphicon-star-empty color-gold\"></span>\n",
      "</div>\n",
      "<div class=\"extra-links\">\n",
      "<a class=\"text-muted\" href=\"/messages/write/jcsilva/\">\n",
      "<span class=\"glyphicon glyphicon-envelope\"></span>\n",
      "</a>\n",
      "</div>\n",
      "</div>\n",
      "</div>\n",
      "</section>\n",
      "</div>\n",
      "<script src=\"/static/js/slick/slick.js\" type=\"text/javascript\"></script>\n",
      "<script type=\"text/javascript\">\n",
      "    $(document).ready(function() {\n",
      "       \n",
      "        $(\".vertical\").slick({\n",
      "            autoplay: false,\n",
      "            autoplaySpeed: 3000,\n",
      "            infinite: false,\n",
      "            slidesToShow: 5,\n",
      "            slidesToScroll: 5,\n",
      "            vertical: true,\n",
      "            verticalSwiping: true,\n",
      "            prevArrow: \"<div><button type='button' class='btn-slicker center-block glyphicon glyphicon-chevron-up' ></button></div>\",\n",
      "            nextArrow: \"<div><button type='button' class='btn-slicker center-block glyphicon glyphicon-chevron-down'></button></div\",\n",
      "            \n",
      "        });\n",
      "    });\n",
      "  </script>\n",
      "</div>\n",
      "</div>\n",
      "</div>\n",
      "</section>\n",
      "<section class=\"mbr-footer mbr-section mbr-section-md-padding\" id=\"contacts3-0\" style=\"background-color: rgb(46, 46, 46); padding-top: 90px; padding-bottom: 90px;\">\n",
      "<div class=\"row\">\n",
      "<div class=\"mbr-company col-xs-12 col-md-6 col-lg-3\">\n",
      "<div class=\"mbr-company card\">\n",
      "<div>\n",
      "<a href=\"#top\"><img alt=\"Arithmetica.io\" class=\"card-img-top\" src=\"/static/assets/images/logo-265x179-20.png\"/></a>\n",
      "</div>\n",
      "<div class=\"card-block\">\n",
      "<p class=\"card-text\">At Arithmetica we value math and data. We provide an ability to practice and learn datascience.</p>\n",
      "</div>\n",
      "<ul class=\"list-group list-group-flush\">\n",
      "<li class=\"list-group-item\">\n",
      "<span class=\"list-group-icon\"><span class=\"etl-icon icon-phone mbr-iconfont-company-contacts3\"></span></span>\n",
      "<span class=\"list-group-text\">+1  (843) 882-7674 </span>\n",
      "</li>\n",
      "<li class=\"list-group-item\">\n",
      "<span class=\"list-group-icon\"><span class=\"etl-icon icon-map-pin mbr-iconfont-company-contacts3\"></span></span>\n",
      "<span class=\"list-group-text\"> Dublin, CA</span>\n",
      "</li>\n",
      "<li class=\"list-group-item active\">\n",
      "<span class=\"list-group-icon\"><span class=\"etl-icon icon-envelope mbr-iconfont-company-contacts3\"></span></span>\n",
      "<span class=\"list-group-text\"><p><a href=\"mailto:info@arithmetica.io\">info@arithmetica.io</a><a href=\"mailto:info@arithmetica.io\"></a></p></span>\n",
      "</li>\n",
      "</ul>\n",
      "</div>\n",
      "</div>\n",
      "<div class=\"mbr-footer-content col-xs-12 col-md-6 col-lg-3\">\n",
      "<h4>Legal</h4>\n",
      "<ul>\n",
      "<li><a href=\"/static/html/aboutus.html\" target=\"_blank\">About us</a>\n",
      "<a class=\"text-white\" href=\"#\"></a>\n",
      "</li>\n",
      "<li><a href=\"/static/html/privacy.html\" target=\"_blank\">Privacy Policy</a>\n",
      "<a class=\"text-white\" href=\"#\"></a>\n",
      "</li>\n",
      "<li><a href=\"/static/html/terms.html\" target=\"_blank\">Terms of use</a>\n",
      "<a class=\"text-white\" href=\"#\"></a>\n",
      "</li>\n",
      "<li><a href=\"/static/html/enterprise.html\" target=\"_blank\">Enterprise Customers</a>\n",
      "<a class=\"text-white\" href=\"#\"></a>\n",
      "</li>\n",
      "<br/>\n",
      "</ul>\n",
      "</div>\n",
      "<div class=\"mbr-footer-content col-xs-12 col-md-6 col-lg-3\">\n",
      "<p><strong>Contacts</strong>\n",
      "<br/>Email: info@arithmetica.io\n",
      "                    <br/>Phone: +1 (843) 882-7674\n",
      "                    <br/>Fax: +1 (843) 882-7674\n",
      "                    <br/>\n",
      "<br/>\n",
      "<br/>\n",
      "<br/>\n",
      "<br/>\n",
      "</p>\n",
      "</div>\n",
      "<!--  <div class=\"col-xs-12 col-md-6 col-lg-3\" data-form-type=\"formoid\">\n",
      "                <div data-form-alert=\"true\">\n",
      "                    <div hidden=\"\" data-form-alert-success=\"true\">Thanks for filling out form!</div>\n",
      "                </div>\n",
      "                <form action=\"https://mobirise.com/\" method=\"post\" data-form-title=\"MESSAGE\">\n",
      "                    <input type=\"hidden\" value=\"duGYqHsjpr6VHElpC6bUzOqPPFawcqAATdwDaDf/x2kVAGWYSJJljVKWK+6/PTFk+YFDEPtCmxCrKQCByIJIkiyBqmKqE+P/8Gb0+EffShuwNdv4pe9f2AUUEJ07pUXo\" data-form-email=\"true\">\n",
      "                    <div class=\"form-group\">\n",
      "                        <label class=\"form-control-label\" for=\"contacts3-0-email\">Email<span class=\"form-asterisk\">*</span></label>\n",
      "                        <input type=\"email\" class=\"form-control input-sm input-inverse\" name=\"email\" required=\"\" data-form-field=\"Email\" id=\"contacts3-0-email\">\n",
      "                    </div>\n",
      "                    <div class=\"form-group\">\n",
      "                        <label class=\"form-control-label\" for=\"contacts3-0-message\">Message</label>\n",
      "                        <textarea class=\"form-control input-sm input-inverse\" name=\"message\" data-form-field=\"Message\" rows=\"5\" id=\"contacts3-0-message\"></textarea>\n",
      "                    </div>\n",
      "                    <div>\n",
      "                        <button type=\"submit\" class=\"btn btn-sm btn-black\">Contact us</button>\n",
      "                    </div>\n",
      "                </form>\n",
      "            </div>-->\n",
      "</div>\n",
      "</section>\n",
      "<!-- <script src=\"https://code.jquery.com/jquery-2.2.0.min.js\"></script> -->\n",
      "<!-- <script src=\"/static/assets/tether/tether.min.js\"></script> -->\n",
      "<script src=\"/static/js/bootstrap.min.js\"></script>\n",
      "<!-- <script src=\"/static/assets/smooth-scroll/SmoothScroll.js\"></script> -->\n",
      "<!-- <script src=\"/static/assets/viewportChecker/jquery.viewportchecker.js\"></script> -->\n",
      "<!-- <script src=\"/static/assets/jarallax/jarallax.js\"></script> -->\n",
      "<script src=\"/static/assets/dropdown/js/script.min.js\"></script>\n",
      "<!-- <script src=\"/static/assets/touchSwipe/jquery.touchSwipe.min.js\"></script> -->\n",
      "<!-- <script src=\"/static/assets/theme/js/script.js\"></script> -->\n",
      "<!-- <script src=\"/static/assets/formoid/formoid.min.js\"></script> -->\n",
      "<!-- <input name=\"animation\" type=\"hidden\"> -->\n",
      "<!-- Google Analytics -Arithmetica.io -->\n",
      "<script>\n",
      "  (function(i,s,o,g,r,a,m){i['GoogleAnalyticsObject']=r;i[r]=i[r]||function(){\n",
      "  (i[r].q=i[r].q||[]).push(arguments)},i[r].l=1*new Date();a=s.createElement(o),\n",
      "  m=s.getElementsByTagName(o)[0];a.async=1;a.src=g;m.parentNode.insertBefore(a,m)\n",
      "  })(window,document,'script','https://www.google-analytics.com/analytics.js','ga');\n",
      "\n",
      "  ga('create', 'UA-84198603-1', 'auto');\n",
      "  ga('send', 'pageview');\n",
      "\n",
      "</script>\n",
      "<!--Start orange-->\n",
      "<script type=\"text/javascript\">\n",
      "window.__lo_site_id = 87113;\n",
      "\n",
      "\t(function() {\n",
      "\t\tvar wa = document.createElement('script'); wa.type = 'text/javascript'; wa.async = true;\n",
      "\t\twa.src = 'https://d10lpsik1i8c69.cloudfront.net/w.js';\n",
      "\t\tvar s = document.getElementsByTagName('script')[0]; s.parentNode.insertBefore(wa, s);\n",
      "\t  })();\n",
      "\t</script>\n",
      "<!--End Orange-->\n",
      "<script language=\"JavaScript\">\n",
      "function getCode(code){\n",
      "    $(\"#code-\"+code).toggle();\n",
      "}\n",
      "$('select.form-control').change(function(e){\n",
      "    var reload = 0 || 0 || 0\n",
      "    var query_string = ''\n",
      "    $('select.form-control').each(function(e){\n",
      "        console.log($(this).attr('name') + \"=\" + $(this).val());\n",
      "        if ($(this).val()){\n",
      "            query_string +=  $(this).attr('name') + \"=\" + $(this).val() + \"&\";\n",
      "        }\n",
      "    })\n",
      "    console.log(query_string)\n",
      "    if (query_string || reload){\n",
      "        location.href= \"?\" + query_string;\n",
      "    }\n",
      "})\n",
      "</script>\n",
      "<script type=\"text/javascript\">\n",
      "        $('.navbar').removeClass('transparent');\n",
      "    </script>\n",
      "</body>\n",
      "</html>\n",
      "\n"
     ]
    },
    {
     "name": "stderr",
     "output_type": "stream",
     "text": [
      "/Users/taposh/anaconda/lib/python3.5/site-packages/bs4/__init__.py:181: UserWarning: No parser was explicitly specified, so I'm using the best available HTML parser for this system (\"lxml\"). This usually isn't a problem, but if you run this code on another system, or in a different virtual environment, it may use a different parser and behave differently.\n",
      "\n",
      "The code that caused this warning is on line 184 of the file /Users/taposh/anaconda/lib/python3.5/runpy.py. To get rid of this warning, change code that looks like this:\n",
      "\n",
      " BeautifulSoup([your markup])\n",
      "\n",
      "to this:\n",
      "\n",
      " BeautifulSoup([your markup], \"lxml\")\n",
      "\n",
      "  markup_type=markup_type))\n"
     ]
    }
   ],
   "source": [
    "soup = BeautifulSoup(resulttext)\n",
    "print(soup)"
   ]
  },
  {
   "cell_type": "code",
   "execution_count": 376,
   "metadata": {
    "collapsed": false
   },
   "outputs": [
    {
     "name": "stdout",
     "output_type": "stream",
     "text": [
      "<title>Arithmetica.io</title>\n"
     ]
    }
   ],
   "source": [
    "#Find the title Tag\n",
    "titleTag = soup.html.head.title\n",
    "print(titleTag)"
   ]
  },
  {
   "cell_type": "code",
   "execution_count": 377,
   "metadata": {
    "collapsed": false
   },
   "outputs": [],
   "source": [
    "# Find the names of the competitions\n",
    "mylist=[]\n",
    "for a in soup.findAll('p', {'class': 'text-muted'}):\n",
    "    if len(a.getText())>0:        \n",
    "        mylist.append(a.getText())"
   ]
  },
  {
   "cell_type": "code",
   "execution_count": 378,
   "metadata": {
    "collapsed": false
   },
   "outputs": [
    {
     "data": {
      "text/plain": [
       "['Covertype',\n",
       " 'Diabetes 130-US hospitals for years 1999-2008',\n",
       " 'Abalone',\n",
       " 'Localization Data for Person Activity',\n",
       " 'Tamilnadu Electricity Board',\n",
       " 'KEGG Metabolic Reaction Network (Undirected)',\n",
       " 'Wine Data Set',\n",
       " 'Annealing',\n",
       " 'Adult Income Data Set',\n",
       " 'Car Evaluation']"
      ]
     },
     "execution_count": 378,
     "metadata": {},
     "output_type": "execute_result"
    }
   ],
   "source": [
    "mylist"
   ]
  },
  {
   "cell_type": "code",
   "execution_count": 379,
   "metadata": {
    "collapsed": true
   },
   "outputs": [],
   "source": [
    "df = pd.DataFrame({\"Names\":mylist})"
   ]
  },
  {
   "cell_type": "code",
   "execution_count": 380,
   "metadata": {
    "collapsed": false
   },
   "outputs": [
    {
     "data": {
      "text/html": [
       "<div>\n",
       "<style>\n",
       "    .dataframe thead tr:only-child th {\n",
       "        text-align: right;\n",
       "    }\n",
       "\n",
       "    .dataframe thead th {\n",
       "        text-align: left;\n",
       "    }\n",
       "\n",
       "    .dataframe tbody tr th {\n",
       "        vertical-align: top;\n",
       "    }\n",
       "</style>\n",
       "<table border=\"1\" class=\"dataframe\">\n",
       "  <thead>\n",
       "    <tr style=\"text-align: right;\">\n",
       "      <th></th>\n",
       "      <th>Names</th>\n",
       "    </tr>\n",
       "  </thead>\n",
       "  <tbody>\n",
       "    <tr>\n",
       "      <th>0</th>\n",
       "      <td>Covertype</td>\n",
       "    </tr>\n",
       "    <tr>\n",
       "      <th>1</th>\n",
       "      <td>Diabetes 130-US hospitals for years 1999-2008</td>\n",
       "    </tr>\n",
       "    <tr>\n",
       "      <th>2</th>\n",
       "      <td>Abalone</td>\n",
       "    </tr>\n",
       "    <tr>\n",
       "      <th>3</th>\n",
       "      <td>Localization Data for Person Activity</td>\n",
       "    </tr>\n",
       "    <tr>\n",
       "      <th>4</th>\n",
       "      <td>Tamilnadu Electricity Board</td>\n",
       "    </tr>\n",
       "    <tr>\n",
       "      <th>5</th>\n",
       "      <td>KEGG Metabolic Reaction Network (Undirected)</td>\n",
       "    </tr>\n",
       "    <tr>\n",
       "      <th>6</th>\n",
       "      <td>Wine Data Set</td>\n",
       "    </tr>\n",
       "    <tr>\n",
       "      <th>7</th>\n",
       "      <td>Annealing</td>\n",
       "    </tr>\n",
       "    <tr>\n",
       "      <th>8</th>\n",
       "      <td>Adult Income Data Set</td>\n",
       "    </tr>\n",
       "    <tr>\n",
       "      <th>9</th>\n",
       "      <td>Car Evaluation</td>\n",
       "    </tr>\n",
       "  </tbody>\n",
       "</table>\n",
       "</div>"
      ],
      "text/plain": [
       "                                           Names\n",
       "0                                      Covertype\n",
       "1  Diabetes 130-US hospitals for years 1999-2008\n",
       "2                                        Abalone\n",
       "3          Localization Data for Person Activity\n",
       "4                    Tamilnadu Electricity Board\n",
       "5   KEGG Metabolic Reaction Network (Undirected)\n",
       "6                                  Wine Data Set\n",
       "7                                      Annealing\n",
       "8                          Adult Income Data Set\n",
       "9                                 Car Evaluation"
      ]
     },
     "execution_count": 380,
     "metadata": {},
     "output_type": "execute_result"
    }
   ],
   "source": [
    "df"
   ]
  },
  {
   "cell_type": "code",
   "execution_count": null,
   "metadata": {
    "collapsed": true
   },
   "outputs": [],
   "source": []
  }
 ],
 "metadata": {
  "anaconda-cloud": {},
  "hide_input": false,
  "kernelspec": {
   "display_name": "Python [conda root]",
   "language": "python",
   "name": "conda-root-py"
  },
  "language_info": {
   "codemirror_mode": {
    "name": "ipython",
    "version": 3
   },
   "file_extension": ".py",
   "mimetype": "text/x-python",
   "name": "python",
   "nbconvert_exporter": "python",
   "pygments_lexer": "ipython3",
   "version": "3.5.2"
  },
  "toc": {
   "colors": {
    "hover_highlight": "#DAA520",
    "running_highlight": "#FF0000",
    "selected_highlight": "#FFD700"
   },
   "moveMenuLeft": true,
   "nav_menu": {
    "height": "66px",
    "width": "252px"
   },
   "navigate_menu": true,
   "number_sections": true,
   "sideBar": true,
   "threshold": 4,
   "toc_cell": false,
   "toc_position": {
    "height": "685px",
    "left": "0px",
    "right": "1606px",
    "top": "106px",
    "width": "465px"
   },
   "toc_section_display": "none",
   "toc_window_display": false
  }
 },
 "nbformat": 4,
 "nbformat_minor": 2
}
