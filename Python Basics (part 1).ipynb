{
 "cells": [
  {
   "cell_type": "markdown",
   "metadata": {
    "toc": "true"
   },
   "source": [
    "# Table of Contents\n",
    " <p><div class=\"lev1 toc-item\"><a href=\"#Python-Boot-Camp\" data-toc-modified-id=\"Python-Boot-Camp-1\"><span class=\"toc-item-num\">1&nbsp;&nbsp;</span>Python Boot Camp</a></div><div class=\"lev1 toc-item\"><a href=\"#Why-Python?\" data-toc-modified-id=\"Why-Python?-2\"><span class=\"toc-item-num\">2&nbsp;&nbsp;</span>Why Python?</a></div><div class=\"lev2 toc-item\"><a href=\"#Warm-up\" data-toc-modified-id=\"Warm-up-21\"><span class=\"toc-item-num\">2.1&nbsp;&nbsp;</span>Warm up</a></div><div class=\"lev1 toc-item\"><a href=\"#Python-Data-Types\" data-toc-modified-id=\"Python-Data-Types-3\"><span class=\"toc-item-num\">3&nbsp;&nbsp;</span>Python Data Types</a></div><div class=\"lev2 toc-item\"><a href=\"#String-Operations\" data-toc-modified-id=\"String-Operations-31\"><span class=\"toc-item-num\">3.1&nbsp;&nbsp;</span>String Operations</a></div><div class=\"lev2 toc-item\"><a href=\"#Sequence-Variables\" data-toc-modified-id=\"Sequence-Variables-32\"><span class=\"toc-item-num\">3.2&nbsp;&nbsp;</span>Sequence Variables</a></div><div class=\"lev3 toc-item\"><a href=\"#Sequence-Variables-:-List\" data-toc-modified-id=\"Sequence-Variables-:-List-321\"><span class=\"toc-item-num\">3.2.1&nbsp;&nbsp;</span>Sequence Variables : List</a></div><div class=\"lev3 toc-item\"><a href=\"#Sequence-Variables-:-Tuple\" data-toc-modified-id=\"Sequence-Variables-:-Tuple-322\"><span class=\"toc-item-num\">3.2.2&nbsp;&nbsp;</span>Sequence Variables : Tuple</a></div><div class=\"lev2 toc-item\"><a href=\"#Numeric-Operations\" data-toc-modified-id=\"Numeric-Operations-33\"><span class=\"toc-item-num\">3.3&nbsp;&nbsp;</span>Numeric Operations</a></div><div class=\"lev3 toc-item\"><a href=\"#Range\" data-toc-modified-id=\"Range-331\"><span class=\"toc-item-num\">3.3.1&nbsp;&nbsp;</span>Range</a></div><div class=\"lev3 toc-item\"><a href=\"#Math-Operations\" data-toc-modified-id=\"Math-Operations-332\"><span class=\"toc-item-num\">3.3.2&nbsp;&nbsp;</span>Math Operations</a></div><div class=\"lev3 toc-item\"><a href=\"#Statistics-Operations-(TODO)\" data-toc-modified-id=\"Statistics-Operations-(TODO)-333\"><span class=\"toc-item-num\">3.3.3&nbsp;&nbsp;</span>Statistics Operations (TODO)</a></div><div class=\"lev2 toc-item\"><a href=\"#Operations-Sequence\" data-toc-modified-id=\"Operations-Sequence-34\"><span class=\"toc-item-num\">3.4&nbsp;&nbsp;</span>Operations Sequence</a></div><div class=\"lev2 toc-item\"><a href=\"#Functions-&amp;-lambda\" data-toc-modified-id=\"Functions-&amp;-lambda-35\"><span class=\"toc-item-num\">3.5&nbsp;&nbsp;</span>Functions &amp; lambda</a></div><div class=\"lev3 toc-item\"><a href=\"#Functions\" data-toc-modified-id=\"Functions-351\"><span class=\"toc-item-num\">3.5.1&nbsp;&nbsp;</span>Functions</a></div><div class=\"lev3 toc-item\"><a href=\"#Lambda\" data-toc-modified-id=\"Lambda-352\"><span class=\"toc-item-num\">3.5.2&nbsp;&nbsp;</span>Lambda</a></div><div class=\"lev1 toc-item\"><a href=\"#File-Reading-and-Writing\" data-toc-modified-id=\"File-Reading-and-Writing-4\"><span class=\"toc-item-num\">4&nbsp;&nbsp;</span>File Reading and Writing</a></div><div class=\"lev2 toc-item\"><a href=\"#Reading-file-from-disc\" data-toc-modified-id=\"Reading-file-from-disc-41\"><span class=\"toc-item-num\">4.1&nbsp;&nbsp;</span>Reading file from disc</a></div><div class=\"lev2 toc-item\"><a href=\"#Reading-file-from-DB-(TODO)\" data-toc-modified-id=\"Reading-file-from-DB-(TODO)-42\"><span class=\"toc-item-num\">4.2&nbsp;&nbsp;</span>Reading file from DB (TODO)</a></div><div class=\"lev2 toc-item\"><a href=\"#Microsoft-Excel-(TODO)\" data-toc-modified-id=\"Microsoft-Excel-(TODO)-43\"><span class=\"toc-item-num\">4.3&nbsp;&nbsp;</span>Microsoft Excel (TODO)</a></div><div class=\"lev1 toc-item\"><a href=\"#Numpy,-Scipy-&amp;-Scikit-Learn-(TODO)\" data-toc-modified-id=\"Numpy,-Scipy-&amp;-Scikit-Learn-(TODO)-5\"><span class=\"toc-item-num\">5&nbsp;&nbsp;</span>Numpy, Scipy &amp; Scikit Learn (TODO)</a></div><div class=\"lev2 toc-item\"><a href=\"#Exercise-[-Work-In-progress]\" data-toc-modified-id=\"Exercise-[-Work-In-progress]-51\"><span class=\"toc-item-num\">5.1&nbsp;&nbsp;</span>Exercise [ Work In progress]</a></div><div class=\"lev3 toc-item\"><a href=\"#Reading-Sample-Code\" data-toc-modified-id=\"Reading-Sample-Code-511\"><span class=\"toc-item-num\">5.1.1&nbsp;&nbsp;</span>Reading Sample Code</a></div><div class=\"lev3 toc-item\"><a href=\"#Integration-Using-Numpy\" data-toc-modified-id=\"Integration-Using-Numpy-512\"><span class=\"toc-item-num\">5.1.2&nbsp;&nbsp;</span>Integration Using Numpy</a></div><div class=\"lev1 toc-item\"><a href=\"#Pandas\" data-toc-modified-id=\"Pandas-6\"><span class=\"toc-item-num\">6&nbsp;&nbsp;</span>Pandas</a></div><div class=\"lev3 toc-item\"><a href=\"#Series\" data-toc-modified-id=\"Series-601\"><span class=\"toc-item-num\">6.0.1&nbsp;&nbsp;</span>Series</a></div><div class=\"lev3 toc-item\"><a href=\"#Data-Frame\" data-toc-modified-id=\"Data-Frame-602\"><span class=\"toc-item-num\">6.0.2&nbsp;&nbsp;</span>Data Frame</a></div><div class=\"lev2 toc-item\"><a href=\"#Web-Scraping-using-Python\" data-toc-modified-id=\"Web-Scraping-using-Python-61\"><span class=\"toc-item-num\">6.1&nbsp;&nbsp;</span>Web Scraping using Python</a></div>"
   ]
  },
  {
   "cell_type": "markdown",
   "metadata": {},
   "source": [
    "# Python Boot Camp "
   ]
  },
  {
   "cell_type": "markdown",
   "metadata": {},
   "source": [
    "Introduction to Python By Taposh Dutta Roy"
   ]
  },
  {
   "cell_type": "markdown",
   "metadata": {},
   "source": [
    "# Why Python?"
   ]
  },
  {
   "cell_type": "markdown",
   "metadata": {},
   "source": [
    "<img src=\"kdn.png\" width=\"400\" align=\"left\">"
   ]
  },
  {
   "cell_type": "raw",
   "metadata": {},
   "source": [
    "http://www.kdnuggets.com/2017/06/top-15-python-libraries-data-science.html"
   ]
  },
  {
   "cell_type": "markdown",
   "metadata": {},
   "source": [
    "## Warm up"
   ]
  },
  {
   "cell_type": "code",
   "execution_count": null,
   "metadata": {
    "collapsed": true
   },
   "outputs": [],
   "source": [
    "# Python Basics"
   ]
  },
  {
   "cell_type": "markdown",
   "metadata": {},
   "source": [
    "Lets start with very basics, assign variables, simple multiplication,power, and complex numbers"
   ]
  },
  {
   "cell_type": "code",
   "execution_count": 18,
   "metadata": {
    "collapsed": false
   },
   "outputs": [
    {
     "data": {
      "text/plain": [
       "6"
      ]
     },
     "execution_count": 18,
     "metadata": {},
     "output_type": "execute_result"
    }
   ],
   "source": [
    "2*3"
   ]
  },
  {
   "cell_type": "code",
   "execution_count": 19,
   "metadata": {
    "collapsed": false
   },
   "outputs": [
    {
     "data": {
      "text/plain": [
       "6"
      ]
     },
     "execution_count": 19,
     "metadata": {},
     "output_type": "execute_result"
    }
   ],
   "source": [
    "##Store values and carry out operations. NOte: You dont need to declare the type of the variable.\n",
    "x = 2; y = 3; x*y"
   ]
  },
  {
   "cell_type": "code",
   "execution_count": 20,
   "metadata": {
    "collapsed": false
   },
   "outputs": [
    {
     "data": {
      "text/plain": [
       "6"
      ]
     },
     "execution_count": 20,
     "metadata": {},
     "output_type": "execute_result"
    }
   ],
   "source": [
    "# Assignment to a variable\n",
    "x*y                                                                             \n",
    "z = x*y                                                                    \n",
    "z"
   ]
  },
  {
   "cell_type": "code",
   "execution_count": 21,
   "metadata": {
    "collapsed": false
   },
   "outputs": [
    {
     "data": {
      "text/plain": [
       "32"
      ]
     },
     "execution_count": 21,
     "metadata": {},
     "output_type": "execute_result"
    }
   ],
   "source": [
    "##Power operation\n",
    "x=2; y=5\n",
    "x**y"
   ]
  },
  {
   "cell_type": "code",
   "execution_count": 22,
   "metadata": {
    "collapsed": false
   },
   "outputs": [
    {
     "data": {
      "text/plain": [
       "(-6+17j)"
      ]
     },
     "execution_count": 22,
     "metadata": {},
     "output_type": "execute_result"
    }
   ],
   "source": [
    "#Complex Values\n",
    "p=2+3j\n",
    "q=3+4j\n",
    "p*q"
   ]
  },
  {
   "cell_type": "markdown",
   "metadata": {},
   "source": [
    "# Python Data Types"
   ]
  },
  {
   "cell_type": "markdown",
   "metadata": {},
   "source": [
    "## String Operations"
   ]
  },
  {
   "cell_type": "markdown",
   "metadata": {},
   "source": [
    "There are the following data types:\n",
    "1. Numbers : Integers, floating point numbers and Complex Numbers\n",
    "2. String : String is immutable i.e. their characters cannot be changed.\n",
    "3. Boolean : True or False\n",
    "4. None : This is an important type of variable.\n",
    "5. Sequence Type\n",
    "  5.1: lists : These are mutable i.e. value can be changed.\n",
    "  5.2: tuples : These are immutable\n",
    "  5.3: range: These are immutable sequence of numbers "
   ]
  },
  {
   "cell_type": "code",
   "execution_count": 23,
   "metadata": {
    "collapsed": false
   },
   "outputs": [
    {
     "name": "stdout",
     "output_type": "stream",
     "text": [
      "your name\n",
      "9\n",
      "1\n",
      "The first 3 characters are 'your'\n",
      "The last 3 characters are 'name'\n"
     ]
    }
   ],
   "source": [
    "st1 = \"your name\"\n",
    "print(st1)\n",
    "#length of string\n",
    "print(len(st1))\n",
    "#Index starts from 0\n",
    "print(st1.index(\"o\"))\n",
    "# Substring\n",
    "print(\"The first 3 characters are '%s'\" % st1[:4])\n",
    "print(\"The last 3 characters are '%s'\" % st1[-4:])\n"
   ]
  },
  {
   "cell_type": "code",
   "execution_count": 27,
   "metadata": {
    "collapsed": false
   },
   "outputs": [
    {
     "name": "stdout",
     "output_type": "stream",
     "text": [
      "What is your name?\n"
     ]
    },
    {
     "ename": "KeyboardInterrupt",
     "evalue": "",
     "output_type": "error",
     "traceback": [
      "\u001b[0;31m---------------------------------------------------------------------------\u001b[0m",
      "\u001b[0;31mKeyboardInterrupt\u001b[0m                         Traceback (most recent call last)",
      "\u001b[0;32m/Users/taposh/anaconda/lib/python3.5/site-packages/ipykernel/kernelbase.py\u001b[0m in \u001b[0;36m_input_request\u001b[0;34m(self, prompt, ident, parent, password)\u001b[0m\n\u001b[1;32m    714\u001b[0m             \u001b[0;32mtry\u001b[0m\u001b[0;34m:\u001b[0m\u001b[0;34m\u001b[0m\u001b[0m\n\u001b[0;32m--> 715\u001b[0;31m                 \u001b[0mident\u001b[0m\u001b[0;34m,\u001b[0m \u001b[0mreply\u001b[0m \u001b[0;34m=\u001b[0m \u001b[0mself\u001b[0m\u001b[0;34m.\u001b[0m\u001b[0msession\u001b[0m\u001b[0;34m.\u001b[0m\u001b[0mrecv\u001b[0m\u001b[0;34m(\u001b[0m\u001b[0mself\u001b[0m\u001b[0;34m.\u001b[0m\u001b[0mstdin_socket\u001b[0m\u001b[0;34m,\u001b[0m \u001b[0;36m0\u001b[0m\u001b[0;34m)\u001b[0m\u001b[0;34m\u001b[0m\u001b[0m\n\u001b[0m\u001b[1;32m    716\u001b[0m             \u001b[0;32mexcept\u001b[0m \u001b[0mException\u001b[0m\u001b[0;34m:\u001b[0m\u001b[0;34m\u001b[0m\u001b[0m\n",
      "\u001b[0;32m/Users/taposh/anaconda/lib/python3.5/site-packages/jupyter_client/session.py\u001b[0m in \u001b[0;36mrecv\u001b[0;34m(self, socket, mode, content, copy)\u001b[0m\n\u001b[1;32m    738\u001b[0m         \u001b[0;32mtry\u001b[0m\u001b[0;34m:\u001b[0m\u001b[0;34m\u001b[0m\u001b[0m\n\u001b[0;32m--> 739\u001b[0;31m             \u001b[0mmsg_list\u001b[0m \u001b[0;34m=\u001b[0m \u001b[0msocket\u001b[0m\u001b[0;34m.\u001b[0m\u001b[0mrecv_multipart\u001b[0m\u001b[0;34m(\u001b[0m\u001b[0mmode\u001b[0m\u001b[0;34m,\u001b[0m \u001b[0mcopy\u001b[0m\u001b[0;34m=\u001b[0m\u001b[0mcopy\u001b[0m\u001b[0;34m)\u001b[0m\u001b[0;34m\u001b[0m\u001b[0m\n\u001b[0m\u001b[1;32m    740\u001b[0m         \u001b[0;32mexcept\u001b[0m \u001b[0mzmq\u001b[0m\u001b[0;34m.\u001b[0m\u001b[0mZMQError\u001b[0m \u001b[0;32mas\u001b[0m \u001b[0me\u001b[0m\u001b[0;34m:\u001b[0m\u001b[0;34m\u001b[0m\u001b[0m\n",
      "\u001b[0;32m/Users/taposh/anaconda/lib/python3.5/site-packages/zmq/sugar/socket.py\u001b[0m in \u001b[0;36mrecv_multipart\u001b[0;34m(self, flags, copy, track)\u001b[0m\n\u001b[1;32m    394\u001b[0m         \"\"\"\n\u001b[0;32m--> 395\u001b[0;31m         \u001b[0mparts\u001b[0m \u001b[0;34m=\u001b[0m \u001b[0;34m[\u001b[0m\u001b[0mself\u001b[0m\u001b[0;34m.\u001b[0m\u001b[0mrecv\u001b[0m\u001b[0;34m(\u001b[0m\u001b[0mflags\u001b[0m\u001b[0;34m,\u001b[0m \u001b[0mcopy\u001b[0m\u001b[0;34m=\u001b[0m\u001b[0mcopy\u001b[0m\u001b[0;34m,\u001b[0m \u001b[0mtrack\u001b[0m\u001b[0;34m=\u001b[0m\u001b[0mtrack\u001b[0m\u001b[0;34m)\u001b[0m\u001b[0;34m]\u001b[0m\u001b[0;34m\u001b[0m\u001b[0m\n\u001b[0m\u001b[1;32m    396\u001b[0m         \u001b[0;31m# have first part already, only loop while more to receive\u001b[0m\u001b[0;34m\u001b[0m\u001b[0;34m\u001b[0m\u001b[0m\n",
      "\u001b[0;32mzmq/backend/cython/socket.pyx\u001b[0m in \u001b[0;36mzmq.backend.cython.socket.Socket.recv (zmq/backend/cython/socket.c:7291)\u001b[0;34m()\u001b[0m\n",
      "\u001b[0;32mzmq/backend/cython/socket.pyx\u001b[0m in \u001b[0;36mzmq.backend.cython.socket.Socket.recv (zmq/backend/cython/socket.c:7089)\u001b[0;34m()\u001b[0m\n",
      "\u001b[0;32mzmq/backend/cython/socket.pyx\u001b[0m in \u001b[0;36mzmq.backend.cython.socket._recv_copy (zmq/backend/cython/socket.c:2041)\u001b[0;34m()\u001b[0m\n",
      "\u001b[0;32m/Users/taposh/anaconda/lib/python3.5/site-packages/zmq/backend/cython/checkrc.pxd\u001b[0m in \u001b[0;36mzmq.backend.cython.checkrc._check_rc (zmq/backend/cython/socket.c:9229)\u001b[0;34m()\u001b[0m\n",
      "\u001b[0;31mKeyboardInterrupt\u001b[0m: ",
      "\nDuring handling of the above exception, another exception occurred:\n",
      "\u001b[0;31mKeyboardInterrupt\u001b[0m                         Traceback (most recent call last)",
      "\u001b[0;32m<ipython-input-27-9aead28b1410>\u001b[0m in \u001b[0;36m<module>\u001b[0;34m()\u001b[0m\n\u001b[1;32m      1\u001b[0m \u001b[0mprint\u001b[0m\u001b[0;34m(\u001b[0m\u001b[0;34m\"What is your name?\"\u001b[0m\u001b[0;34m)\u001b[0m\u001b[0;34m\u001b[0m\u001b[0m\n\u001b[0;32m----> 2\u001b[0;31m \u001b[0mname\u001b[0m \u001b[0;34m=\u001b[0m \u001b[0minput\u001b[0m\u001b[0;34m(\u001b[0m\u001b[0;34m)\u001b[0m\u001b[0;34m\u001b[0m\u001b[0m\n\u001b[0m",
      "\u001b[0;32m/Users/taposh/anaconda/lib/python3.5/site-packages/ipykernel/kernelbase.py\u001b[0m in \u001b[0;36mraw_input\u001b[0;34m(self, prompt)\u001b[0m\n\u001b[1;32m    688\u001b[0m             \u001b[0mself\u001b[0m\u001b[0;34m.\u001b[0m\u001b[0m_parent_ident\u001b[0m\u001b[0;34m,\u001b[0m\u001b[0;34m\u001b[0m\u001b[0m\n\u001b[1;32m    689\u001b[0m             \u001b[0mself\u001b[0m\u001b[0;34m.\u001b[0m\u001b[0m_parent_header\u001b[0m\u001b[0;34m,\u001b[0m\u001b[0;34m\u001b[0m\u001b[0m\n\u001b[0;32m--> 690\u001b[0;31m             \u001b[0mpassword\u001b[0m\u001b[0;34m=\u001b[0m\u001b[0;32mFalse\u001b[0m\u001b[0;34m,\u001b[0m\u001b[0;34m\u001b[0m\u001b[0m\n\u001b[0m\u001b[1;32m    691\u001b[0m         )\n\u001b[1;32m    692\u001b[0m \u001b[0;34m\u001b[0m\u001b[0m\n",
      "\u001b[0;32m/Users/taposh/anaconda/lib/python3.5/site-packages/ipykernel/kernelbase.py\u001b[0m in \u001b[0;36m_input_request\u001b[0;34m(self, prompt, ident, parent, password)\u001b[0m\n\u001b[1;32m    718\u001b[0m             \u001b[0;32mexcept\u001b[0m \u001b[0mKeyboardInterrupt\u001b[0m\u001b[0;34m:\u001b[0m\u001b[0;34m\u001b[0m\u001b[0m\n\u001b[1;32m    719\u001b[0m                 \u001b[0;31m# re-raise KeyboardInterrupt, to truncate traceback\u001b[0m\u001b[0;34m\u001b[0m\u001b[0;34m\u001b[0m\u001b[0m\n\u001b[0;32m--> 720\u001b[0;31m                 \u001b[0;32mraise\u001b[0m \u001b[0mKeyboardInterrupt\u001b[0m\u001b[0;34m\u001b[0m\u001b[0m\n\u001b[0m\u001b[1;32m    721\u001b[0m             \u001b[0;32melse\u001b[0m\u001b[0;34m:\u001b[0m\u001b[0;34m\u001b[0m\u001b[0m\n\u001b[1;32m    722\u001b[0m                 \u001b[0;32mbreak\u001b[0m\u001b[0;34m\u001b[0m\u001b[0m\n",
      "\u001b[0;31mKeyboardInterrupt\u001b[0m: "
     ]
    }
   ],
   "source": [
    "print(\"What is your name?\")\n",
    "name = input()"
   ]
  },
  {
   "cell_type": "code",
   "execution_count": 25,
   "metadata": {
    "collapsed": false
   },
   "outputs": [
    {
     "name": "stdout",
     "output_type": "stream",
     "text": [
      "Nice to meet you,TTest\n"
     ]
    }
   ],
   "source": [
    "print (\"Nice to meet you,\" + name )"
   ]
  },
  {
   "cell_type": "code",
   "execution_count": 26,
   "metadata": {
    "collapsed": false
   },
   "outputs": [
    {
     "name": "stdout",
     "output_type": "stream",
     "text": [
      "The all characters except the last 4 'your '\n"
     ]
    }
   ],
   "source": [
    "#Exercise\n",
    "#Print all characters except the last 4 \n",
    "#Solution\n",
    "print(\"The all characters except the last 4 '%s'\" % st1[:-4])"
   ]
  },
  {
   "cell_type": "markdown",
   "metadata": {},
   "source": [
    "## Sequence Variables "
   ]
  },
  {
   "cell_type": "markdown",
   "metadata": {},
   "source": [
    "### Sequence Variables : List"
   ]
  },
  {
   "cell_type": "markdown",
   "metadata": {},
   "source": [
    "(https://www.tutorialspoint.com/python/python_lists.htm)\n",
    "- list variables are used to store sequences of values\n",
    "- Variables of a list can be of different types\n",
    "- list variables are mutable i.e. their values can be changed."
   ]
  },
  {
   "cell_type": "code",
   "execution_count": null,
   "metadata": {
    "collapsed": false
   },
   "outputs": [],
   "source": [
    "# Store a sequence of values in a vector.\n",
    "# In python we have lists\n",
    "#list\n",
    "type([100,\"integer\",20.0, \"I am a float\",2+3j])\n"
   ]
  },
  {
   "cell_type": "markdown",
   "metadata": {},
   "source": [
    "### Sequence Variables : Tuple"
   ]
  },
  {
   "cell_type": "markdown",
   "metadata": {},
   "source": [
    "A tuple is a sequence of immutable Python objects. Tuples are sequences, just like lists.\n",
    "The differences between tuples and lists are, the tuples cannot be changed unlike lists and tuples use parentheses, whereas lists use square brackets. However, you can take portions of existing tuples to create new tuples."
   ]
  },
  {
   "cell_type": "code",
   "execution_count": null,
   "metadata": {
    "collapsed": false
   },
   "outputs": [],
   "source": [
    "#Tuples\n",
    "type((100,\"integer\",20.0, \"I am a float\",2+3j))\n"
   ]
  },
  {
   "cell_type": "code",
   "execution_count": null,
   "metadata": {
    "collapsed": false
   },
   "outputs": [],
   "source": [
    "tupA = (100,\"integer\",20.0, \"I am a float\",2+3j)\n",
    "print(tupA[0],tupA[3])"
   ]
  },
  {
   "cell_type": "code",
   "execution_count": null,
   "metadata": {
    "collapsed": true
   },
   "outputs": [],
   "source": [
    "tuple(seq)\n",
    "Converts a list into tuple."
   ]
  },
  {
   "cell_type": "markdown",
   "metadata": {},
   "source": [
    "**Questions**\n",
    "- Consider the following tuple tupA =(100,”decimal”, “float”,22.99). Can you update the tuple tupA such that tupA[0] = 200?\n",
    "- Create tupB containing the following 200, decimal, float, 11.99,100. Compare tupA and tupB "
   ]
  },
  {
   "cell_type": "raw",
   "metadata": {},
   "source": [
    "Answer\n",
    "1. Cannot update a tuple\n",
    "2. See comparison results"
   ]
  },
  {
   "cell_type": "code",
   "execution_count": null,
   "metadata": {
    "collapsed": false
   },
   "outputs": [],
   "source": [
    "tupA= (100,\"decimal\",\"float\", 11.99,100)\n",
    "tupB= (200,\"decimal\",\"float\", 11.99,100)\n",
    "tupB>tupA"
   ]
  },
  {
   "cell_type": "code",
   "execution_count": null,
   "metadata": {
    "collapsed": true
   },
   "outputs": [],
   "source": [
    "# Try the help function to get information on Range\n",
    "?range"
   ]
  },
  {
   "cell_type": "markdown",
   "metadata": {},
   "source": [
    "## Numeric Operations"
   ]
  },
  {
   "cell_type": "markdown",
   "metadata": {},
   "source": [
    "### Range"
   ]
  },
  {
   "cell_type": "code",
   "execution_count": null,
   "metadata": {
    "code_folding": [],
    "collapsed": false
   },
   "outputs": [],
   "source": [
    "#Range\n",
    "a = range(10)\n",
    "for ii in a:\n",
    "    print(ii)"
   ]
  },
  {
   "cell_type": "code",
   "execution_count": null,
   "metadata": {
    "collapsed": false
   },
   "outputs": [],
   "source": [
    "b = range(2,4)\n",
    "for ii in b:\n",
    "    print(ii)"
   ]
  },
  {
   "cell_type": "code",
   "execution_count": null,
   "metadata": {
    "collapsed": false
   },
   "outputs": [],
   "source": [
    "b1 = range(1,3)\n",
    "for ii in b1:\n",
    "    print(ii)"
   ]
  },
  {
   "cell_type": "code",
   "execution_count": null,
   "metadata": {
    "collapsed": false
   },
   "outputs": [],
   "source": []
  },
  {
   "cell_type": "markdown",
   "metadata": {},
   "source": [
    "### Math Operations"
   ]
  },
  {
   "cell_type": "raw",
   "metadata": {},
   "source": [
    "Source : https://docs.python.org/3/library/math.html?highlight=math\n",
    "\n",
    "This module is always available. It provides access to the mathematical functions defined by the C standard.\n",
    "\n",
    "These functions cannot be used with complex numbers; use the functions of the same name from the cmath module if you require support for complex numbers. The distinction between functions which support complex numbers and those which don’t is made since most users do not want to learn quite as much mathematics as required to understand complex numbers. Receiving an exception instead of a complex result allows earlier detection of the unexpected complex number used as a parameter, so that the programmer can determine how and why it was generated in the first place.\n"
   ]
  },
  {
   "cell_type": "code",
   "execution_count": null,
   "metadata": {
    "collapsed": false
   },
   "outputs": [],
   "source": [
    "import math\n",
    "\n",
    "#Summation\n",
    "print(math.fsum(a))\n",
    "\n",
    "# Factorial\n",
    "x= math.factorial(5)\n",
    "print(x)\n",
    "\n",
    "# Ceiling and Floor Functions\n",
    "y = math.ceil(20.55)\n",
    "print(y)\n",
    "w = math.floor(20.55)\n",
    "print(w)\n",
    "\n",
    "#CopySign\n",
    "z = math.copysign(10.0,-1.0)\n",
    "print(z)\n",
    "\n",
    "#absolute Value\n",
    "print(math.fabs(z))\n",
    "\n"
   ]
  },
  {
   "cell_type": "code",
   "execution_count": null,
   "metadata": {
    "collapsed": false
   },
   "outputs": [],
   "source": [
    "# Division Operations \n",
    "\n",
    "#mod - Remainder\n",
    "print(math.fmod (12,5))\n",
    "\n",
    "# Return the mantissa and exponent of x as the pair (m, e)\n",
    "# m is a float and e is an integer such that x == m * 2**e exactly.\n",
    "print(math.frexp(5))\n",
    "\n",
    "#Check Answer\n",
    "print(0.625*2**3)\n"
   ]
  },
  {
   "cell_type": "code",
   "execution_count": null,
   "metadata": {
    "collapsed": true
   },
   "outputs": [],
   "source": [
    "# Try out these \n",
    "math.gcd\n",
    "math.isnan\n",
    "math.exp\n",
    "math.log\n",
    "math.pow\n",
    "math.sqrt\n",
    "math.pi"
   ]
  },
  {
   "cell_type": "markdown",
   "metadata": {
    "collapsed": true
   },
   "source": [
    "### Statistics Operations (TODO)"
   ]
  },
  {
   "cell_type": "code",
   "execution_count": null,
   "metadata": {
    "collapsed": false
   },
   "outputs": [],
   "source": [
    "a = 10\n",
    "b = 20\n",
    "c = (a if a>b else b)*2\n",
    "d = list(range(10))\n",
    "d[0] = c\n",
    "print(d[0:6:2])"
   ]
  },
  {
   "cell_type": "code",
   "execution_count": null,
   "metadata": {
    "collapsed": false
   },
   "outputs": [],
   "source": [
    "print(d[0:9:1])"
   ]
  },
  {
   "cell_type": "code",
   "execution_count": null,
   "metadata": {
    "collapsed": false
   },
   "outputs": [],
   "source": [
    "d"
   ]
  },
  {
   "cell_type": "markdown",
   "metadata": {},
   "source": [
    "## Operations Sequence"
   ]
  },
  {
   "cell_type": "code",
   "execution_count": null,
   "metadata": {
    "collapsed": true
   },
   "outputs": [],
   "source": [
    "#Sequence of operations\n",
    "a=2\n",
    "b=3\n",
    "c=-1\n",
    "d=-5\n",
    "k = -b//a-(-1)*c*b/d**c%c%d + (0 and 1 or not 0)"
   ]
  },
  {
   "cell_type": "markdown",
   "metadata": {},
   "source": [
    "## Functions & lambda"
   ]
  },
  {
   "cell_type": "markdown",
   "metadata": {},
   "source": [
    "### Functions"
   ]
  },
  {
   "cell_type": "code",
   "execution_count": null,
   "metadata": {
    "collapsed": false
   },
   "outputs": [],
   "source": [
    "def foo(x):\n",
    "    x += 1\n",
    "    if x<20:\n",
    "        return foo(x)+1\n",
    "    else:\n",
    "        return x\n",
    "\n",
    "x = 10\n",
    "print(foo(x))"
   ]
  },
  {
   "cell_type": "code",
   "execution_count": null,
   "metadata": {
    "collapsed": false
   },
   "outputs": [],
   "source": [
    "def change1(mylist):\n",
    "    mylist[0] = 2\n",
    "    print(mylist)\n",
    "    return\n",
    "\n",
    "def change2(mylist):\n",
    "    mylist = [1,2,3,4]\n",
    "    print(mylist)\n",
    "    return\n",
    "\n",
    "mylist = [10,20,30]\n",
    "change1(mylist)\n",
    "print(mylist)\n",
    "# mylist = 2,20,30\n",
    "change2(mylist)\n",
    "print(mylist)"
   ]
  },
  {
   "cell_type": "markdown",
   "metadata": {},
   "source": [
    "### Lambda"
   ]
  },
  {
   "cell_type": "code",
   "execution_count": null,
   "metadata": {
    "collapsed": false
   },
   "outputs": [],
   "source": [
    "#square_root = lambda x: math.sqrt(x)\n",
    "result = lambda x: x+1 if x<20 else x\n",
    "x=10\n",
    "result"
   ]
  },
  {
   "cell_type": "code",
   "execution_count": null,
   "metadata": {
    "collapsed": false
   },
   "outputs": [],
   "source": [
    "\n",
    "x1 = np.arange(8)\n",
    "x2 = np.reshape(x1,(2,4))\n",
    "print(np.roll(x2,1,axis=0))"
   ]
  },
  {
   "cell_type": "code",
   "execution_count": null,
   "metadata": {
    "collapsed": false
   },
   "outputs": [],
   "source": [
    "y = \n",
    "np.mean(y)"
   ]
  },
  {
   "cell_type": "raw",
   "metadata": {
    "collapsed": false
   },
   "source": [
    "### Basic operations in R\n",
    "2*3                                                                              #Pretty advanced stuff.\n",
    "x = 2; y = 3; x*y                                                              #Store values and carry out operations.\n",
    "y = 1:5                                                                         #Store a sequence of values in a vector.\n",
    "x*y                                                                              #Can do operation against the whole vector.\n",
    "z = x*y                                                                         #Can store the result also.\n",
    "z                                                                                #How to see the result.\n",
    "mean(y); sum(y); length(y)                                                       #Some basic functions.\n",
    "tmp <- mean(y)                                                                   #You can store the result of a function also.\n",
    "plot(y,z)                                                                        #How to plot the result.\n",
    "plot(x,z)                                                                        #Let's get our first bug.\n",
    "plot(rep(x,5), z)                                                                #One way to fix it...note embedded functions.\n",
    "plot(rep(x,length(z)), z)                                                        #Even more embedded functions.\n",
    "?plot                                                                            #Let's look at the help for plot.\n",
    "plot(x=rep(x,length(z)), y=z)                                                    #It's good practice to make function calls easier to understand.\n",
    "tmp <- data.frame(x, y, z)                                                       #Creating a table of our variables.\n",
    "tmp                                                                              #Let's see what happened...\n",
    "plot(x=tmp$x, y=tmp$z)                                                           #Now we can plot using the dataframe.\n",
    "with(tmp, plot(x=x, y=z))                                                        #The same thing.\n",
    "with(data.frame(x, y, z), plot(x=x, y=z))                                        #Ill-advised, but exercise in using what we've learned.\n",
    "with(tmp, plot(x=x, y=z, main=\"Silly Plot\", xlab=\"x-axis\", pch=23))              #A couple more options.\n",
    "rm(tmp,x)                                                                        #Removing one object.\n",
    "rm(list=ls())                                                                    #Clear workspace.\n"
   ]
  },
  {
   "cell_type": "code",
   "execution_count": null,
   "metadata": {
    "collapsed": true
   },
   "outputs": [],
   "source": []
  },
  {
   "cell_type": "markdown",
   "metadata": {},
   "source": [
    "# File Reading and Writing"
   ]
  },
  {
   "cell_type": "markdown",
   "metadata": {},
   "source": [
    "## Reading file from disc"
   ]
  },
  {
   "cell_type": "code",
   "execution_count": null,
   "metadata": {
    "collapsed": false
   },
   "outputs": [],
   "source": [
    "### Reading file from disc\n",
    "filepath = \"/Users/taposh/Documents/python_boot_camp/abalone_train.csv\"\n",
    "with open(filepath, 'r') as f:\n",
    "    read_data = f.read()\n",
    "f.closed\n",
    "##print (read_data)"
   ]
  },
  {
   "cell_type": "markdown",
   "metadata": {
    "collapsed": false,
    "heading_collapsed": true
   },
   "source": [
    "## Reading file from DB (TODO)"
   ]
  },
  {
   "cell_type": "markdown",
   "metadata": {
    "collapsed": true,
    "heading_collapsed": true
   },
   "source": [
    "## Microsoft Excel (TODO)\n",
    "\n",
    "Since so much financial and scientific data ends up in Excel spreadsheets (regrettably), Pandas' ability to directly import Excel spreadsheets is valuable. This support is contingent on having one or two dependencies (depending on what version of Excel file is being imported) installed: xlrd and openpyxl (these may be installed with either pip or easy_install).\n",
    "\n",
    "The read_excel convenience function in pandas imports a specific sheet from an Excel file"
   ]
  },
  {
   "cell_type": "code",
   "execution_count": null,
   "metadata": {
    "collapsed": false,
    "hidden": true
   },
   "outputs": [],
   "source": [
    "# Removed non-numeric columns\n",
    "# Later on we will talk about One hot encoding or converign categorical into numerical\n",
    "\n",
    "str_list = [] # empty list to contain columns with strings (words)\n",
    "for colname, colvalue in data.iteritems():\n",
    "    if type(colvalue[1]) == str:\n",
    "         str_list.append(colname)\n",
    "# Get to the numeric columns by inversion            \n",
    "num_list = data.columns.difference(str_list) \n",
    "data_num = data[num_list]\n",
    "#del movie # Get rid of movie df as we won't need it now\n",
    "data_num.head()"
   ]
  },
  {
   "cell_type": "markdown",
   "metadata": {
    "hidden": true
   },
   "source": [
    "Filling Null values and standardization "
   ]
  },
  {
   "cell_type": "code",
   "execution_count": null,
   "metadata": {
    "collapsed": true,
    "hidden": true
   },
   "outputs": [],
   "source": [
    "# Fill NA\n",
    "data_num = data_num.fillna(value=0, axis=1)\n",
    "\n",
    "#Finally we mentioned that we have to find some sort of way to standardise the data and for this, we use sklearn's StandardScaler.\n",
    "X = data_num.values\n",
    "# Data Normalization\n",
    "from sklearn.preprocessing import StandardScaler\n",
    "X_std = StandardScaler().fit_transform(X)\n"
   ]
  },
  {
   "cell_type": "code",
   "execution_count": null,
   "metadata": {
    "collapsed": false,
    "hidden": true
   },
   "outputs": [],
   "source": [
    "data.plot(y= 'rings', x ='diameter',kind='hexbin',gridsize=25, sharex=False,color='w', title='Hexbin of number of rings and diameter',figsize=(6,4))\n",
    "data.plot(y= 'rings', x ='shell_weight',kind='hexbin',gridsize=45, sharex=False, colormap='cubehelix', title='Hexbin of number of rings and diameter',figsize=(6,4))\n",
    "plt.show()"
   ]
  },
  {
   "cell_type": "raw",
   "metadata": {
    "hidden": true
   },
   "source": []
  },
  {
   "cell_type": "code",
   "execution_count": null,
   "metadata": {
    "collapsed": false,
    "hidden": true
   },
   "outputs": [],
   "source": [
    "x1"
   ]
  },
  {
   "cell_type": "code",
   "execution_count": null,
   "metadata": {
    "collapsed": false,
    "hidden": true
   },
   "outputs": [],
   "source": [
    "x2"
   ]
  },
  {
   "cell_type": "code",
   "execution_count": null,
   "metadata": {
    "collapsed": false,
    "hidden": true
   },
   "outputs": [],
   "source": [
    "print(np.roll(x2,1,axis=1))"
   ]
  },
  {
   "cell_type": "markdown",
   "metadata": {},
   "source": [
    "# Numpy, Scipy & Scikit Learn (TODO)"
   ]
  },
  {
   "cell_type": "raw",
   "metadata": {},
   "source": [
    "What is Numpy ? \n",
    "NumPy is a fundamental open source library for numeric computing with Python. It contains among other things:\n",
    " * a powerful N-dimensional array object\n",
    " * sophisticated (broadcasting) functions\n",
    " * tools for integrating C/C++ and Fortran code\n",
    " * useful linear algebra, Fourier transform, and random number capabilities\n",
    "\n",
    "Besides its obvious scientific uses, NumPy can also be used as an efficient multi-dimensional container of generic data. Arbitrary data-types can be defined. This allows NumPy to seamlessly and speedily integrate with a wide variety of databases.\n",
    "NumPy is licensed under the BSD license, enabling reuse with few restrictions.\n",
    "www.numpy.org\n",
    "\n",
    "What is Scipy ?\n",
    "The SciPy (Scientific Python) package extends the functionality of NumPy with a substantial\n",
    "collection of useful algorithms, like minimization, Fourier transformation, regression, and other\n",
    "applied mathematical techniques. \n",
    "\n",
    "https://scipy.org/\n",
    "\n",
    "What is Scikit Learn?\n",
    "\n",
    "http://scikit-learn.org/stable/\n",
    "\n"
   ]
  },
  {
   "cell_type": "markdown",
   "metadata": {},
   "source": [
    "## Exercise [ Work In progress]"
   ]
  },
  {
   "cell_type": "markdown",
   "metadata": {
    "heading_collapsed": true
   },
   "source": [
    "### Reading Sample Code\n",
    "Question1:\n",
    "There are 10 piles and every pile has 10 objects.\n",
    "For each pile, pick an object in the pile and put it in a randomly selected pile.\n",
    "Repeat this action a given number of times to these piles.\n",
    "If a pile becomes empty, delete this pile.\n",
    "Stop the loop if there is only one pile left.\n",
    "The program attached \"piles.py\" realizes this process. Read the code and try to find out how many piles will be left in the end by adjusting the times of iterations."
   ]
  },
  {
   "cell_type": "code",
   "execution_count": null,
   "metadata": {
    "collapsed": false,
    "hidden": true
   },
   "outputs": [],
   "source": [
    "import numpy as np\n",
    "import math\n",
    "import random\n",
    "import matplotlib.pyplot as plt\n",
    "\n",
    "maxPerPile = 10\n",
    "numberOfPiles = 10\n",
    "maxIter = 100000\n",
    "\n",
    "piles = np.empty(numberOfPiles)\n",
    "piles.fill(10)\n",
    "totPiles = np.sum(piles)\n",
    "numPiles = np.array([piles.size])\n",
    "\n",
    "for x in range(0,maxIter):\n",
    "    if (piles.size > 1 and totPiles == np.sum(piles)):\n",
    "        piles = piles[np.nonzero(piles)]\n",
    "        for i in np.arange(piles.size):\n",
    "            piles[i] -= 1\n",
    "            #randomly select the pile to add\n",
    "            num = np.random.randint(piles.size)\n",
    "            piles[num] += 1\n",
    "            numPiles = np.append(numPiles,piles.size)\n",
    "            x += 1\n",
    "print(len(numPiles))       "
   ]
  },
  {
   "cell_type": "markdown",
   "metadata": {
    "collapsed": false,
    "hidden": true
   },
   "source": [
    "Question 2: Code for Integration "
   ]
  },
  {
   "cell_type": "code",
   "execution_count": null,
   "metadata": {
    "collapsed": false,
    "hidden": true
   },
   "outputs": [],
   "source": [
    "def f(x):\n",
    "    return (x**2)*np.exp(-x)*np.sin(x)\n",
    "    \n",
    "# There is quant boot camp : Mehul Rangwala \n",
    "def integrate(xMin, xMax, N): \n",
    "    xSum = 0\n",
    "    #summation of f(x) and deltax\n",
    "    deltaX = (xMax-xMin)/(N-1)\n",
    "    for ii in range(N-1):\n",
    "        #print(ii)\n",
    "        xii = xMin + ii*deltaX\n",
    "        #print(\"xii:\", xii)\n",
    "        xSum = f(xii)*deltaX + xSum\n",
    "        #print(\"Integration Results:\", xSum)\n",
    "        ii = ii+1\n",
    "    return xSum\n",
    "    \n"
   ]
  },
  {
   "cell_type": "code",
   "execution_count": null,
   "metadata": {
    "collapsed": false,
    "hidden": true
   },
   "outputs": [],
   "source": [
    "z=integrate(1,3,200)"
   ]
  },
  {
   "cell_type": "code",
   "execution_count": null,
   "metadata": {
    "collapsed": false,
    "hidden": true
   },
   "outputs": [],
   "source": [
    "z"
   ]
  },
  {
   "cell_type": "markdown",
   "metadata": {},
   "source": [
    "### Integration Using Numpy "
   ]
  },
  {
   "cell_type": "code",
   "execution_count": null,
   "metadata": {
    "collapsed": false
   },
   "outputs": [],
   "source": [
    "def integrate(f, a, b, N):\n",
    "    x = np.linspace(a+(b-a)/(2*N), b-(b-a)/(2*N), N)\n",
    "    fx = f(x)\n",
    "    area = np.sum(fx)*(b-a)/N\n",
    "    return area\n",
    "\n",
    "integrate(np.sin, 0, np.pi/2, 100)"
   ]
  },
  {
   "cell_type": "code",
   "execution_count": null,
   "metadata": {
    "collapsed": false
   },
   "outputs": [],
   "source": [
    "def f(x):\n",
    "    return (x**2)*np.exp(-x)*np.sin(x)\n",
    "    \n",
    "def integrate(a, b, N):\n",
    "    x = np.linspace(a+(b-a)/(2*N), b-(b-a)/(2*N), N)\n",
    "    fx = f(x)\n",
    "    area = np.sum(fx)*(b-a)/N\n",
    "    return area\n",
    "\n",
    "integrate(1,3,200)"
   ]
  },
  {
   "cell_type": "markdown",
   "metadata": {},
   "source": [
    "# Pandas"
   ]
  },
  {
   "cell_type": "markdown",
   "metadata": {},
   "source": [
    "Official Site: http://pandas.pydata.org/\n",
    "\n",
    "Pandas is a Python module, which is rounding up the capabilities of Numpy, Scipy and Matplotlab. The word pandas is an acronym which is derived from \"Python and data analysis\" and \"panel data\".Pandas is a Python package providing fast, flexible, and expressive data structures designed to work with relational or labeled data both. It is a fundamental high-level building block for doing practical, real world data analysis in Python.\n",
    "\n",
    "** Pandas is well suited for: **\n",
    "\n",
    " - Tabular data with heterogeneously-typed columns, as in an SQL table or Excel spreadsheet\n",
    " - Ordered and unordered (not necessarily fixed-frequency) time series data.\n",
    " - Arbitrary matrix data (homogeneously typed or heterogeneous) with row and column labels\n",
    " - Any other form of observational / statistical data sets. The data actually need not be labeled at all to be placed into a pandas data structure\n",
    " \n",
    "**Key features:**\n",
    "- Easy handling of missing data\n",
    "- Size mutability: columns can be inserted and deleted from DataFrame and higher dimensional objects\n",
    "- Automatic and explicit data alignment: objects can be explicitly aligned to a set of labels, or the data can be aligned automatically\n",
    "- Powerful, flexible group by functionality to perform split-apply-combine operations on data sets\n",
    "- Intelligent label-based slicing, fancy indexing, and subsetting of large data sets\n",
    "- Intuitive merging and joining data sets\n",
    "- Flexible reshaping and pivoting of data sets\n",
    "- Hierarchical labeling of axes\n",
    "- Robust IO tools for loading data from flat files, Excel files, databases, and HDF5\n",
    "- Time series functionality: date range generation and frequency conversion, moving window statistics, moving window linear regressions, date shifting and lagging, etc.\n",
    "\n",
    "source: http://pandas.pydata.org/pandas-docs/stable/"
   ]
  },
  {
   "cell_type": "markdown",
   "metadata": {},
   "source": [
    "**Data Structures used in Pandas**\n",
    "\n",
    "The two primary data structures of pandas, \n",
    "   - *Series (1-dimensional)* and \n",
    "   - *DataFrame (2-dimensional)*\n",
    "\n",
    "They handle the vast majority of typical use cases in finance, statistics, social science, and many areas of engineering. For R users, DataFrame provides everything that R’s data.frame provides and much more. pandas is built on top of NumPy and is intended to integrate well within a scientific computing environment with many other 3rd party libraries."
   ]
  },
  {
   "cell_type": "markdown",
   "metadata": {
    "heading_collapsed": true
   },
   "source": [
    "### Series"
   ]
  },
  {
   "cell_type": "markdown",
   "metadata": {
    "hidden": true
   },
   "source": [
    "![alt text](series.jpg \"Series\")"
   ]
  },
  {
   "cell_type": "markdown",
   "metadata": {
    "hidden": true
   },
   "source": [
    "A **Series** is a one-dimensional labelled array-like object. It is capable of holding any data type, e.g. integers, floats, strings, Python objects, and so on. It can be seen as a data structure with two arrays: one functioning as the index, i.e. the labels, and the other one contains the actual data.\n",
    "\n",
    "We define a simple Series object in the following example by instantiating a Pandas Series object with a list. We will later see that we can use other data objects for example Numpy arrays and dictionaries as well to instantiate a Series object."
   ]
  },
  {
   "cell_type": "code",
   "execution_count": null,
   "metadata": {
    "collapsed": false,
    "hidden": true
   },
   "outputs": [],
   "source": [
    "import pandas as pd\n",
    "Object_series = pd.Series([11,112,323,5,\"Nov\",4.5])\n",
    "print(Object_series)\n",
    "print(Object_series.index)\n",
    "print(Object_series.values)"
   ]
  },
  {
   "cell_type": "code",
   "execution_count": null,
   "metadata": {
    "collapsed": false,
    "hidden": true
   },
   "outputs": [],
   "source": [
    "import pandas as pd\n",
    "num_series = pd.Series([11,112,323,5,6,2323,232323232.1])\n",
    "num_series\n",
    "print(num_series.index)\n",
    "print(num_series.values)"
   ]
  },
  {
   "cell_type": "code",
   "execution_count": null,
   "metadata": {
    "collapsed": false,
    "hidden": true
   },
   "outputs": [],
   "source": [
    "np.log(num_series)"
   ]
  },
  {
   "cell_type": "code",
   "execution_count": null,
   "metadata": {
    "collapsed": false,
    "hidden": true
   },
   "outputs": [],
   "source": [
    "num_series[num_series>200]"
   ]
  },
  {
   "cell_type": "code",
   "execution_count": null,
   "metadata": {
    "collapsed": false,
    "hidden": true
   },
   "outputs": [],
   "source": [
    "degrees = ['high school', 'bachelors', 'masters', 'doctorate']\n",
    "weights = [10, 23, 42, 70]\n",
    "deg_series = pd.Series(degrees, index=weights)\n",
    "deg_series"
   ]
  },
  {
   "cell_type": "code",
   "execution_count": null,
   "metadata": {
    "collapsed": false,
    "hidden": true
   },
   "outputs": [],
   "source": [
    "age = ['16', '22', '24', '28']\n",
    "weights = [1, 2, 3, 4]\n",
    "age_series = pd.Series(age, index=weights)\n",
    "age_series"
   ]
  },
  {
   "cell_type": "code",
   "execution_count": null,
   "metadata": {
    "collapsed": false,
    "hidden": true
   },
   "outputs": [],
   "source": [
    "deg_series.isnull()"
   ]
  },
  {
   "cell_type": "code",
   "execution_count": null,
   "metadata": {
    "collapsed": false,
    "hidden": true
   },
   "outputs": [],
   "source": [
    "age_series.isnull()"
   ]
  },
  {
   "cell_type": "code",
   "execution_count": null,
   "metadata": {
    "collapsed": false,
    "hidden": true
   },
   "outputs": [],
   "source": [
    "deg_series + age_series"
   ]
  },
  {
   "cell_type": "markdown",
   "metadata": {
    "hidden": true
   },
   "source": [
    "The indices do not have to be the same for the Series addition. The index will be the \"union\" of both indices. If an index doesn't occur in both Series, the value for this Series will be NaN:"
   ]
  },
  {
   "cell_type": "code",
   "execution_count": null,
   "metadata": {
    "collapsed": false,
    "hidden": true
   },
   "outputs": [],
   "source": [
    "age = [' 16year old', ' 22 year old', ' 24 year old', ' 28 year old']\n",
    "weights2 = [10, 2, 3, 70]\n",
    "age_series2 = pd.Series(age, index=weights2)\n",
    "age_series2"
   ]
  },
  {
   "cell_type": "code",
   "execution_count": null,
   "metadata": {
    "collapsed": false,
    "hidden": true
   },
   "outputs": [],
   "source": [
    "deg_series + age_series2"
   ]
  },
  {
   "cell_type": "markdown",
   "metadata": {
    "hidden": true
   },
   "source": [
    "** pandas.Series.apply **\n",
    "\n",
    "Series.apply(func, convert_dtype=True, args=(), **kwds)\n",
    "\n",
    "The function \"func\" will be applied to the Series and it returns either a Series or a DataFrame, depending on \"func\".\n",
    "\n",
    "Parameter\tMeaning\n",
    "func\ta function, which can be a NumPy function that will be applied to the entire Series or a Python function that will be applied to every single value of the series\n",
    "convert_dtype\tA boolean value. If it is set to True (default), apply will try to find better dtype for elementwise function results. If False, leave as dtype=object\n",
    "args\tPositional arguments which will be passed to the function \"func\" additionally to the values from the series.\n",
    "**kwds\tAdditional keyword arguments will be passed as keywords to the function\n"
   ]
  },
  {
   "cell_type": "code",
   "execution_count": null,
   "metadata": {
    "collapsed": false,
    "hidden": true
   },
   "outputs": [],
   "source": [
    "num_series"
   ]
  },
  {
   "cell_type": "code",
   "execution_count": null,
   "metadata": {
    "collapsed": false,
    "hidden": true
   },
   "outputs": [],
   "source": [
    "num_series.apply(np.sin)"
   ]
  },
  {
   "cell_type": "code",
   "execution_count": null,
   "metadata": {
    "collapsed": false,
    "hidden": true
   },
   "outputs": [],
   "source": [
    "num_series.apply(lambda x: np.tan(x) if x > 300 else x+10 )"
   ]
  },
  {
   "cell_type": "markdown",
   "metadata": {},
   "source": [
    "### Data Frame"
   ]
  },
  {
   "cell_type": "markdown",
   "metadata": {},
   "source": [
    "The underlying idea of a DataFrame is based on spreadsheets. We can see the data structure of a DataFrame as tabular and spreadsheet-like. It contains an ordered collection of columns. Each column consists of a unique data typye, but different columns can have different types, e.g. the first column may consist of integers, while the second one consists of boolean values and so on."
   ]
  },
  {
   "cell_type": "code",
   "execution_count": null,
   "metadata": {
    "collapsed": false
   },
   "outputs": [],
   "source": [
    "import pandas as pd\n",
    "cities = {\"name\": [\"London\", \"Berlin\", \"Madrid\", \"Rome\", \n",
    "                   \"Paris\", \"Vienna\", \"Bucharest\", \"Hamburg\", \n",
    "                   \"Budapest\", \"Warsaw\", \"Barcelona\", \n",
    "                   \"Munich\", \"Milan\"],\n",
    "          \"population\": [8615246, 3562166, 3165235, 2874038,\n",
    "                         2273305, 1805681, 1803425, 1760433,\n",
    "                         1754000, 1740119, 1602386, 1493900,\n",
    "                         1350680],\n",
    "          \"country\": [\"England\", \"Germany\", \"Spain\", \"Italy\",\n",
    "                      \"France\", \"Austria\", \"Romania\", \n",
    "                      \"Germany\", \"Hungary\", \"Poland\", \"Spain\",\n",
    "                      \"Germany\", \"Italy\"]}\n",
    "city_frame = pd.DataFrame(cities)\n",
    "city_frame.head()"
   ]
  },
  {
   "cell_type": "markdown",
   "metadata": {},
   "source": [
    "Notice the DataFrame is sorted by column name. We can change the order by indexing them in the order we desire:"
   ]
  },
  {
   "cell_type": "code",
   "execution_count": null,
   "metadata": {
    "collapsed": false
   },
   "outputs": [],
   "source": [
    "city_frame[[\"name\",\"country\",\"population\"]].tail()"
   ]
  },
  {
   "cell_type": "code",
   "execution_count": null,
   "metadata": {
    "collapsed": false
   },
   "outputs": [],
   "source": [
    "city_frame.columns"
   ]
  },
  {
   "cell_type": "code",
   "execution_count": null,
   "metadata": {
    "collapsed": false
   },
   "outputs": [],
   "source": [
    "city_frame.dtypes"
   ]
  },
  {
   "cell_type": "markdown",
   "metadata": {},
   "source": [
    "##### Feedback from Dr. Saigal\n",
    "\n",
    "1. Experienced vs New users of Python. Find out how comfortable people are in. \n",
    "https://docs.google.com/spreadsheets/d/1PsJgIOTvNPALtAGVmIxFUK58MN6egB98Eq55gRd-P0I/edit#gid=591533060\n",
    "\n",
    "2. Two person teams in which the excerise is done.\n",
    "\n",
    "3. Take Charge\n",
    "\n",
    "4. Think about present in standard format.\n",
    "   what, why and how its done.\n",
    "   \n",
    "5. Start with differentiate with R. No need to sell Python. But why python Who is using, what are the applications.\n",
    "\n",
    "6. Start a Web Scraping Application : Product recommendation engine and what is they recommend. "
   ]
  },
  {
   "cell_type": "markdown",
   "metadata": {},
   "source": [
    "## Web Scraping using Python"
   ]
  },
  {
   "cell_type": "code",
   "execution_count": null,
   "metadata": {
    "collapsed": false
   },
   "outputs": [],
   "source": [
    "#import the library used to query a website\n",
    "import urllib3 as url\n",
    "#specify the url\n",
    "wiki = \"https://en.wikipedia.org/wiki/List_of_state_and_union_territory_capitals_in_India\""
   ]
  },
  {
   "cell_type": "code",
   "execution_count": null,
   "metadata": {
    "collapsed": false
   },
   "outputs": [],
   "source": [
    "wiki"
   ]
  },
  {
   "cell_type": "code",
   "execution_count": null,
   "metadata": {
    "collapsed": false
   },
   "outputs": [],
   "source": [
    "http = urllib3.PoolManager()\n",
    "r = http.request('GET', wiki)\n",
    "print(r.status)\n",
    "#print(r.data)\n",
    "\n",
    "#import the Beautiful soup functions to parse the data returned from the website\n",
    "from bs4 import BeautifulSoup\n",
    "#Parse the html in the 'page' variable, and store it in Beautiful Soup format\n",
    "soup = BeautifulSoup(r.data)\n"
   ]
  },
  {
   "cell_type": "code",
   "execution_count": null,
   "metadata": {
    "collapsed": false
   },
   "outputs": [],
   "source": [
    "print(soup)"
   ]
  },
  {
   "cell_type": "code",
   "execution_count": null,
   "metadata": {
    "collapsed": false
   },
   "outputs": [],
   "source": [
    "soup.prettify()"
   ]
  },
  {
   "cell_type": "code",
   "execution_count": null,
   "metadata": {
    "collapsed": false
   },
   "outputs": [],
   "source": [
    "soup.body()"
   ]
  },
  {
   "cell_type": "code",
   "execution_count": null,
   "metadata": {
    "collapsed": true
   },
   "outputs": [],
   "source": [
    "https://medium.freecodecamp.org/how-to-scrape-websites-with-python-and-beautifulsoup-5946935d93fe"
   ]
  }
 ],
 "metadata": {
  "anaconda-cloud": {},
  "hide_input": false,
  "kernelspec": {
   "display_name": "Python [conda root]",
   "language": "python",
   "name": "conda-root-py"
  },
  "language_info": {
   "codemirror_mode": {
    "name": "ipython",
    "version": 3
   },
   "file_extension": ".py",
   "mimetype": "text/x-python",
   "name": "python",
   "nbconvert_exporter": "python",
   "pygments_lexer": "ipython3",
   "version": "3.5.2"
  },
  "toc": {
   "colors": {
    "hover_highlight": "#DAA520",
    "running_highlight": "#FF0000",
    "selected_highlight": "#FFD700"
   },
   "moveMenuLeft": true,
   "nav_menu": {
    "height": "102px",
    "width": "252px"
   },
   "navigate_menu": true,
   "number_sections": false,
   "sideBar": true,
   "threshold": 4,
   "toc_cell": true,
   "toc_position": {
    "height": "573px",
    "left": "0px",
    "right": "20px",
    "top": "106px",
    "width": "213px"
   },
   "toc_section_display": "block",
   "toc_window_display": true
  }
 },
 "nbformat": 4,
 "nbformat_minor": 1
}
