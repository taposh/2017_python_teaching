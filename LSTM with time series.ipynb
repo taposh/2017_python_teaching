{
 "cells": [
  {
   "cell_type": "markdown",
   "metadata": {
    "collapsed": true
   },
   "source": [
    "# LSTM with Time Series"
   ]
  },
  {
   "cell_type": "code",
   "execution_count": 1,
   "metadata": {
    "collapsed": false
   },
   "outputs": [],
   "source": [
    "# load and plot dataset\n",
    "import pandas \n",
    "from pandas import read_csv\n",
    "from pandas import datetime\n",
    "from matplotlib import pyplot\n"
   ]
  },
  {
   "cell_type": "code",
   "execution_count": 5,
   "metadata": {
    "collapsed": false
   },
   "outputs": [
    {
     "name": "stdout",
     "output_type": "stream",
     "text": [
      "Month\n",
      "1-Jan     266.0\n",
      "2-Jan     145.9\n",
      "3-Jan     183.1\n",
      "4-Jan     119.3\n",
      "5-Jan     180.3\n",
      "6-Jan     168.5\n",
      "7-Jan     231.8\n",
      "8-Jan     224.5\n",
      "9-Jan     192.8\n",
      "10-Jan    122.9\n",
      "11-Jan    336.5\n",
      "12-Jan    185.9\n",
      "1-Feb     194.3\n",
      "2-Feb     149.5\n",
      "3-Feb     210.1\n",
      "4-Feb     273.3\n",
      "5-Feb     191.4\n",
      "6-Feb     287.0\n",
      "7-Feb     226.0\n",
      "8-Feb     303.6\n",
      "Name: Sales of shampoo over a three year period, dtype: float64\n"
     ]
    },
    {
     "data": {
      "image/png": "[encoded data removed]",
      "text/plain": [
       "<matplotlib.figure.Figure at 0x10f75aac8>"
      ]
     },
     "metadata": {},
     "output_type": "display_data"
    }
   ],
   "source": [
    "# load dataset\n",
    "#def parser(x):\n",
    "#\treturn datetime.strptime('190'+x, '%Y-%m')\n",
    "\n",
    "# Series\n",
    "series = read_csv('shampoo-sales.csv', header=0, parse_dates=[0], index_col=0, squeeze=True)\n",
    "\n",
    "\n",
    "# summarize first few rows\n",
    "print(series.head(20))\n",
    "\n",
    "# line plot\n",
    "series.plot()\n",
    "pyplot.show()"
   ]
  },
  {
   "cell_type": "code",
   "execution_count": null,
   "metadata": {
    "collapsed": true
   },
   "outputs": [],
   "source": []
  }
 ],
 "metadata": {
  "anaconda-cloud": {},
  "hide_input": false,
  "kernelspec": {
   "display_name": "Python [conda root]",
   "language": "python",
   "name": "conda-root-py"
  },
  "language_info": {
   "codemirror_mode": {
    "name": "ipython",
    "version": 3
   },
   "file_extension": ".py",
   "mimetype": "text/x-python",
   "name": "python",
   "nbconvert_exporter": "python",
   "pygments_lexer": "ipython3",
   "version": "3.5.2"
  },
  "toc": {
   "colors": {
    "hover_highlight": "#DAA520",
    "running_highlight": "#FF0000",
    "selected_highlight": "#FFD700"
   },
   "moveMenuLeft": true,
   "nav_menu": {
    "height": "12px",
    "width": "252px"
   },
   "navigate_menu": true,
   "number_sections": true,
   "sideBar": true,
   "threshold": 4,
   "toc_cell": false,
   "toc_section_display": "block",
   "toc_window_display": false
  }
 },
 "nbformat": 4,
 "nbformat_minor": 2
}
