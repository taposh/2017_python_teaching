{
 "cells": [
  {
   "cell_type": "markdown",
   "metadata": {},
   "source": [
    "# Introduction to Python"
   ]
  },
  {
   "cell_type": "markdown",
   "metadata": {},
   "source": [
    "## Clear workspace in python \n",
    "Shell commands can be invoked using \"!\" followed by shellcommand. This was done in R using (#rm(list=ls()) command."
   ]
  },
  {
   "cell_type": "code",
   "execution_count": null,
   "metadata": {
    "collapsed": true
   },
   "outputs": [],
   "source": [
    "!clear"
   ]
  },
  {
   "cell_type": "markdown",
   "metadata": {},
   "source": [
    "## Basic Operations in Python"
   ]
  },
  {
   "cell_type": "code",
   "execution_count": 8,
   "metadata": {
    "collapsed": false
   },
   "outputs": [
    {
     "data": {
      "text/plain": [
       "6"
      ]
     },
     "execution_count": 8,
     "metadata": {},
     "output_type": "execute_result"
    }
   ],
   "source": [
    "#Pretty advanced stuff.\n",
    "2*3"
   ]
  },
  {
   "cell_type": "code",
   "execution_count": 9,
   "metadata": {
    "collapsed": false
   },
   "outputs": [
    {
     "data": {
      "text/plain": [
       "6"
      ]
     },
     "execution_count": 9,
     "metadata": {},
     "output_type": "execute_result"
    }
   ],
   "source": [
    "#Store values and carry out operations.\n",
    "x = 2; y = 3; x*y "
   ]
  },
  {
   "cell_type": "code",
   "execution_count": 15,
   "metadata": {
    "collapsed": false
   },
   "outputs": [
    {
     "name": "stdout",
     "output_type": "stream",
     "text": [
      "range(0, 5)\n"
     ]
    }
   ],
   "source": [
    "#Store a sequence of values in a vector.\n",
    "y = range(5) \n",
    "print(y)"
   ]
  },
  {
   "cell_type": "code",
   "execution_count": null,
   "metadata": {
    "collapsed": true
   },
   "outputs": [],
   "source": [
    "# Basic operations in R\n",
    "2*3                                                                              #Pretty advanced stuff.\n",
    "x <- 2; y <- 3; x*y                                                              #Store values and carry out operations.\n",
    "y <- 1:5                                                                         #Store a sequence of values in a vector.\n",
    "x*y                                                                              #Can do operation against the whole vector.\n",
    "z <- x*y                                                                         #Can store the result also.\n",
    "z                                                                                #How to see the result.\n",
    "mean(y); sum(y); length(y)                                                       #Some basic functions.\n",
    "tmp <- mean(y)                                                                   #You can store the result of a function also.\n",
    "plot(y,z)                                                                        #How to plot the result.\n",
    "plot(x,z)                                                                        #Let's get our first bug.\n",
    "plot(rep(x,5), z)                                                                #One way to fix it...note embedded functions.\n",
    "plot(rep(x,length(z)), z)                                                        #Even more embedded functions.\n",
    "?plot                                                                            #Let's look at the help for plot.\n",
    "plot(x=rep(x,length(z)), y=z)                                                    #It's good practice to make function calls easier to understand.\n",
    "tmp <- data.frame(x, y, z)                                                       #Creating a table of our variables.\n",
    "tmp                                                                              #Let's see what happened...\n",
    "plot(x=tmp$x, y=tmp$z)                                                           #Now we can plot using the dataframe.\n",
    "with(tmp, plot(x=x, y=z))                                                        #The same thing.\n",
    "with(data.frame(x, y, z), plot(x=x, y=z))                                        #Ill-advised, but exercise in using what we've learned.\n",
    "with(tmp, plot(x=x, y=z, main=\"Silly Plot\", xlab=\"x-axis\", pch=23))              #A couple more options.\n",
    "rm(tmp,x)                                                                        #Removing one object.\n",
    "rm(list=ls())                                                                    #Clear workspace.\n"
   ]
  }
 ],
 "metadata": {
  "hide_input": false,
  "kernelspec": {
   "display_name": "Python [conda root]",
   "language": "python",
   "name": "conda-root-py"
  },
  "language_info": {
   "codemirror_mode": {
    "name": "ipython",
    "version": 3
   },
   "file_extension": ".py",
   "mimetype": "text/x-python",
   "name": "python",
   "nbconvert_exporter": "python",
   "pygments_lexer": "ipython3",
   "version": "3.5.2"
  },
  "toc": {
   "colors": {
    "hover_highlight": "#DAA520",
    "running_highlight": "#FF0000",
    "selected_highlight": "#FFD700"
   },
   "moveMenuLeft": true,
   "nav_menu": {
    "height": "66px",
    "width": "252px"
   },
   "navigate_menu": true,
   "number_sections": true,
   "sideBar": true,
   "threshold": 4,
   "toc_cell": false,
   "toc_section_display": "block",
   "toc_window_display": false
  }
 },
 "nbformat": 4,
 "nbformat_minor": 2
}
