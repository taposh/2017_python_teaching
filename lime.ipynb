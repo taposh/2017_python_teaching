{
 "cells": [
  {
   "cell_type": "markdown",
   "metadata": {},
   "source": [
    "# Lime Example "
   ]
  },
  {
   "cell_type": "code",
   "execution_count": 2,
   "metadata": {
    "collapsed": true
   },
   "outputs": [],
   "source": [
    "import lime\n",
    "import sklearn\n",
    "import numpy as np\n",
    "import sklearn\n",
    "import sklearn.ensemble\n",
    "import sklearn.metrics\n",
    "from __future__ import print_function"
   ]
  },
  {
   "cell_type": "markdown",
   "metadata": {},
   "source": [
    "### Fetching data, training a classifier\n",
    "For this tutorial, we'll be using the 20 newsgroups dataset. In particular, for simplicity, we'll use a 2-class subset: atheism and christianity."
   ]
  },
  {
   "cell_type": "code",
   "execution_count": 3,
   "metadata": {
    "collapsed": false
   },
   "outputs": [],
   "source": [
    "from sklearn.datasets import fetch_20newsgroups\n",
    "categories = ['alt.atheism', 'soc.religion.christian']\n",
    "newsgroups_train = fetch_20newsgroups(subset='train', categories=categories)\n",
    "newsgroups_test = fetch_20newsgroups(subset='test', categories=categories)\n",
    "class_names = ['atheism', 'christian']"
   ]
  },
  {
   "cell_type": "raw",
   "metadata": {},
   "source": [
    "http://marcotcr.github.io/lime/tutorials/Lime%20-%20basic%20usage%2C%20two%20class%20case.html"
   ]
  },
  {
   "cell_type": "code",
   "execution_count": 4,
   "metadata": {
    "collapsed": true
   },
   "outputs": [],
   "source": [
    "vectorizer = sklearn.feature_extraction.text.TfidfVectorizer(lowercase=False)\n",
    "train_vectors = vectorizer.fit_transform(newsgroups_train.data)\n",
    "test_vectors = vectorizer.transform(newsgroups_test.data)"
   ]
  },
  {
   "cell_type": "code",
   "execution_count": 5,
   "metadata": {
    "collapsed": false
   },
   "outputs": [
    {
     "data": {
      "text/plain": [
       "RandomForestClassifier(bootstrap=True, class_weight=None, criterion='gini',\n",
       "            max_depth=None, max_features='auto', max_leaf_nodes=None,\n",
       "            min_impurity_split=1e-07, min_samples_leaf=1,\n",
       "            min_samples_split=2, min_weight_fraction_leaf=0.0,\n",
       "            n_estimators=500, n_jobs=1, oob_score=False, random_state=None,\n",
       "            verbose=0, warm_start=False)"
      ]
     },
     "execution_count": 5,
     "metadata": {},
     "output_type": "execute_result"
    }
   ],
   "source": [
    "rf = sklearn.ensemble.RandomForestClassifier(n_estimators=500)\n",
    "rf.fit(train_vectors, newsgroups_train.target)"
   ]
  },
  {
   "cell_type": "code",
   "execution_count": 6,
   "metadata": {
    "collapsed": false
   },
   "outputs": [
    {
     "data": {
      "text/plain": [
       "0.92415402567094507"
      ]
     },
     "execution_count": 6,
     "metadata": {},
     "output_type": "execute_result"
    }
   ],
   "source": [
    "pred = rf.predict(test_vectors)\n",
    "sklearn.metrics.f1_score(newsgroups_test.target, pred, average='binary')"
   ]
  },
  {
   "cell_type": "markdown",
   "metadata": {},
   "source": [
    "# Explaining predictions using lime"
   ]
  },
  {
   "cell_type": "raw",
   "metadata": {},
   "source": [
    "Lime explainers assume that classifiers act on raw text, but sklearn classifiers act on vectorized representation of texts. For this purpose, we use sklearn's pipeline, and implements predict_proba on raw_text lists."
   ]
  },
  {
   "cell_type": "code",
   "execution_count": 7,
   "metadata": {
    "collapsed": false
   },
   "outputs": [],
   "source": [
    "from lime import lime_text\n",
    "from sklearn.pipeline import make_pipeline\n",
    "c = make_pipeline(vectorizer, rf)"
   ]
  },
  {
   "cell_type": "code",
   "execution_count": 8,
   "metadata": {
    "collapsed": false
   },
   "outputs": [
    {
     "name": "stdout",
     "output_type": "stream",
     "text": [
      "[[ 0.278  0.722]]\n"
     ]
    }
   ],
   "source": [
    "print(c.predict_proba([newsgroups_test.data[0]]))"
   ]
  },
  {
   "cell_type": "code",
   "execution_count": 9,
   "metadata": {
    "collapsed": true
   },
   "outputs": [],
   "source": [
    "from lime.lime_text import LimeTextExplainer\n",
    "explainer = LimeTextExplainer(class_names=class_names)"
   ]
  },
  {
   "cell_type": "code",
   "execution_count": 10,
   "metadata": {
    "collapsed": false
   },
   "outputs": [
    {
     "name": "stderr",
     "output_type": "stream",
     "text": [
      "/Users/taposh/anaconda/lib/python3.5/re.py:203: FutureWarning: split() requires a non-empty pattern match.\n",
      "  return _compile(pattern, flags).split(string, maxsplit)\n"
     ]
    },
    {
     "name": "stdout",
     "output_type": "stream",
     "text": [
      "Document id: 83\n",
      "Probability(christian) = 0.464\n",
      "True class: atheism\n"
     ]
    }
   ],
   "source": [
    "idx = 83\n",
    "exp = explainer.explain_instance(newsgroups_test.data[idx], c.predict_proba, num_features=6)\n",
    "print('Document id: %d' % idx)\n",
    "print('Probability(christian) =', c.predict_proba([newsgroups_test.data[idx]])[0,1])\n",
    "print('True class: %s' % class_names[newsgroups_test.target[idx]])"
   ]
  },
  {
   "cell_type": "code",
   "execution_count": 11,
   "metadata": {
    "collapsed": false
   },
   "outputs": [
    {
     "data": {
      "text/plain": [
       "[('Posting', -0.15178491472598793),\n",
       " ('Host', -0.11665785684314793),\n",
       " ('NNTP', -0.10352804583294961),\n",
       " ('edu', -0.034497708206410668),\n",
       " ('There', -0.012767383793923084),\n",
       " ('New', 0.011477168620465801)]"
      ]
     },
     "execution_count": 11,
     "metadata": {},
     "output_type": "execute_result"
    }
   ],
   "source": [
    "exp.as_list()"
   ]
  },
  {
   "cell_type": "code",
   "execution_count": 12,
   "metadata": {
    "collapsed": false
   },
   "outputs": [
    {
     "name": "stdout",
     "output_type": "stream",
     "text": [
      "Original prediction: 0.464\n",
      "Prediction removing some features: 0.708\n",
      "Difference: 0.244\n"
     ]
    }
   ],
   "source": [
    "print('Original prediction:', rf.predict_proba(test_vectors[idx])[0,1])\n",
    "tmp = test_vectors[idx].copy()\n",
    "tmp[0,vectorizer.vocabulary_['Posting']] = 0\n",
    "tmp[0,vectorizer.vocabulary_['Host']] = 0\n",
    "print('Prediction removing some features:', rf.predict_proba(tmp)[0,1])\n",
    "print('Difference:', rf.predict_proba(tmp)[0,1] - rf.predict_proba(test_vectors[idx])[0,1])"
   ]
  },
  {
   "cell_type": "code",
   "execution_count": 13,
   "metadata": {
    "collapsed": false
   },
   "outputs": [
    {
     "data": {
      "image/png": "[encoded data removed]",
      "text/plain": [
       "<matplotlib.figure.Figure at 0x10b2c20b8>"
      ]
     },
     "metadata": {},
     "output_type": "display_data"
    }
   ],
   "source": [
    "%matplotlib inline\n",
    "fig = exp.as_pyplot_figure()"
   ]
  },
  {
   "cell_type": "code",
   "execution_count": 15,
   "metadata": {
    "collapsed": false
   },
   "outputs": [
    {
     "data": {
      "text/html": [
       "<html>\n",
       "        <meta http-equiv=\"content-type\" content=\"text/html; charset=UTF8\">\n",
       "        <head><script>var lime =\n",
       "/******/ (function(modules) { // webpackBootstrap\n",
       "/******/ \t// The module cache\n",
       "/******/ \tvar installedModules = {};\n",
       "/******/\n",
       "/******/ \t// The require function\n",
       "/******/ \tfunction __webpack_require__(moduleId) {\n",
       "/******/\n",
       "/******/ \t\t// Check if module is in cache\n",
       "/******/ \t\tif(installedModules[moduleId])\n",
       "/******/ \t\t\treturn installedModules[moduleId].exports;\n",
       "/******/\n",
       "/******/ \t\t// Create a new module (and put it into the cache)\n",
       "/******/ \t\tvar module = installedModules[moduleId] = {\n",
       "/******/ \t\t\texports: {},\n",
       "/******/ \t\t\tid: moduleId,\n",
       "/******/ \t\t\tloaded: false\n",
       "/******/ \t\t};\n",
       "/******/\n",
       "/******/ \t\t// Execute the module function\n",
       "/******/ \t\tmodules[moduleId].call(module.exports, module, module.exports, __webpack_require__);\n",
       "/******/\n",
       "/******/ \t\t// Flag the module as loaded\n",
       "/******/ \t\tmodule.loaded = true;\n",
       "/******/\n",
       "/******/ \t\t// Return the exports of the module\n",
       "/******/ \t\treturn module.exports;\n",
       "/******/ \t}\n",
       "/******/\n",
       "/******/\n",
       "/******/ \t// expose the modules object (__webpack_modules__)\n",
       "/******/ \t__webpack_require__.m = modules;\n",
       "/******/\n",
       "/******/ \t// expose the module cache\n",
       "/******/ \t__webpack_require__.c = installedModules;\n",
       "/******/\n",
       "/******/ \t// __webpack_public_path__\n",
       "/******/ \t__webpack_require__.p = \"\";\n",
       "/******/\n",
       "/******/ \t// Load entry module and return exports\n",
       "/******/ \treturn __webpack_require__(0);\n",
       "/******/ })\n",
       "/************************************************************************/\n",
       "/******/ ([\n",
       "/* 0 */\n",
       "/***/ (function(module, exports, __webpack_require__) {\n",
       "\n",
       "\t/* WEBPACK VAR INJECTION */(function(global) {'use strict';\n",
       "\t\n",
       "\tObject.defineProperty(exports, \"__esModule\", {\n",
       "\t  value: true\n",
       "\t});\n",
       "\texports.PredictedValue = exports.PredictProba = exports.Barchart = exports.Explanation = undefined;\n",
       "\t\n",
       "\tvar _explanation = __webpack_require__(1);\n",
       "\t\n",
       "\tvar _explanation2 = _interopRequireDefault(_explanation);\n",
       "\t\n",
       "\tvar _bar_chart = __webpack_require__(3);\n",
       "\t\n",
       "\tvar _bar_chart2 = _interopRequireDefault(_bar_chart);\n",
       "\t\n",
       "\tvar _predict_proba = __webpack_require__(6);\n",
       "\t\n",
       "\tvar _predict_proba2 = _interopRequireDefault(_predict_proba);\n",
       "\t\n",
       "\tvar _predicted_value = __webpack_require__(7);\n",
       "\t\n",
       "\tvar _predicted_value2 = _interopRequireDefault(_predicted_value);\n",
       "\t\n",
       "\tfunction _interopRequireDefault(obj) { return obj && obj.__esModule ? obj : { default: obj }; }\n",
       "\t\n",
       "\tif (!global._babelPolyfill) {\n",
       "\t  __webpack_require__(8);\n",
       "\t}\n",
       "\t\n",
       "\t__webpack_require__(304);\n",
       "\t\n",
       "\texports.Explanation = _explanation2.default;\n",
       "\texports.Barchart = _bar_chart2.default;\n",
       "\texports.PredictProba = _predict_proba2.default;\n",
       "\texports.PredictedValue = _predicted_value2.default;\n",
       "\t//require('style-loader');\n",
       "\t/* WEBPACK VAR INJECTION */}.call(exports, (function() { return this; }())))\n",
       "\n",
       "/***/ }),\n",
       "/* 1 */\n",
       "/***/ (function(module, exports, __webpack_require__) {\n",
       "\n",
       "\t'use strict';\n",
       "\t\n",
       "\tObject.defineProperty(exports, \"__esModule\", {\n",
       "\t  value: true\n",
       "\t});\n",
       "\t\n",
       "\tvar _slicedToArray = function () { function sliceIterator(arr, i) { var _arr = []; var _n = true; var _d = false; var _e = undefined; try { for (var _i = arr[Symbol.iterator](), _s; !(_n = (_s = _i.next()).done); _n = true) { _arr.push(_s.value); if (i && _arr.length === i) break; } } catch (err) { _d = true; _e = err; } finally { try { if (!_n && _i[\"return\"]) _i[\"return\"](); } finally { if (_d) throw _e; } } return _arr; } return function (arr, i) { if (Array.isArray(arr)) { return arr; } else if (Symbol.iterator in Object(arr)) { return sliceIterator(arr, i); } else { throw new TypeError(\"Invalid attempt to destructure non-iterable instance\"); } }; }();\n",
       "\t\n",
       "\tvar _d2 = __webpack_require__(2);\n",
       "\t\n",
       "\tvar _d3 = _interopRequireDefault(_d2);\n",
       "\t\n",
       "\tvar _bar_chart = __webpack_require__(3);\n",
       "\t\n",
       "\tvar _bar_chart2 = _interopRequireDefault(_bar_chart);\n",
       "\t\n",
       "\tvar _lodash = __webpack_require__(4);\n",
       "\t\n",
       "\tfunction _interopRequireDefault(obj) { return obj && obj.__esModule ? obj : { default: obj }; }\n",
       "\t\n",
       "\tfunction _classCallCheck(instance, Constructor) { if (!(instance instanceof Constructor)) { throw new TypeError(\"Cannot call a class as a function\"); } }\n",
       "\t\n",
       "\tvar Explanation = function () {\n",
       "\t  function Explanation(class_names) {\n",
       "\t    _classCallCheck(this, Explanation);\n",
       "\t\n",
       "\t    this.names = class_names;\n",
       "\t    if (class_names.length < 10) {\n",
       "\t      this.colors = _d3.default.scale.category10().domain(this.names);\n",
       "\t      this.colors_i = _d3.default.scale.category10().domain((0, _lodash.range)(this.names.length));\n",
       "\t    } else {\n",
       "\t      this.colors = _d3.default.scale.category20().domain(this.names);\n",
       "\t      this.colors_i = _d3.default.scale.category20().domain((0, _lodash.range)(this.names.length));\n",
       "\t    }\n",
       "\t  }\n",
       "\t  // exp: [(feature-name, weight), ...]\n",
       "\t  // label: int\n",
       "\t  // div: d3 selection\n",
       "\t\n",
       "\t\n",
       "\t  Explanation.prototype.show = function show(exp, label, div) {\n",
       "\t    var svg = div.append('svg').style('width', '100%');\n",
       "\t    var colors = ['#5F9EA0', this.colors_i(label)];\n",
       "\t    var names = ['NOT ' + this.names[label], this.names[label]];\n",
       "\t    if (this.names.length == 2) {\n",
       "\t      colors = [this.colors_i(0), this.colors_i(1)];\n",
       "\t      names = this.names;\n",
       "\t    }\n",
       "\t    var plot = new _bar_chart2.default(svg, exp, true, names, colors, true, 10);\n",
       "\t    svg.style('height', plot.svg_height);\n",
       "\t  };\n",
       "\t  // exp has all ocurrences of words, with start index and weight:\n",
       "\t  // exp = [('word', 132, -0.13), ('word3', 111, 1.3)\n",
       "\t\n",
       "\t\n",
       "\t  Explanation.prototype.show_raw_text = function show_raw_text(exp, label, raw, div) {\n",
       "\t    var opacity = arguments.length > 4 && arguments[4] !== undefined ? arguments[4] : true;\n",
       "\t\n",
       "\t    //let colors=['#5F9EA0', this.colors(this.exp['class'])];\n",
       "\t    var colors = ['#5F9EA0', this.colors_i(label)];\n",
       "\t    if (this.names.length == 2) {\n",
       "\t      colors = [this.colors_i(0), this.colors_i(1)];\n",
       "\t    }\n",
       "\t    var word_lists = [[], []];\n",
       "\t    var max_weight = -1;\n",
       "\t    var _iteratorNormalCompletion = true;\n",
       "\t    var _didIteratorError = false;\n",
       "\t    var _iteratorError = undefined;\n",
       "\t\n",
       "\t    try {\n",
       "\t      for (var _iterator = exp[Symbol.iterator](), _step; !(_iteratorNormalCompletion = (_step = _iterator.next()).done); _iteratorNormalCompletion = true) {\n",
       "\t        var _step$value = _slicedToArray(_step.value, 3),\n",
       "\t            word = _step$value[0],\n",
       "\t            start = _step$value[1],\n",
       "\t            weight = _step$value[2];\n",
       "\t\n",
       "\t        if (weight > 0) {\n",
       "\t          word_lists[1].push([start, start + word.length, weight]);\n",
       "\t        } else {\n",
       "\t          word_lists[0].push([start, start + word.length, -weight]);\n",
       "\t        }\n",
       "\t        max_weight = Math.max(max_weight, Math.abs(weight));\n",
       "\t      }\n",
       "\t    } catch (err) {\n",
       "\t      _didIteratorError = true;\n",
       "\t      _iteratorError = err;\n",
       "\t    } finally {\n",
       "\t      try {\n",
       "\t        if (!_iteratorNormalCompletion && _iterator.return) {\n",
       "\t          _iterator.return();\n",
       "\t        }\n",
       "\t      } finally {\n",
       "\t        if (_didIteratorError) {\n",
       "\t          throw _iteratorError;\n",
       "\t        }\n",
       "\t      }\n",
       "\t    }\n",
       "\t\n",
       "\t    if (!opacity) {\n",
       "\t      max_weight = 0;\n",
       "\t    }\n",
       "\t    this.display_raw_text(div, raw, word_lists, colors, max_weight, true);\n",
       "\t  };\n",
       "\t  // exp is list of (feature_name, value, weight)\n",
       "\t\n",
       "\t\n",
       "\t  Explanation.prototype.show_raw_tabular = function show_raw_tabular(exp, label, div) {\n",
       "\t    div.classed('lime', true).classed('table_div', true);\n",
       "\t    var colors = ['#5F9EA0', this.colors_i(label)];\n",
       "\t    if (this.names.length == 2) {\n",
       "\t      colors = [this.colors_i(0), this.colors_i(1)];\n",
       "\t    }\n",
       "\t    var table = div.append('table');\n",
       "\t    var thead = table.append('tr');\n",
       "\t    thead.append('td').text('Feature');\n",
       "\t    thead.append('td').text('Value');\n",
       "\t    thead.style('color', 'black').style('font-size', '20px');\n",
       "\t    var _iteratorNormalCompletion2 = true;\n",
       "\t    var _didIteratorError2 = false;\n",
       "\t    var _iteratorError2 = undefined;\n",
       "\t\n",
       "\t    try {\n",
       "\t      for (var _iterator2 = exp[Symbol.iterator](), _step2; !(_iteratorNormalCompletion2 = (_step2 = _iterator2.next()).done); _iteratorNormalCompletion2 = true) {\n",
       "\t        var _step2$value = _slicedToArray(_step2.value, 3),\n",
       "\t            fname = _step2$value[0],\n",
       "\t            value = _step2$value[1],\n",
       "\t            weight = _step2$value[2];\n",
       "\t\n",
       "\t        var tr = table.append('tr');\n",
       "\t        tr.style('border-style', 'hidden');\n",
       "\t        tr.append('td').text(fname);\n",
       "\t        tr.append('td').text(value);\n",
       "\t        if (weight > 0) {\n",
       "\t          tr.style('background-color', colors[1]);\n",
       "\t        } else if (weight < 0) {\n",
       "\t          tr.style('background-color', colors[0]);\n",
       "\t        } else {\n",
       "\t          tr.style('color', 'black');\n",
       "\t        }\n",
       "\t      }\n",
       "\t    } catch (err) {\n",
       "\t      _didIteratorError2 = true;\n",
       "\t      _iteratorError2 = err;\n",
       "\t    } finally {\n",
       "\t      try {\n",
       "\t        if (!_iteratorNormalCompletion2 && _iterator2.return) {\n",
       "\t          _iterator2.return();\n",
       "\t        }\n",
       "\t      } finally {\n",
       "\t        if (_didIteratorError2) {\n",
       "\t          throw _iteratorError2;\n",
       "\t        }\n",
       "\t      }\n",
       "\t    }\n",
       "\t  };\n",
       "\t\n",
       "\t  Explanation.prototype.hexToRgb = function hexToRgb(hex) {\n",
       "\t    var result = /^#?([a-f\\d]{2})([a-f\\d]{2})([a-f\\d]{2})$/i.exec(hex);\n",
       "\t    return result ? {\n",
       "\t      r: parseInt(result[1], 16),\n",
       "\t      g: parseInt(result[2], 16),\n",
       "\t      b: parseInt(result[3], 16)\n",
       "\t    } : null;\n",
       "\t  };\n",
       "\t\n",
       "\t  Explanation.prototype.applyAlpha = function applyAlpha(hex, alpha) {\n",
       "\t    var components = this.hexToRgb(hex);\n",
       "\t    return 'rgba(' + components.r + \",\" + components.g + \",\" + components.b + \",\" + alpha.toFixed(3) + \")\";\n",
       "\t  };\n",
       "\t  // sord_lists is an array of arrays, of length (colors). if with_positions is true,\n",
       "\t  // word_lists is an array of [start,end] positions instead\n",
       "\t\n",
       "\t\n",
       "\t  Explanation.prototype.display_raw_text = function display_raw_text(div, raw_text) {\n",
       "\t    var word_lists = arguments.length > 2 && arguments[2] !== undefined ? arguments[2] : [];\n",
       "\t    var colors = arguments.length > 3 && arguments[3] !== undefined ? arguments[3] : [];\n",
       "\t    var max_weight = arguments.length > 4 && arguments[4] !== undefined ? arguments[4] : 1;\n",
       "\t    var positions = arguments.length > 5 && arguments[5] !== undefined ? arguments[5] : false;\n",
       "\t\n",
       "\t    div.classed('lime', true).classed('text_div', true);\n",
       "\t    div.append('h3').text('Text with highlighted words')"
      ],
      "text/plain": [
       "<IPython.core.display.HTML object>"
      ]
     },
     "metadata": {},
     "output_type": "display_data"
    },
    {
     "data": {
      "text/html": [
       "<b>limit_output extension: Maximum message size of 10000 exceeded with 1201791 characters</b>"
      ]
     },
     "metadata": {},
     "output_type": "display_data"
    }
   ],
   "source": [
    "exp.show_in_notebook()"
   ]
  },
  {
   "cell_type": "code",
   "execution_count": 16,
   "metadata": {
    "collapsed": true
   },
   "outputs": [],
   "source": [
    "exp.save_to_file('/tmp/oi.html')"
   ]
  },
  {
   "cell_type": "code",
   "execution_count": 17,
   "metadata": {
    "collapsed": false
   },
   "outputs": [
    {
     "data": {
      "text/html": [
       "<html>\n",
       "        <meta http-equiv=\"content-type\" content=\"text/html; charset=UTF8\">\n",
       "        <head><script>var lime =\n",
       "/******/ (function(modules) { // webpackBootstrap\n",
       "/******/ \t// The module cache\n",
       "/******/ \tvar installedModules = {};\n",
       "/******/\n",
       "/******/ \t// The require function\n",
       "/******/ \tfunction __webpack_require__(moduleId) {\n",
       "/******/\n",
       "/******/ \t\t// Check if module is in cache\n",
       "/******/ \t\tif(installedModules[moduleId])\n",
       "/******/ \t\t\treturn installedModules[moduleId].exports;\n",
       "/******/\n",
       "/******/ \t\t// Create a new module (and put it into the cache)\n",
       "/******/ \t\tvar module = installedModules[moduleId] = {\n",
       "/******/ \t\t\texports: {},\n",
       "/******/ \t\t\tid: moduleId,\n",
       "/******/ \t\t\tloaded: false\n",
       "/******/ \t\t};\n",
       "/******/\n",
       "/******/ \t\t// Execute the module function\n",
       "/******/ \t\tmodules[moduleId].call(module.exports, module, module.exports, __webpack_require__);\n",
       "/******/\n",
       "/******/ \t\t// Flag the module as loaded\n",
       "/******/ \t\tmodule.loaded = true;\n",
       "/******/\n",
       "/******/ \t\t// Return the exports of the module\n",
       "/******/ \t\treturn module.exports;\n",
       "/******/ \t}\n",
       "/******/\n",
       "/******/\n",
       "/******/ \t// expose the modules object (__webpack_modules__)\n",
       "/******/ \t__webpack_require__.m = modules;\n",
       "/******/\n",
       "/******/ \t// expose the module cache\n",
       "/******/ \t__webpack_require__.c = installedModules;\n",
       "/******/\n",
       "/******/ \t// __webpack_public_path__\n",
       "/******/ \t__webpack_require__.p = \"\";\n",
       "/******/\n",
       "/******/ \t// Load entry module and return exports\n",
       "/******/ \treturn __webpack_require__(0);\n",
       "/******/ })\n",
       "/************************************************************************/\n",
       "/******/ ([\n",
       "/* 0 */\n",
       "/***/ (function(module, exports, __webpack_require__) {\n",
       "\n",
       "\t/* WEBPACK VAR INJECTION */(function(global) {'use strict';\n",
       "\t\n",
       "\tObject.defineProperty(exports, \"__esModule\", {\n",
       "\t  value: true\n",
       "\t});\n",
       "\texports.PredictedValue = exports.PredictProba = exports.Barchart = exports.Explanation = undefined;\n",
       "\t\n",
       "\tvar _explanation = __webpack_require__(1);\n",
       "\t\n",
       "\tvar _explanation2 = _interopRequireDefault(_explanation);\n",
       "\t\n",
       "\tvar _bar_chart = __webpack_require__(3);\n",
       "\t\n",
       "\tvar _bar_chart2 = _interopRequireDefault(_bar_chart);\n",
       "\t\n",
       "\tvar _predict_proba = __webpack_require__(6);\n",
       "\t\n",
       "\tvar _predict_proba2 = _interopRequireDefault(_predict_proba);\n",
       "\t\n",
       "\tvar _predicted_value = __webpack_require__(7);\n",
       "\t\n",
       "\tvar _predicted_value2 = _interopRequireDefault(_predicted_value);\n",
       "\t\n",
       "\tfunction _interopRequireDefault(obj) { return obj && obj.__esModule ? obj : { default: obj }; }\n",
       "\t\n",
       "\tif (!global._babelPolyfill) {\n",
       "\t  __webpack_require__(8);\n",
       "\t}\n",
       "\t\n",
       "\t__webpack_require__(304);\n",
       "\t\n",
       "\texports.Explanation = _explanation2.default;\n",
       "\texports.Barchart = _bar_chart2.default;\n",
       "\texports.PredictProba = _predict_proba2.default;\n",
       "\texports.PredictedValue = _predicted_value2.default;\n",
       "\t//require('style-loader');\n",
       "\t/* WEBPACK VAR INJECTION */}.call(exports, (function() { return this; }())))\n",
       "\n",
       "/***/ }),\n",
       "/* 1 */\n",
       "/***/ (function(module, exports, __webpack_require__) {\n",
       "\n",
       "\t'use strict';\n",
       "\t\n",
       "\tObject.defineProperty(exports, \"__esModule\", {\n",
       "\t  value: true\n",
       "\t});\n",
       "\t\n",
       "\tvar _slicedToArray = function () { function sliceIterator(arr, i) { var _arr = []; var _n = true; var _d = false; var _e = undefined; try { for (var _i = arr[Symbol.iterator](), _s; !(_n = (_s = _i.next()).done); _n = true) { _arr.push(_s.value); if (i && _arr.length === i) break; } } catch (err) { _d = true; _e = err; } finally { try { if (!_n && _i[\"return\"]) _i[\"return\"](); } finally { if (_d) throw _e; } } return _arr; } return function (arr, i) { if (Array.isArray(arr)) { return arr; } else if (Symbol.iterator in Object(arr)) { return sliceIterator(arr, i); } else { throw new TypeError(\"Invalid attempt to destructure non-iterable instance\"); } }; }();\n",
       "\t\n",
       "\tvar _d2 = __webpack_require__(2);\n",
       "\t\n",
       "\tvar _d3 = _interopRequireDefault(_d2);\n",
       "\t\n",
       "\tvar _bar_chart = __webpack_require__(3);\n",
       "\t\n",
       "\tvar _bar_chart2 = _interopRequireDefault(_bar_chart);\n",
       "\t\n",
       "\tvar _lodash = __webpack_require__(4);\n",
       "\t\n",
       "\tfunction _interopRequireDefault(obj) { return obj && obj.__esModule ? obj : { default: obj }; }\n",
       "\t\n",
       "\tfunction _classCallCheck(instance, Constructor) { if (!(instance instanceof Constructor)) { throw new TypeError(\"Cannot call a class as a function\"); } }\n",
       "\t\n",
       "\tvar Explanation = function () {\n",
       "\t  function Explanation(class_names) {\n",
       "\t    _classCallCheck(this, Explanation);\n",
       "\t\n",
       "\t    this.names = class_names;\n",
       "\t    if (class_names.length < 10) {\n",
       "\t      this.colors = _d3.default.scale.category10().domain(this.names);\n",
       "\t      this.colors_i = _d3.default.scale.category10().domain((0, _lodash.range)(this.names.length));\n",
       "\t    } else {\n",
       "\t      this.colors = _d3.default.scale.category20().domain(this.names);\n",
       "\t      this.colors_i = _d3.default.scale.category20().domain((0, _lodash.range)(this.names.length));\n",
       "\t    }\n",
       "\t  }\n",
       "\t  // exp: [(feature-name, weight), ...]\n",
       "\t  // label: int\n",
       "\t  // div: d3 selection\n",
       "\t\n",
       "\t\n",
       "\t  Explanation.prototype.show = function show(exp, label, div) {\n",
       "\t    var svg = div.append('svg').style('width', '100%');\n",
       "\t    var colors = ['#5F9EA0', this.colors_i(label)];\n",
       "\t    var names = ['NOT ' + this.names[label], this.names[label]];\n",
       "\t    if (this.names.length == 2) {\n",
       "\t      colors = [this.colors_i(0), this.colors_i(1)];\n",
       "\t      names = this.names;\n",
       "\t    }\n",
       "\t    var plot = new _bar_chart2.default(svg, exp, true, names, colors, true, 10);\n",
       "\t    svg.style('height', plot.svg_height);\n",
       "\t  };\n",
       "\t  // exp has all ocurrences of words, with start index and weight:\n",
       "\t  // exp = [('word', 132, -0.13), ('word3', 111, 1.3)\n",
       "\t\n",
       "\t\n",
       "\t  Explanation.prototype.show_raw_text = function show_raw_text(exp, label, raw, div) {\n",
       "\t    var opacity = arguments.length > 4 && arguments[4] !== undefined ? arguments[4] : true;\n",
       "\t\n",
       "\t    //let colors=['#5F9EA0', this.colors(this.exp['class'])];\n",
       "\t    var colors = ['#5F9EA0', this.colors_i(label)];\n",
       "\t    if (this.names.length == 2) {\n",
       "\t      colors = [this.colors_i(0), this.colors_i(1)];\n",
       "\t    }\n",
       "\t    var word_lists = [[], []];\n",
       "\t    var max_weight = -1;\n",
       "\t    var _iteratorNormalCompletion = true;\n",
       "\t    var _didIteratorError = false;\n",
       "\t    var _iteratorError = undefined;\n",
       "\t\n",
       "\t    try {\n",
       "\t      for (var _iterator = exp[Symbol.iterator](), _step; !(_iteratorNormalCompletion = (_step = _iterator.next()).done); _iteratorNormalCompletion = true) {\n",
       "\t        var _step$value = _slicedToArray(_step.value, 3),\n",
       "\t            word = _step$value[0],\n",
       "\t            start = _step$value[1],\n",
       "\t            weight = _step$value[2];\n",
       "\t\n",
       "\t        if (weight > 0) {\n",
       "\t          word_lists[1].push([start, start + word.length, weight]);\n",
       "\t        } else {\n",
       "\t          word_lists[0].push([start, start + word.length, -weight]);\n",
       "\t        }\n",
       "\t        max_weight = Math.max(max_weight, Math.abs(weight));\n",
       "\t      }\n",
       "\t    } catch (err) {\n",
       "\t      _didIteratorError = true;\n",
       "\t      _iteratorError = err;\n",
       "\t    } finally {\n",
       "\t      try {\n",
       "\t        if (!_iteratorNormalCompletion && _iterator.return) {\n",
       "\t          _iterator.return();\n",
       "\t        }\n",
       "\t      } finally {\n",
       "\t        if (_didIteratorError) {\n",
       "\t          throw _iteratorError;\n",
       "\t        }\n",
       "\t      }\n",
       "\t    }\n",
       "\t\n",
       "\t    if (!opacity) {\n",
       "\t      max_weight = 0;\n",
       "\t    }\n",
       "\t    this.display_raw_text(div, raw, word_lists, colors, max_weight, true);\n",
       "\t  };\n",
       "\t  // exp is list of (feature_name, value, weight)\n",
       "\t\n",
       "\t\n",
       "\t  Explanation.prototype.show_raw_tabular = function show_raw_tabular(exp, label, div) {\n",
       "\t    div.classed('lime', true).classed('table_div', true);\n",
       "\t    var colors = ['#5F9EA0', this.colors_i(label)];\n",
       "\t    if (this.names.length == 2) {\n",
       "\t      colors = [this.colors_i(0), this.colors_i(1)];\n",
       "\t    }\n",
       "\t    var table = div.append('table');\n",
       "\t    var thead = table.append('tr');\n",
       "\t    thead.append('td').text('Feature');\n",
       "\t    thead.append('td').text('Value');\n",
       "\t    thead.style('color', 'black').style('font-size', '20px');\n",
       "\t    var _iteratorNormalCompletion2 = true;\n",
       "\t    var _didIteratorError2 = false;\n",
       "\t    var _iteratorError2 = undefined;\n",
       "\t\n",
       "\t    try {\n",
       "\t      for (var _iterator2 = exp[Symbol.iterator](), _step2; !(_iteratorNormalCompletion2 = (_step2 = _iterator2.next()).done); _iteratorNormalCompletion2 = true) {\n",
       "\t        var _step2$value = _slicedToArray(_step2.value, 3),\n",
       "\t            fname = _step2$value[0],\n",
       "\t            value = _step2$value[1],\n",
       "\t            weight = _step2$value[2];\n",
       "\t\n",
       "\t        var tr = table.append('tr');\n",
       "\t        tr.style('border-style', 'hidden');\n",
       "\t        tr.append('td').text(fname);\n",
       "\t        tr.append('td').text(value);\n",
       "\t        if (weight > 0) {\n",
       "\t          tr.style('background-color', colors[1]);\n",
       "\t        } else if (weight < 0) {\n",
       "\t          tr.style('background-color', colors[0]);\n",
       "\t        } else {\n",
       "\t          tr.style('color', 'black');\n",
       "\t        }\n",
       "\t      }\n",
       "\t    } catch (err) {\n",
       "\t      _didIteratorError2 = true;\n",
       "\t      _iteratorError2 = err;\n",
       "\t    } finally {\n",
       "\t      try {\n",
       "\t        if (!_iteratorNormalCompletion2 && _iterator2.return) {\n",
       "\t          _iterator2.return();\n",
       "\t        }\n",
       "\t      } finally {\n",
       "\t        if (_didIteratorError2) {\n",
       "\t          throw _iteratorError2;\n",
       "\t        }\n",
       "\t      }\n",
       "\t    }\n",
       "\t  };\n",
       "\t\n",
       "\t  Explanation.prototype.hexToRgb = function hexToRgb(hex) {\n",
       "\t    var result = /^#?([a-f\\d]{2})([a-f\\d]{2})([a-f\\d]{2})$/i.exec(hex);\n",
       "\t    return result ? {\n",
       "\t      r: parseInt(result[1], 16),\n",
       "\t      g: parseInt(result[2], 16),\n",
       "\t      b: parseInt(result[3], 16)\n",
       "\t    } : null;\n",
       "\t  };\n",
       "\t\n",
       "\t  Explanation.prototype.applyAlpha = function applyAlpha(hex, alpha) {\n",
       "\t    var components = this.hexToRgb(hex);\n",
       "\t    return 'rgba(' + components.r + \",\" + components.g + \",\" + components.b + \",\" + alpha.toFixed(3) + \")\";\n",
       "\t  };\n",
       "\t  // sord_lists is an array of arrays, of length (colors). if with_positions is true,\n",
       "\t  // word_lists is an array of [start,end] positions instead\n",
       "\t\n",
       "\t\n",
       "\t  Explanation.prototype.display_raw_text = function display_raw_text(div, raw_text) {\n",
       "\t    var word_lists = arguments.length > 2 && arguments[2] !== undefined ? arguments[2] : [];\n",
       "\t    var colors = arguments.length > 3 && arguments[3] !== undefined ? arguments[3] : [];\n",
       "\t    var max_weight = arguments.length > 4 && arguments[4] !== undefined ? arguments[4] : 1;\n",
       "\t    var positions = arguments.length > 5 && arguments[5] !== undefined ? arguments[5] : false;\n",
       "\t\n",
       "\t    div.classed('lime', true).classed('text_div', true);\n",
       "\t    div.append('h3').text('Text with highlighted words')"
      ],
      "text/plain": [
       "<IPython.core.display.HTML object>"
      ]
     },
     "metadata": {},
     "output_type": "display_data"
    },
    {
     "data": {
      "text/html": [
       "<b>limit_output extension: Maximum message size of 10000 exceeded with 1201791 characters</b>"
      ]
     },
     "metadata": {},
     "output_type": "display_data"
    }
   ],
   "source": [
    "exp.show_in_notebook(text=True)"
   ]
  },
  {
   "cell_type": "code",
   "execution_count": null,
   "metadata": {
    "collapsed": true
   },
   "outputs": [],
   "source": []
  }
 ],
 "metadata": {
  "anaconda-cloud": {},
  "hide_input": false,
  "kernelspec": {
   "display_name": "Python [conda root]",
   "language": "python",
   "name": "conda-root-py"
  },
  "language_info": {
   "codemirror_mode": {
    "name": "ipython",
    "version": 3
   },
   "file_extension": ".py",
   "mimetype": "text/x-python",
   "name": "python",
   "nbconvert_exporter": "python",
   "pygments_lexer": "ipython3",
   "version": "3.5.2"
  },
  "toc": {
   "colors": {
    "hover_highlight": "#DAA520",
    "running_highlight": "#FF0000",
    "selected_highlight": "#FFD700"
   },
   "moveMenuLeft": true,
   "nav_menu": {
    "height": "81px",
    "width": "252px"
   },
   "navigate_menu": true,
   "number_sections": true,
   "sideBar": true,
   "threshold": 4,
   "toc_cell": false,
   "toc_section_display": "block",
   "toc_window_display": false
  }
 },
 "nbformat": 4,
 "nbformat_minor": 1
}
